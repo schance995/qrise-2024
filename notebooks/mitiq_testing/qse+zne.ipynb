{
 "cells": [
  {
   "cell_type": "code",
   "execution_count": 1,
   "metadata": {},
   "outputs": [],
   "source": [
    "from mitiq import qse\n",
    "from typing import List\n",
    "import numpy as np\n",
    "import cirq"
   ]
  },
  {
   "cell_type": "code",
   "execution_count": 2,
   "metadata": {},
   "outputs": [],
   "source": [
    "def prepare_logical_0_state_for_5_1_3_code():\n",
    "    \"\"\"\n",
    "    To simplify the testing logic. We hardcode the the logical 0 and logical 1\n",
    "    states of the [[5,1,3]] code, copied from:\n",
    "    https://en.wikipedia.org/wiki/Five-qubit_error_correcting_code\n",
    "    We then use Gram-Schmidt orthogonalization to fill up the rest of the\n",
    "    matrix with orthonormal vectors.\n",
    "    Following this we construct a circuit that has this matrix as its gate.\n",
    "    \"\"\"\n",
    "\n",
    "    def gram_schmidt(\n",
    "        orthogonal_vecs: List[np.ndarray],\n",
    "    ) -> np.ndarray:\n",
    "        # normalize input\n",
    "        orthonormalVecs = [\n",
    "            vec / np.sqrt(np.vdot(vec, vec)) for vec in orthogonal_vecs\n",
    "        ]\n",
    "        dim = np.shape(orthogonal_vecs[0])[0]  # get dim of vector space\n",
    "        for i in range(dim - len(orthogonal_vecs)):\n",
    "            new_vec = np.zeros(dim)\n",
    "            new_vec[i] = 1  # construct ith basis vector\n",
    "            projs = sum(\n",
    "                [\n",
    "                    np.vdot(new_vec, cached_vec) * cached_vec\n",
    "                    for cached_vec in orthonormalVecs\n",
    "                ]\n",
    "            )  # sum of projections of new vec with all existing vecs\n",
    "            new_vec -= projs\n",
    "            orthonormalVecs.append(\n",
    "                new_vec / np.sqrt(np.vdot(new_vec, new_vec))\n",
    "            )\n",
    "        return np.reshape(orthonormalVecs, (32, 32)).T\n",
    "\n",
    "    logical_0_state = np.zeros(32)\n",
    "    for z in [\"00000\", \"10010\", \"01001\", \"10100\", \"01010\", \"00101\"]:\n",
    "        logical_0_state[int(z, 2)] = 1 / 4\n",
    "    for z in [\n",
    "        \"11011\",\n",
    "        \"00110\",\n",
    "        \"11000\",\n",
    "        \"11101\",\n",
    "        \"00011\",\n",
    "        \"11110\",\n",
    "        \"01111\",\n",
    "        \"10001\",\n",
    "        \"01100\",\n",
    "        \"10111\",\n",
    "    ]:\n",
    "        logical_0_state[int(z, 2)] = -1 / 4\n",
    "\n",
    "    logical_1_state = np.zeros(32)\n",
    "    for z in [\"11111\", \"01101\", \"10110\", \"01011\", \"10101\", \"11010\"]:\n",
    "        logical_1_state[int(z, 2)] = 1 / 4\n",
    "    for z in [\n",
    "        \"00100\",\n",
    "        \"11001\",\n",
    "        \"00111\",\n",
    "        \"00010\",\n",
    "        \"11100\",\n",
    "        \"00001\",\n",
    "        \"10000\",\n",
    "        \"01110\",\n",
    "        \"10011\",\n",
    "        \"01000\",\n",
    "    ]:\n",
    "        logical_1_state[int(z, 2)] = -1 / 4\n",
    "\n",
    "    # Fill up the rest of the matrix with orthonormal vectors\n",
    "    matrix = gram_schmidt([logical_0_state, logical_1_state])\n",
    "    circuit = cirq.Circuit()\n",
    "    g = cirq.MatrixGate(matrix)\n",
    "    qubits = cirq.LineQubit.range(5)\n",
    "    circuit.append(g(*qubits))\n",
    "\n",
    "    return circuit"
   ]
  },
  {
   "cell_type": "code",
   "execution_count": 3,
   "metadata": {},
   "outputs": [],
   "source": [
    "from typing import List\n",
    "import numpy as np\n",
    "import cirq\n",
    "from mitiq import QPROGRAM, Observable, PauliString, qse\n",
    "from mitiq.interface import convert_to_mitiq\n",
    "from mitiq.interface.mitiq_cirq import compute_density_matrix\n",
    "\n",
    "\n",
    "def execute_with_depolarized_noise(circuit: QPROGRAM) -> np.ndarray:\n",
    "    return compute_density_matrix(\n",
    "        convert_to_mitiq(circuit)[0],\n",
    "        noise_model_function=cirq.depolarize,\n",
    "        noise_level=(0.01,),\n",
    "    )"
   ]
  },
  {
   "cell_type": "code",
   "execution_count": 4,
   "metadata": {},
   "outputs": [],
   "source": [
    "def get_observable_in_code_space(observable: List[cirq.PauliString]):\n",
    "    FIVE_I = PauliString(\"IIIII\")\n",
    "    projector_onto_code_space = [\n",
    "        PauliString(\"XZZXI\"),\n",
    "        PauliString(\"IXZZX\"),\n",
    "        PauliString(\"XIXZZ\"),\n",
    "        PauliString(\"ZXIXZ\"),\n",
    "    ]\n",
    "\n",
    "    observable_in_code_space = Observable(FIVE_I)\n",
    "    all_paulis = projector_onto_code_space + [observable]\n",
    "    for g in all_paulis:\n",
    "        observable_in_code_space *= 0.5 * Observable(FIVE_I, g)\n",
    "    return observable_in_code_space"
   ]
  },
  {
   "cell_type": "code",
   "execution_count": 5,
   "metadata": {},
   "outputs": [],
   "source": [
    "def get_5_1_3_code_check_operators_and_code_hamiltonian() -> tuple:\n",
    "    \"\"\"\n",
    "    Returns the check operators and code Hamiltonian for the [[5,1,3]] code\n",
    "    The check operators are computed from the stabilizer generators:\n",
    "    (1+G1)(1+G2)(1+G3)(1+G4)  G = [XZZXI, IXZZX, XIXZZ, ZXIXZ]\n",
    "    source: https://en.wikipedia.org/wiki/Five-qubit_error_correcting_code\n",
    "    \"\"\"\n",
    "    Ms = [\n",
    "        \"YIYXX\",\n",
    "        \"ZIZYY\",\n",
    "        \"IXZZX\",\n",
    "        \"ZXIXZ\",\n",
    "        \"YYZIZ\",\n",
    "        \"XYIYX\",\n",
    "        \"YZIZY\",\n",
    "        \"ZZXIX\",\n",
    "        \"XZZXI\",\n",
    "        \"ZYYZI\",\n",
    "        \"IYXXY\",\n",
    "        \"IZYYZ\",\n",
    "        \"YXXYI\",\n",
    "        \"XXYIY\",\n",
    "        \"XIXZZ\",\n",
    "        \"IIIII\",\n",
    "    ]\n",
    "    Ms_as_pauliStrings = [\n",
    "        PauliString(M, coeff=1, support=range(5)) for M in Ms\n",
    "    ]\n",
    "    negative_Ms_as_pauliStrings = [\n",
    "        PauliString(M, coeff=-1, support=range(5)) for M in Ms\n",
    "    ]\n",
    "    Hc = Observable(*negative_Ms_as_pauliStrings)\n",
    "    return Ms_as_pauliStrings, Hc"
   ]
  },
  {
   "cell_type": "code",
   "execution_count": 6,
   "metadata": {},
   "outputs": [],
   "source": [
    "def demo_qse():\n",
    "  circuit = prepare_logical_0_state_for_5_1_3_code()\n",
    "  observable = get_observable_in_code_space(PauliString(\"ZZZZZ\"))\n",
    "  check_operators, code_hamiltonian = get_5_1_3_code_check_operators_and_code_hamiltonian()\n",
    "  return qse.execute_with_qse(\n",
    "        circuit,\n",
    "        execute_with_depolarized_noise,\n",
    "        check_operators,\n",
    "        code_hamiltonian,\n",
    "        observable,\n",
    "    )"
   ]
  },
  {
   "cell_type": "code",
   "execution_count": 7,
   "metadata": {},
   "outputs": [
    {
     "name": "stdout",
     "output_type": "stream",
     "text": [
      "0.9999992655115472\n"
     ]
    }
   ],
   "source": [
    "print(demo_qse())"
   ]
  },
  {
   "cell_type": "code",
   "execution_count": 8,
   "metadata": {},
   "outputs": [
    {
     "name": "stderr",
     "output_type": "stream",
     "text": [
      "/Users/bigsad/Downloads/qrise-2024/.venv/lib/python3.11/site-packages/mitiq/zne/inference.py:96: UserWarning: The input circuit is very short. This may reduce the accuracy of noise scaling.\n",
      "  warnings.warn(\n"
     ]
    },
    {
     "ename": "TypeError",
     "evalue": "demo_qse() takes 0 positional arguments but 1 was given",
     "output_type": "error",
     "traceback": [
      "\u001b[0;31m---------------------------------------------------------------------------\u001b[0m",
      "\u001b[0;31mTypeError\u001b[0m                                 Traceback (most recent call last)",
      "Cell \u001b[0;32mIn[8], line 5\u001b[0m\n\u001b[1;32m      1\u001b[0m \u001b[38;5;28;01mfrom\u001b[39;00m \u001b[38;5;21;01mmitiq\u001b[39;00m \u001b[38;5;28;01mimport\u001b[39;00m zne\n\u001b[1;32m      3\u001b[0m zne_qse_executor \u001b[38;5;241m=\u001b[39m zne\u001b[38;5;241m.\u001b[39mmitigate_executor(demo_qse, scale_noise\u001b[38;5;241m=\u001b[39mzne\u001b[38;5;241m.\u001b[39mscaling\u001b[38;5;241m.\u001b[39mfolding\u001b[38;5;241m.\u001b[39mfold_global)\n\u001b[0;32m----> 5\u001b[0m zne_qse_result \u001b[38;5;241m=\u001b[39m \u001b[43mzne_qse_executor\u001b[49m\u001b[43m(\u001b[49m\u001b[43mprepare_logical_0_state_for_5_1_3_code\u001b[49m\u001b[43m(\u001b[49m\u001b[43m)\u001b[49m\u001b[43m)\u001b[49m\n\u001b[1;32m      6\u001b[0m \u001b[38;5;28mprint\u001b[39m(\u001b[38;5;124m\"\u001b[39m\u001b[38;5;124mMitigated value obtained with qse + ZNE:\u001b[39m\u001b[38;5;124m\"\u001b[39m, \u001b[38;5;124m\"\u001b[39m\u001b[38;5;132;01m{:.5f}\u001b[39;00m\u001b[38;5;124m\"\u001b[39m\u001b[38;5;241m.\u001b[39mformat(zne_qse_result\u001b[38;5;241m.\u001b[39mreal))\n",
      "File \u001b[0;32m~/Downloads/qrise-2024/.venv/lib/python3.11/site-packages/mitiq/zne/zne.py:101\u001b[0m, in \u001b[0;36mmitigate_executor.<locals>.new_executor\u001b[0;34m(circuit)\u001b[0m\n\u001b[1;32m     99\u001b[0m \u001b[38;5;129m@wraps\u001b[39m(executor)\n\u001b[1;32m    100\u001b[0m \u001b[38;5;28;01mdef\u001b[39;00m \u001b[38;5;21mnew_executor\u001b[39m(circuit: QPROGRAM) \u001b[38;5;241m-\u001b[39m\u001b[38;5;241m>\u001b[39m \u001b[38;5;28mfloat\u001b[39m:\n\u001b[0;32m--> 101\u001b[0m     \u001b[38;5;28;01mreturn\u001b[39;00m \u001b[43mexecute_with_zne\u001b[49m\u001b[43m(\u001b[49m\n\u001b[1;32m    102\u001b[0m \u001b[43m        \u001b[49m\u001b[43mcircuit\u001b[49m\u001b[43m,\u001b[49m\n\u001b[1;32m    103\u001b[0m \u001b[43m        \u001b[49m\u001b[43mexecutor\u001b[49m\u001b[43m,\u001b[49m\n\u001b[1;32m    104\u001b[0m \u001b[43m        \u001b[49m\u001b[43mobservable\u001b[49m\u001b[43m,\u001b[49m\n\u001b[1;32m    105\u001b[0m \u001b[43m        \u001b[49m\u001b[43mfactory\u001b[49m\u001b[38;5;241;43m=\u001b[39;49m\u001b[43mfactory\u001b[49m\u001b[43m,\u001b[49m\n\u001b[1;32m    106\u001b[0m \u001b[43m        \u001b[49m\u001b[43mscale_noise\u001b[49m\u001b[38;5;241;43m=\u001b[39;49m\u001b[43mscale_noise\u001b[49m\u001b[43m,\u001b[49m\n\u001b[1;32m    107\u001b[0m \u001b[43m        \u001b[49m\u001b[43mnum_to_average\u001b[49m\u001b[38;5;241;43m=\u001b[39;49m\u001b[43mnum_to_average\u001b[49m\u001b[43m,\u001b[49m\n\u001b[1;32m    108\u001b[0m \u001b[43m    \u001b[49m\u001b[43m)\u001b[49m\n",
      "File \u001b[0;32m~/Downloads/qrise-2024/.venv/lib/python3.11/site-packages/mitiq/zne/zne.py:62\u001b[0m, in \u001b[0;36mexecute_with_zne\u001b[0;34m(circuit, executor, observable, factory, scale_noise, num_to_average)\u001b[0m\n\u001b[1;32m     59\u001b[0m \u001b[38;5;28;01mif\u001b[39;00m num_to_average \u001b[38;5;241m<\u001b[39m \u001b[38;5;241m1\u001b[39m:\n\u001b[1;32m     60\u001b[0m     \u001b[38;5;28;01mraise\u001b[39;00m \u001b[38;5;167;01mValueError\u001b[39;00m(\u001b[38;5;124m\"\u001b[39m\u001b[38;5;124mArgument `num_to_average` must be a positive int.\u001b[39m\u001b[38;5;124m\"\u001b[39m)\n\u001b[0;32m---> 62\u001b[0m \u001b[38;5;28;01mreturn\u001b[39;00m \u001b[43mfactory\u001b[49m\u001b[38;5;241;43m.\u001b[39;49m\u001b[43mrun\u001b[49m\u001b[43m(\u001b[49m\n\u001b[1;32m     63\u001b[0m \u001b[43m    \u001b[49m\u001b[43mcircuit\u001b[49m\u001b[43m,\u001b[49m\u001b[43m \u001b[49m\u001b[43mexecutor\u001b[49m\u001b[43m,\u001b[49m\u001b[43m \u001b[49m\u001b[43mobservable\u001b[49m\u001b[43m,\u001b[49m\u001b[43m \u001b[49m\u001b[43mscale_noise\u001b[49m\u001b[43m,\u001b[49m\u001b[43m \u001b[49m\u001b[38;5;28;43mint\u001b[39;49m\u001b[43m(\u001b[49m\u001b[43mnum_to_average\u001b[49m\u001b[43m)\u001b[49m\n\u001b[1;32m     64\u001b[0m \u001b[43m\u001b[49m\u001b[43m)\u001b[49m\u001b[38;5;241m.\u001b[39mreduce()\n",
      "File \u001b[0;32m~/Downloads/qrise-2024/.venv/lib/python3.11/site-packages/mitiq/zne/inference.py:567\u001b[0m, in \u001b[0;36mBatchedFactory.run\u001b[0;34m(self, qp, executor, observable, scale_noise, num_to_average)\u001b[0m\n\u001b[1;32m    560\u001b[0m         res\u001b[38;5;241m.\u001b[39mextend(\n\u001b[1;32m    561\u001b[0m             executor\u001b[38;5;241m.\u001b[39mevaluate(\n\u001b[1;32m    562\u001b[0m                 circuit, observable, force_run_all\u001b[38;5;241m=\u001b[39m\u001b[38;5;28;01mTrue\u001b[39;00m, \u001b[38;5;241m*\u001b[39m\u001b[38;5;241m*\u001b[39mkwargs\n\u001b[1;32m    563\u001b[0m             )\n\u001b[1;32m    564\u001b[0m         )\n\u001b[1;32m    565\u001b[0m \u001b[38;5;28;01melse\u001b[39;00m:\n\u001b[1;32m    566\u001b[0m     \u001b[38;5;66;03m# Else, run all circuits.\u001b[39;00m\n\u001b[0;32m--> 567\u001b[0m     res \u001b[38;5;241m=\u001b[39m \u001b[43mexecutor\u001b[49m\u001b[38;5;241;43m.\u001b[39;49m\u001b[43mevaluate\u001b[49m\u001b[43m(\u001b[49m\n\u001b[1;32m    568\u001b[0m \u001b[43m        \u001b[49m\u001b[43mto_run\u001b[49m\u001b[43m,\u001b[49m\u001b[43m \u001b[49m\u001b[43mobservable\u001b[49m\u001b[43m,\u001b[49m\u001b[43m \u001b[49m\u001b[43mforce_run_all\u001b[49m\u001b[38;5;241;43m=\u001b[39;49m\u001b[38;5;28;43;01mTrue\u001b[39;49;00m\u001b[43m,\u001b[49m\u001b[43m \u001b[49m\u001b[38;5;241;43m*\u001b[39;49m\u001b[38;5;241;43m*\u001b[39;49m\u001b[43mkwargs_list\u001b[49m\u001b[43m[\u001b[49m\u001b[38;5;241;43m0\u001b[39;49m\u001b[43m]\u001b[49m\n\u001b[1;32m    569\u001b[0m \u001b[43m    \u001b[49m\u001b[43m)\u001b[49m\n\u001b[1;32m    571\u001b[0m \u001b[38;5;66;03m# Reshape \"res\" to have \"num_to_average\" columns\u001b[39;00m\n\u001b[1;32m    572\u001b[0m reshaped \u001b[38;5;241m=\u001b[39m np\u001b[38;5;241m.\u001b[39marray(res)\u001b[38;5;241m.\u001b[39mreshape((\u001b[38;5;241m-\u001b[39m\u001b[38;5;241m1\u001b[39m, num_to_average))\n",
      "File \u001b[0;32m~/Downloads/qrise-2024/.venv/lib/python3.11/site-packages/mitiq/executor/executor.py:178\u001b[0m, in \u001b[0;36mExecutor.evaluate\u001b[0;34m(self, circuits, observable, force_run_all, **kwargs)\u001b[0m\n\u001b[1;32m    175\u001b[0m     result_step \u001b[38;5;241m=\u001b[39m \u001b[38;5;241m1\u001b[39m\n\u001b[1;32m    177\u001b[0m \u001b[38;5;66;03m# Run all required circuits.\u001b[39;00m\n\u001b[0;32m--> 178\u001b[0m all_results \u001b[38;5;241m=\u001b[39m \u001b[38;5;28;43mself\u001b[39;49m\u001b[38;5;241;43m.\u001b[39;49m\u001b[43mrun\u001b[49m\u001b[43m(\u001b[49m\u001b[43mall_circuits\u001b[49m\u001b[43m,\u001b[49m\u001b[43m \u001b[49m\u001b[43mforce_run_all\u001b[49m\u001b[43m,\u001b[49m\u001b[43m \u001b[49m\u001b[38;5;241;43m*\u001b[39;49m\u001b[38;5;241;43m*\u001b[39;49m\u001b[43mkwargs\u001b[49m\u001b[43m)\u001b[49m\n\u001b[1;32m    180\u001b[0m \u001b[38;5;66;03m# Parse the results.\u001b[39;00m\n\u001b[1;32m    181\u001b[0m \u001b[38;5;28;01mif\u001b[39;00m \u001b[38;5;28mself\u001b[39m\u001b[38;5;241m.\u001b[39m_executor_return_type \u001b[38;5;129;01min\u001b[39;00m FloatLike:\n",
      "File \u001b[0;32m~/Downloads/qrise-2024/.venv/lib/python3.11/site-packages/mitiq/executor/executor.py:256\u001b[0m, in \u001b[0;36mExecutor.run\u001b[0;34m(self, circuits, force_run_all, **kwargs)\u001b[0m\n\u001b[1;32m    254\u001b[0m \u001b[38;5;28;01mif\u001b[39;00m \u001b[38;5;129;01mnot\u001b[39;00m \u001b[38;5;28mself\u001b[39m\u001b[38;5;241m.\u001b[39mcan_batch:\n\u001b[1;32m    255\u001b[0m     \u001b[38;5;28;01mfor\u001b[39;00m circuit \u001b[38;5;129;01min\u001b[39;00m to_run:\n\u001b[0;32m--> 256\u001b[0m         \u001b[38;5;28;43mself\u001b[39;49m\u001b[38;5;241;43m.\u001b[39;49m\u001b[43m_call_executor\u001b[49m\u001b[43m(\u001b[49m\u001b[43mcircuit\u001b[49m\u001b[43m,\u001b[49m\u001b[43m \u001b[49m\u001b[38;5;241;43m*\u001b[39;49m\u001b[38;5;241;43m*\u001b[39;49m\u001b[43mkwargs\u001b[49m\u001b[43m)\u001b[49m\n\u001b[1;32m    258\u001b[0m \u001b[38;5;28;01melse\u001b[39;00m:\n\u001b[1;32m    259\u001b[0m     stop \u001b[38;5;241m=\u001b[39m \u001b[38;5;28mlen\u001b[39m(to_run)\n",
      "File \u001b[0;32m~/Downloads/qrise-2024/.venv/lib/python3.11/site-packages/mitiq/executor/executor.py:293\u001b[0m, in \u001b[0;36mExecutor._call_executor\u001b[0;34m(self, to_run, **kwargs)\u001b[0m\n\u001b[1;32m    283\u001b[0m \u001b[38;5;28;01mdef\u001b[39;00m \u001b[38;5;21m_call_executor\u001b[39m(\n\u001b[1;32m    284\u001b[0m     \u001b[38;5;28mself\u001b[39m, to_run: Union[QPROGRAM, Sequence[QPROGRAM]], \u001b[38;5;241m*\u001b[39m\u001b[38;5;241m*\u001b[39mkwargs: Any\n\u001b[1;32m    285\u001b[0m ) \u001b[38;5;241m-\u001b[39m\u001b[38;5;241m>\u001b[39m \u001b[38;5;28;01mNone\u001b[39;00m:\n\u001b[1;32m    286\u001b[0m \u001b[38;5;250m    \u001b[39m\u001b[38;5;124;03m\"\"\"Calls the executor on the input circuit(s) to run. Stores the\u001b[39;00m\n\u001b[1;32m    287\u001b[0m \u001b[38;5;124;03m    executed circuits in ``self._executed_circuits`` and the quantum\u001b[39;00m\n\u001b[1;32m    288\u001b[0m \u001b[38;5;124;03m    results in ``self._quantum_results``.\u001b[39;00m\n\u001b[0;32m   (...)\u001b[0m\n\u001b[1;32m    291\u001b[0m \u001b[38;5;124;03m        to_run: Circuit(s) to run.\u001b[39;00m\n\u001b[1;32m    292\u001b[0m \u001b[38;5;124;03m    \"\"\"\u001b[39;00m\n\u001b[0;32m--> 293\u001b[0m     result \u001b[38;5;241m=\u001b[39m \u001b[38;5;28;43mself\u001b[39;49m\u001b[38;5;241;43m.\u001b[39;49m\u001b[43m_executor\u001b[49m\u001b[43m(\u001b[49m\u001b[43mto_run\u001b[49m\u001b[43m,\u001b[49m\u001b[43m \u001b[49m\u001b[38;5;241;43m*\u001b[39;49m\u001b[38;5;241;43m*\u001b[39;49m\u001b[43mkwargs\u001b[49m\u001b[43m)\u001b[49m\n\u001b[1;32m    294\u001b[0m     \u001b[38;5;28mself\u001b[39m\u001b[38;5;241m.\u001b[39m_calls_to_executor \u001b[38;5;241m+\u001b[39m\u001b[38;5;241m=\u001b[39m \u001b[38;5;241m1\u001b[39m\n\u001b[1;32m    296\u001b[0m     \u001b[38;5;28;01mif\u001b[39;00m \u001b[38;5;28mself\u001b[39m\u001b[38;5;241m.\u001b[39mcan_batch:\n",
      "\u001b[0;31mTypeError\u001b[0m: demo_qse() takes 0 positional arguments but 1 was given"
     ]
    }
   ],
   "source": [
    "from mitiq import zne\n",
    "\n",
    "zne_qse_executor = zne.mitigate_executor(demo_qse, scale_noise=zne.scaling.folding.fold_global)\n",
    "\n",
    "zne_qse_result = zne_qse_executor(prepare_logical_0_state_for_5_1_3_code())\n",
    "print(\"Mitigated value obtained with qse + ZNE:\", \"{:.5f}\".format(zne_qse_result.real))"
   ]
  },
  {
   "cell_type": "code",
   "execution_count": 15,
   "metadata": {},
   "outputs": [
    {
     "name": "stdout",
     "output_type": "stream",
     "text": [
      "0.9509903192520142\n"
     ]
    }
   ],
   "source": [
    "circuit = prepare_logical_0_state_for_5_1_3_code()\n",
    "observable = get_observable_in_code_space(PauliString(\"ZZZZZ\"))\n",
    "print(observable.expectation(circuit, execute_with_depolarized_noise))"
   ]
  },
  {
   "cell_type": "code",
   "execution_count": 16,
   "metadata": {},
   "outputs": [
    {
     "name": "stdout",
     "output_type": "stream",
     "text": [
      "1.0\n"
     ]
    }
   ],
   "source": [
    "def execute_no_noise(circuit: QPROGRAM) -> np.ndarray:\n",
    "    return compute_density_matrix(\n",
    "        convert_to_mitiq(circuit)[0], noise_level=(0,)\n",
    "    )\n",
    "\n",
    "print(observable.expectation(circuit, execute_no_noise))"
   ]
  },
  {
   "cell_type": "code",
   "execution_count": null,
   "metadata": {},
   "outputs": [],
   "source": []
  }
 ],
 "metadata": {
  "kernelspec": {
   "display_name": ".venv",
   "language": "python",
   "name": "python3"
  },
  "language_info": {
   "codemirror_mode": {
    "name": "ipython",
    "version": 3
   },
   "file_extension": ".py",
   "mimetype": "text/x-python",
   "name": "python",
   "nbconvert_exporter": "python",
   "pygments_lexer": "ipython3",
   "version": "3.11.6+"
  }
 },
 "nbformat": 4,
 "nbformat_minor": 2
}
