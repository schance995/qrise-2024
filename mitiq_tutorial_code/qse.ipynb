{
 "cells": [
  {
   "cell_type": "code",
   "execution_count": 4,
   "metadata": {},
   "outputs": [],
   "source": [
    "from mitiq import qse\n",
    "from typing import List\n",
    "import numpy as np\n",
    "import cirq"
   ]
  },
  {
   "cell_type": "code",
   "execution_count": 9,
   "metadata": {},
   "outputs": [],
   "source": [
    "def prepare_logical_0_state_for_5_1_3_code():\n",
    "    \"\"\"\n",
    "    To simplify the testing logic. We hardcode the the logical 0 and logical 1\n",
    "    states of the [[5,1,3]] code, copied from:\n",
    "    https://en.wikipedia.org/wiki/Five-qubit_error_correcting_code\n",
    "    We then use Gram-Schmidt orthogonalization to fill up the rest of the\n",
    "    matrix with orthonormal vectors.\n",
    "    Following this we construct a circuit that has this matrix as its gate.\n",
    "    \"\"\"\n",
    "\n",
    "    def gram_schmidt(\n",
    "        orthogonal_vecs: List[np.ndarray],\n",
    "    ) -> np.ndarray:\n",
    "        # normalize input\n",
    "        orthonormalVecs = [\n",
    "            vec / np.sqrt(np.vdot(vec, vec)) for vec in orthogonal_vecs\n",
    "        ]\n",
    "        dim = np.shape(orthogonal_vecs[0])[0]  # get dim of vector space\n",
    "        for i in range(dim - len(orthogonal_vecs)):\n",
    "            new_vec = np.zeros(dim)\n",
    "            new_vec[i] = 1  # construct ith basis vector\n",
    "            projs = sum(\n",
    "                [\n",
    "                    np.vdot(new_vec, cached_vec) * cached_vec\n",
    "                    for cached_vec in orthonormalVecs\n",
    "                ]\n",
    "            )  # sum of projections of new vec with all existing vecs\n",
    "            new_vec -= projs\n",
    "            orthonormalVecs.append(\n",
    "                new_vec / np.sqrt(np.vdot(new_vec, new_vec))\n",
    "            )\n",
    "        return np.reshape(orthonormalVecs, (32, 32)).T\n",
    "\n",
    "    logical_0_state = np.zeros(32)\n",
    "    for z in [\"00000\", \"10010\", \"01001\", \"10100\", \"01010\", \"00101\"]:\n",
    "        logical_0_state[int(z, 2)] = 1 / 4\n",
    "    for z in [\n",
    "        \"11011\",\n",
    "        \"00110\",\n",
    "        \"11000\",\n",
    "        \"11101\",\n",
    "        \"00011\",\n",
    "        \"11110\",\n",
    "        \"01111\",\n",
    "        \"10001\",\n",
    "        \"01100\",\n",
    "        \"10111\",\n",
    "    ]:\n",
    "        logical_0_state[int(z, 2)] = -1 / 4\n",
    "\n",
    "    logical_1_state = np.zeros(32)\n",
    "    for z in [\"11111\", \"01101\", \"10110\", \"01011\", \"10101\", \"11010\"]:\n",
    "        logical_1_state[int(z, 2)] = 1 / 4\n",
    "    for z in [\n",
    "        \"00100\",\n",
    "        \"11001\",\n",
    "        \"00111\",\n",
    "        \"00010\",\n",
    "        \"11100\",\n",
    "        \"00001\",\n",
    "        \"10000\",\n",
    "        \"01110\",\n",
    "        \"10011\",\n",
    "        \"01000\",\n",
    "    ]:\n",
    "        logical_1_state[int(z, 2)] = -1 / 4\n",
    "\n",
    "    # Fill up the rest of the matrix with orthonormal vectors\n",
    "    matrix = gram_schmidt([logical_0_state, logical_1_state])\n",
    "    circuit = cirq.Circuit()\n",
    "    g = cirq.MatrixGate(matrix)\n",
    "    qubits = cirq.LineQubit.range(5)\n",
    "    circuit.append(g(*qubits))\n",
    "\n",
    "    return circuit"
   ]
  },
  {
   "cell_type": "code",
   "execution_count": 10,
   "metadata": {},
   "outputs": [],
   "source": [
    "from typing import List\n",
    "import numpy as np\n",
    "import cirq\n",
    "from mitiq import QPROGRAM, Observable, PauliString, qse\n",
    "from mitiq.interface import convert_to_mitiq\n",
    "from mitiq.interface.mitiq_cirq import compute_density_matrix\n",
    "\n",
    "\n",
    "def execute_with_depolarized_noise(circuit: QPROGRAM) -> np.ndarray:\n",
    "    return compute_density_matrix(\n",
    "        convert_to_mitiq(circuit)[0],\n",
    "        noise_model_function=cirq.depolarize,\n",
    "        noise_level=(0.01,),\n",
    "    )"
   ]
  },
  {
   "cell_type": "code",
   "execution_count": 11,
   "metadata": {},
   "outputs": [],
   "source": [
    "def get_observable_in_code_space(observable: List[cirq.PauliString]):\n",
    "    FIVE_I = PauliString(\"IIIII\")\n",
    "    projector_onto_code_space = [\n",
    "        PauliString(\"XZZXI\"),\n",
    "        PauliString(\"IXZZX\"),\n",
    "        PauliString(\"XIXZZ\"),\n",
    "        PauliString(\"ZXIXZ\"),\n",
    "    ]\n",
    "\n",
    "    observable_in_code_space = Observable(FIVE_I)\n",
    "    all_paulis = projector_onto_code_space + [observable]\n",
    "    for g in all_paulis:\n",
    "        observable_in_code_space *= 0.5 * Observable(FIVE_I, g)\n",
    "    return observable_in_code_space"
   ]
  },
  {
   "cell_type": "code",
   "execution_count": 12,
   "metadata": {},
   "outputs": [],
   "source": [
    "def get_5_1_3_code_check_operators_and_code_hamiltonian() -> tuple:\n",
    "    \"\"\"\n",
    "    Returns the check operators and code Hamiltonian for the [[5,1,3]] code\n",
    "    The check operators are computed from the stabilizer generators:\n",
    "    (1+G1)(1+G2)(1+G3)(1+G4)  G = [XZZXI, IXZZX, XIXZZ, ZXIXZ]\n",
    "    source: https://en.wikipedia.org/wiki/Five-qubit_error_correcting_code\n",
    "    \"\"\"\n",
    "    Ms = [\n",
    "        \"YIYXX\",\n",
    "        \"ZIZYY\",\n",
    "        \"IXZZX\",\n",
    "        \"ZXIXZ\",\n",
    "        \"YYZIZ\",\n",
    "        \"XYIYX\",\n",
    "        \"YZIZY\",\n",
    "        \"ZZXIX\",\n",
    "        \"XZZXI\",\n",
    "        \"ZYYZI\",\n",
    "        \"IYXXY\",\n",
    "        \"IZYYZ\",\n",
    "        \"YXXYI\",\n",
    "        \"XXYIY\",\n",
    "        \"XIXZZ\",\n",
    "        \"IIIII\",\n",
    "    ]\n",
    "    Ms_as_pauliStrings = [\n",
    "        PauliString(M, coeff=1, support=range(5)) for M in Ms\n",
    "    ]\n",
    "    negative_Ms_as_pauliStrings = [\n",
    "        PauliString(M, coeff=-1, support=range(5)) for M in Ms\n",
    "    ]\n",
    "    Hc = Observable(*negative_Ms_as_pauliStrings)\n",
    "    return Ms_as_pauliStrings, Hc"
   ]
  },
  {
   "cell_type": "code",
   "execution_count": 13,
   "metadata": {},
   "outputs": [],
   "source": [
    "def demo_qse():\n",
    "  circuit = prepare_logical_0_state_for_5_1_3_code()\n",
    "  observable = get_observable_in_code_space(PauliString(\"ZZZZZ\"))\n",
    "  check_operators, code_hamiltonian = get_5_1_3_code_check_operators_and_code_hamiltonian()\n",
    "  return qse.execute_with_qse(\n",
    "        circuit,\n",
    "        execute_with_depolarized_noise,\n",
    "        check_operators,\n",
    "        code_hamiltonian,\n",
    "        observable,\n",
    "    )"
   ]
  },
  {
   "cell_type": "code",
   "execution_count": 14,
   "metadata": {},
   "outputs": [
    {
     "name": "stdout",
     "output_type": "stream",
     "text": [
      "0.9999992655115472\n"
     ]
    }
   ],
   "source": [
    "print(demo_qse())"
   ]
  },
  {
   "cell_type": "code",
   "execution_count": 15,
   "metadata": {},
   "outputs": [
    {
     "name": "stdout",
     "output_type": "stream",
     "text": [
      "0.9509903192520142\n"
     ]
    }
   ],
   "source": [
    "circuit = prepare_logical_0_state_for_5_1_3_code()\n",
    "observable = get_observable_in_code_space(PauliString(\"ZZZZZ\"))\n",
    "print(observable.expectation(circuit, execute_with_depolarized_noise))"
   ]
  },
  {
   "cell_type": "code",
   "execution_count": 16,
   "metadata": {},
   "outputs": [
    {
     "name": "stdout",
     "output_type": "stream",
     "text": [
      "1.0\n"
     ]
    }
   ],
   "source": [
    "def execute_no_noise(circuit: QPROGRAM) -> np.ndarray:\n",
    "    return compute_density_matrix(\n",
    "        convert_to_mitiq(circuit)[0], noise_level=(0,)\n",
    "    )\n",
    "\n",
    "print(observable.expectation(circuit, execute_no_noise))"
   ]
  },
  {
   "cell_type": "code",
   "execution_count": null,
   "metadata": {},
   "outputs": [],
   "source": []
  }
 ],
 "metadata": {
  "kernelspec": {
   "display_name": ".venv",
   "language": "python",
   "name": "python3"
  },
  "language_info": {
   "codemirror_mode": {
    "name": "ipython",
    "version": 3
   },
   "file_extension": ".py",
   "mimetype": "text/x-python",
   "name": "python",
   "nbconvert_exporter": "python",
   "pygments_lexer": "ipython3",
   "version": "3.11.6+"
  }
 },
 "nbformat": 4,
 "nbformat_minor": 2
}
