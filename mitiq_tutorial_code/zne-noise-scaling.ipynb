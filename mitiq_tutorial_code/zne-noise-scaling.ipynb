{
 "cells": [
  {
   "cell_type": "markdown",
   "metadata": {},
   "source": [
    "This notebook compares ZNE noise scaling methods: identity insertion and unitary folding.\n",
    "\n",
    "Unitary folding: $G \\mapsto GG^\\dag G$ \\\n",
    "Identity insertion: $G \\mapsto IG$"
   ]
  },
  {
   "cell_type": "code",
   "execution_count": 1,
   "metadata": {},
   "outputs": [
    {
     "name": "stdout",
     "output_type": "stream",
     "text": [
      "-----ORIGINAL-----\n",
      "0: ───H───@───────\n",
      "          │\n",
      "1: ───────X───@───\n",
      "              │\n",
      "2: ───────────X───\n",
      "\n",
      "-----------------FOLDING------------------\n",
      "0: ───H───@───────────@───H───H───@───────\n",
      "          │           │           │\n",
      "1: ───────X───@───@───X───────────X───@───\n",
      "              │   │                   │\n",
      "2: ───────────X───X───────────────────X───\n",
      "\n",
      "-----------------SCALING------------------\n",
      "0: ───H───I───I───@───I───I───────I───I───\n",
      "                  │\n",
      "1: ───────I───I───X───I───I───@───I───I───\n",
      "                              │\n",
      "2: ───────I───I───────I───I───X───I───I───\n"
     ]
    }
   ],
   "source": [
    "from mitiq.benchmarks import generate_ghz_circuit\n",
    "from mitiq.zne.scaling import insert_id_layers, fold_global\n",
    "\n",
    "demo = generate_ghz_circuit(3)\n",
    "scale_factor = 3\n",
    "\n",
    "print(\"-----ORIGINAL-----\")\n",
    "print(demo)\n",
    "print(\"\\n-----------------FOLDING------------------\")\n",
    "print(fold_global(demo, scale_factor))\n",
    "print(\"\\n-----------------SCALING------------------\")\n",
    "print(insert_id_layers(demo, scale_factor))"
   ]
  },
  {
   "cell_type": "markdown",
   "metadata": {},
   "source": [
    "### WARNING\n",
    "Unitary folding scales noise by applying an additional layer $GG^\\dag$ to the circuit. For non-hermitian gates $G$ and $G^\\dag$ may not have the same noise model, and hence noise is potentially scaled in an non-linear way.\n",
    "\n",
    "Similarly, the noise that predominantly scaled in identity insertion is that of idle qubit noise/decoherence."
   ]
  },
  {
   "cell_type": "code",
   "execution_count": 2,
   "metadata": {},
   "outputs": [
    {
     "name": "stdout",
     "output_type": "stream",
     "text": [
      "scale factor  original depth  folded depth  id insertion depth\n",
      "           1        3              3               3       \n",
      "           2        3              7               6       \n",
      "           3        3              9               9       \n",
      "           4        3              13             12       \n",
      "           5        3              15             15       \n",
      "           6        3              19             18       \n",
      "           7        3              21             21       \n",
      "           8        3              25             24       \n",
      "           9        3              27             27       \n"
     ]
    }
   ],
   "source": [
    "print(\n",
    "    \"{: >12}  {: ^14} {: ^14} {: ^15}\".format(\n",
    "        \"scale factor\", \"original depth\", \"folded depth\", \"id insertion depth\"\n",
    "    )\n",
    ")\n",
    "for scale_factor in range(1, 10):\n",
    "    folded_depth = len(fold_global(demo, scale_factor))\n",
    "    id_insert_depth = len(insert_id_layers(demo, scale_factor))\n",
    "    print(\n",
    "        \"{: >12}  {: ^14} {: ^14} {: ^15}\".format(\n",
    "            scale_factor, len(demo), folded_depth, id_insert_depth\n",
    "        )\n",
    "    )"
   ]
  },
  {
   "cell_type": "code",
   "execution_count": 3,
   "metadata": {},
   "outputs": [],
   "source": [
    "from mitiq.zne import execute_with_zne\n",
    "import cirq\n",
    "\n",
    "def execute(circuit, noise_level=0.05):\n",
    "    noisy_circuit = circuit.with_noise(cirq.depolarize(p=noise_level))\n",
    "    return (\n",
    "        cirq.DensityMatrixSimulator()\n",
    "        .simulate(noisy_circuit)\n",
    "        .final_density_matrix[0, 0]\n",
    "        .real\n",
    "    )"
   ]
  },
  {
   "cell_type": "code",
   "execution_count": 4,
   "metadata": {},
   "outputs": [
    {
     "data": {
      "text/plain": [
       "0.32638816162943873"
      ]
     },
     "execution_count": 4,
     "metadata": {},
     "output_type": "execute_result"
    }
   ],
   "source": [
    "execute_with_zne(generate_ghz_circuit(6), execute, scale_noise=insert_id_layers)"
   ]
  },
  {
   "cell_type": "code",
   "execution_count": 5,
   "metadata": {},
   "outputs": [],
   "source": [
    "def variational_circuit(gamma):\n",
    "    q0, q1 = cirq.LineQubit.range(2)\n",
    "\n",
    "    return cirq.Circuit(\n",
    "        [\n",
    "            cirq.rx(gamma)(q0),\n",
    "            cirq.CNOT(q0, q1),\n",
    "            cirq.rx(gamma)(q1),\n",
    "            cirq.CNOT(q0, q1),\n",
    "            cirq.rx(gamma)(q0),\n",
    "        ]\n",
    "    )"
   ]
  },
  {
   "cell_type": "code",
   "execution_count": 6,
   "metadata": {},
   "outputs": [
    {
     "name": "stdout",
     "output_type": "stream",
     "text": [
      "Avg improvement factor (`fold_global`):       1.8483\n",
      "Avg improvement factor (`insert_id_layers`):  7.9908\n"
     ]
    }
   ],
   "source": [
    "from random import uniform\n",
    "import numpy as np\n",
    "\n",
    "results = {\"fold\": [], \"id\": []}\n",
    "for _ in range(100):\n",
    "    gamma = uniform(0, 2 * np.pi)\n",
    "    circuit = variational_circuit(gamma)\n",
    "\n",
    "    ideal_expval = execute(circuit, noise_level=0.0)\n",
    "    noisy_expval = execute(circuit)\n",
    "    folded_expval = execute_with_zne(circuit, execute, scale_noise=fold_global)\n",
    "    id_expval = execute_with_zne(circuit, execute, scale_noise=insert_id_layers)\n",
    "\n",
    "    noisy_error = abs(ideal_expval - noisy_expval)\n",
    "    folded_IF = noisy_error / abs(ideal_expval - folded_expval)\n",
    "    scaled_IF = noisy_error / abs(ideal_expval - id_expval)\n",
    "\n",
    "    results[\"fold\"].append(folded_IF)\n",
    "    results[\"id\"].append(scaled_IF)\n",
    "\n",
    "print(\"Avg improvement factor (`fold_global`):      \", round(np.average(results[\"fold\"]), 4))\n",
    "print(\"Avg improvement factor (`insert_id_layers`): \", round(np.average(results[\"id\"]), 4))"
   ]
  },
  {
   "cell_type": "code",
   "execution_count": null,
   "metadata": {},
   "outputs": [],
   "source": []
  }
 ],
 "metadata": {
  "kernelspec": {
   "display_name": ".venv",
   "language": "python",
   "name": "python3"
  },
  "language_info": {
   "codemirror_mode": {
    "name": "ipython",
    "version": 3
   },
   "file_extension": ".py",
   "mimetype": "text/x-python",
   "name": "python",
   "nbconvert_exporter": "python",
   "pygments_lexer": "ipython3",
   "version": "3.11.6+"
  }
 },
 "nbformat": 4,
 "nbformat_minor": 2
}
