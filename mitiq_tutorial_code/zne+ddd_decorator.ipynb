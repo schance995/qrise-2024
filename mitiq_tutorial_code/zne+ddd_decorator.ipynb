{
  "cells": [
    {
      "cell_type": "markdown",
      "metadata": {},
      "source": [
        "# Mitiq Tutorial\n",
        "\n",
        "Before running this tutorial, make sure you have `mitiq` installed.\n",
        "\n",
        "```bash\n",
        "pip install mitiq\n",
        "```\n",
        "\n",
        "Use `pip list | grep mitiq` to ensure it is installed.\n",
        "\n",
        "# Goals\n",
        "\n",
        "- learn how to apply ZNE on a basic workflow\n",
        "- apply both ZNE and DDD in conjunction\n"
      ]
    },
    {
      "cell_type": "markdown",
      "metadata": {},
      "source": [
        "## Executors\n",
        "\n",
        "Executors are python functions that consume a quantum circuit, and output an expectation value.\n",
        "A type signature might look something like `Circuit -> float`.\n",
        "That said, executors can have additional arguments used to control other parts of the execution process.\n",
        "The circuit must be the first argument, however.\n"
      ]
    },
    {
      "cell_type": "code",
      "execution_count": 1,
      "metadata": {},
      "outputs": [],
      "source": [
        "import cirq\n",
        "\n",
        "\n",
        "def execute(circuit, noise_level=0.005):\n",
        "    \"\"\"Returns Tr[ρ |0⟩⟨0|] where ρ is the state prepared by the circuit\n",
        "    with depolarizing noise.\"\"\"\n",
        "\n",
        "    # add depolarizing noise\n",
        "    noisy_circuit = circuit.with_noise(cirq.depolarize(p=noise_level))\n",
        "\n",
        "    return (\n",
        "        cirq.DensityMatrixSimulator()\n",
        "        .simulate(noisy_circuit)\n",
        "        .final_density_matrix[0, 0]\n",
        "        .real\n",
        "    )"
      ]
    },
    {
      "cell_type": "markdown",
      "metadata": {},
      "source": [
        "## ZNE\n",
        "\n",
        "First, we define a simple circuit to work with.\n"
      ]
    },
    {
      "cell_type": "code",
      "execution_count": 2,
      "metadata": {},
      "outputs": [],
      "source": [
        "a, b, c = cirq.LineQubit.range(3)\n",
        "\n",
        "circuit = cirq.Circuit(\n",
        "    cirq.H(a),\n",
        "    cirq.CNOT(a, b),\n",
        "    cirq.CNOT(b, c),\n",
        "    cirq.S(a),\n",
        ")"
      ]
    },
    {
      "cell_type": "code",
      "execution_count": 3,
      "metadata": {},
      "outputs": [
        {
          "name": "stdout",
          "output_type": "stream",
          "text": [
            "0: ───H───@───S───\n",
            "          │\n",
            "1: ───────X───@───\n",
            "              │\n",
            "2: ───────────X───\n"
          ]
        }
      ],
      "source": [
        "print(circuit)"
      ]
    },
    {
      "cell_type": "markdown",
      "metadata": {},
      "source": [
        "### Unitary Folding\n",
        "\n",
        "Making the circuit longer, and hence noisier.\n"
      ]
    },
    {
      "cell_type": "code",
      "execution_count": 4,
      "metadata": {},
      "outputs": [
        {
          "name": "stdout",
          "output_type": "stream",
          "text": [
            "0: ───H───@───S───S^-1───@───H───H───@───S───S^-1───@───H───H───@───S───S^-1───@───H───H───@───S───S^-1───@───H───H───@───S───S^-1───@───H───H───@───S───S^-1───@───H───H───@───S───S^-1───@───H───H───@───S───S^-1───@───H───H───@───S───S^-1───@───H───H───@───S───S^-1───@───H───H───@───S───S^-1───@───H───H───@───S───S^-1───@───H───H───@───S───S^-1───@───H───H───@───S───S^-1───@───H───H───@───S───S^-1───@───H───H───@───S───S^-1───@───H───H───@───S───S^-1───@───H───H───@───S───S^-1───@───H───H───@───S───S^-1───@───H───H───@───S───S^-1───@───H───H───@───S───S^-1───@───H───H───@───S───S^-1───@───H───H───@───S───S^-1───@───H───H───@───S───S^-1───@───H───H───@───S───S^-1───@───H───H───@───S───S^-1───@───H───H───@───S───S^-1───@───H───H───@───S───S^-1───@───H───H───@───S───S^-1───@───H───H───@───S───S^-1───@───H───H───@───S───S^-1───@───H───H───@───S───S^-1───@───H───H───@───S───S^-1───@───H───H───@───S───S^-1───@───H───H───@───S───S^-1───@───H───H───@───S───S^-1───@───H───H───@───S───S^-1───@───H───H───@───S───S^-1───@───H───H───@───S───S^-1───@───H───H───@───S───S^-1───@───H───H───@───S───S^-1───@───H───H───@───S───S^-1───@───H───H───@───S───S^-1───@───H───H───@───S───S^-1───@───H───H───@───S───S^-1───@───H───H───@───S───S^-1───@───H───H───@───S───S^-1───@───H───H───@───S───S^-1───@───H───H───@───S───S^-1───@───H───H───@───S───S^-1───S───\n",
            "          │              │           │              │           │              │           │              │           │              │           │              │           │              │           │              │           │              │           │              │           │              │           │              │           │              │           │              │           │              │           │              │           │              │           │              │           │              │           │              │           │              │           │              │           │              │           │              │           │              │           │              │           │              │           │              │           │              │           │              │           │              │           │              │           │              │           │              │           │              │           │              │           │              │           │              │           │              │           │              │           │              │           │              │           │              │           │              │           │              │           │              │           │              │           │              │           │              │           │\n",
            "1: ───────X───@───@──────X───────────X───@───@──────X───────────X───@───@──────X───────────X───@───@──────X───────────X───@───@──────X───────────X───@───@──────X───────────X───@───@──────X───────────X───@───@──────X───────────X───@───@──────X───────────X───@───@──────X───────────X───@───@──────X───────────X───@───@──────X───────────X───@───@──────X───────────X───@───@──────X───────────X───@───@──────X───────────X───@───@──────X───────────X───@───@──────X───────────X───@───@──────X───────────X───@───@──────X───────────X───@───@──────X───────────X───@───@──────X───────────X───@───@──────X───────────X───@───@──────X───────────X───@───@──────X───────────X───@───@──────X───────────X───@───@──────X───────────X───@───@──────X───────────X───@───@──────X───────────X───@───@──────X───────────X───@───@──────X───────────X───@───@──────X───────────X───@───@──────X───────────X───@───@──────X───────────X───@───@──────X───────────X───@───@──────X───────────X───@───@──────X───────────X───@───@──────X───────────X───@───@──────X───────────X───@───@──────X───────────X───@───@──────X───────────X───@───@──────X───────────X───@───@──────X───────────X───@───@──────X───────────X───@───@──────X───────────X───@───@──────X───────────X───@───@──────X───────────X───@───@──────X───────────X───@───@──────X───────────X───@───@──────X───────────X───@───@──────@───\n",
            "              │   │                      │   │                      │   │                      │   │                      │   │                      │   │                      │   │                      │   │                      │   │                      │   │                      │   │                      │   │                      │   │                      │   │                      │   │                      │   │                      │   │                      │   │                      │   │                      │   │                      │   │                      │   │                      │   │                      │   │                      │   │                      │   │                      │   │                      │   │                      │   │                      │   │                      │   │                      │   │                      │   │                      │   │                      │   │                      │   │                      │   │                      │   │                      │   │                      │   │                      │   │                      │   │                      │   │                      │   │                      │   │                      │   │                      │   │                      │   │                      │   │                      │   │      │\n",
            "2: ───────────X───X──────────────────────X───X──────────────────────X───X──────────────────────X───X──────────────────────X───X──────────────────────X───X──────────────────────X───X──────────────────────X───X──────────────────────X───X──────────────────────X───X──────────────────────X───X──────────────────────X───X──────────────────────X───X──────────────────────X───X──────────────────────X───X──────────────────────X───X──────────────────────X───X──────────────────────X───X──────────────────────X───X──────────────────────X───X──────────────────────X───X──────────────────────X───X──────────────────────X───X──────────────────────X───X──────────────────────X───X──────────────────────X───X──────────────────────X───X──────────────────────X───X──────────────────────X───X──────────────────────X───X──────────────────────X───X──────────────────────X───X──────────────────────X───X──────────────────────X───X──────────────────────X───X──────────────────────X───X──────────────────────X───X──────────────────────X───X──────────────────────X───X──────────────────────X───X──────────────────────X───X──────────────────────X───X──────────────────────X───X──────────────────────X───X──────────────────────X───X──────────────────────X───X──────────────────────X───X──────────────────────X───X──────────────────────X───X──────────────────────X───X──────X───\n"
          ]
        }
      ],
      "source": [
        "from mitiq.zne.scaling import fold_gates_at_random, fold_global\n",
        "\n",
        "folded_circuit = fold_global(circuit, scale_factor=100)\n",
        "\n",
        "print(folded_circuit)"
      ]
    },
    {
      "cell_type": "markdown",
      "metadata": {},
      "source": [
        "### Extrapolation\n",
        "\n",
        "Computing the Zero-Noise limit.\n"
      ]
    },
    {
      "cell_type": "code",
      "execution_count": 5,
      "metadata": {},
      "outputs": [
        {
          "name": "stderr",
          "output_type": "stream",
          "text": [
            "/Users/bigsad/Downloads/qrise-2024/.venv/lib/python3.11/site-packages/mitiq/zne/inference.py:96: UserWarning: The input circuit is very short. This may reduce the accuracy of noise scaling.\n",
            "  warnings.warn(\n",
            "/Users/bigsad/Downloads/qrise-2024/.venv/lib/python3.11/site-packages/scipy/optimize/_minpack_py.py:1010: ExtrapolationWarning: The extrapolation fit may be ill-conditioned. Likely, more data points are necessary to fit the parameters of the model.\n",
            "  warnings.warn('Covariance of the parameters could not be estimated',\n"
          ]
        },
        {
          "data": {
            "text/plain": [
              "0.5042144887626608"
            ]
          },
          "execution_count": 5,
          "metadata": {},
          "output_type": "execute_result"
        }
      ],
      "source": [
        "from mitiq.zne.inference import RichardsonFactory, LinearFactory, ExpFactory\n",
        "\n",
        "factory = ExpFactory([1, 4, 7])\n",
        "\n",
        "factory.run(circuit, execute)\n",
        "factory.reduce()"
      ]
    },
    {
      "cell_type": "code",
      "execution_count": 6,
      "metadata": {},
      "outputs": [
        {
          "data": {
            "image/png": "[encoded data removed]",
            "text/plain": [
              "<Figure size 700x500 with 1 Axes>"
            ]
          },
          "metadata": {},
          "output_type": "display_data"
        }
      ],
      "source": [
        "factory.plot_fit();"
      ]
    },
    {
      "cell_type": "markdown",
      "metadata": {},
      "source": [
        "Randomized Benchmarking circuits are circuits that are in effect, equivalent to the identity. Hence, the ideal probability that the end state is $|00\\cdots 0\\rangle$ is 1.\n"
      ]
    },
    {
      "cell_type": "code",
      "execution_count": 7,
      "metadata": {},
      "outputs": [
        {
          "name": "stdout",
          "output_type": "stream",
          "text": [
            "{cirq.X(cirq.LineQubit(1)), (cirq.Y**-0.5).on(cirq.LineQubit(1)), cirq.CZ(cirq.LineQubit(0), cirq.LineQubit(1)), (cirq.X**0.0).on(cirq.LineQubit(0)), (cirq.X**-0.5).on(cirq.LineQubit(0)), (cirq.X**-0.5).on(cirq.LineQubit(1)), (cirq.Y**0.5).on(cirq.LineQubit(1)), (cirq.X**0.5).on(cirq.LineQubit(0)), (cirq.Y**0.0).on(cirq.LineQubit(0)), (cirq.X**0.5).on(cirq.LineQubit(1)), (cirq.X**0.0).on(cirq.LineQubit(1)), (cirq.Y**0.0).on(cirq.LineQubit(1)), (cirq.Y**0.5).on(cirq.LineQubit(0)), cirq.Y(cirq.LineQubit(0)), cirq.Y(cirq.LineQubit(1)), (cirq.Y**-0.5).on(cirq.LineQubit(0)), cirq.X(cirq.LineQubit(0))}\n"
          ]
        }
      ],
      "source": [
        "from mitiq.benchmarks import generate_rb_circuits\n",
        "\n",
        "circuit = generate_rb_circuits(2, num_cliffords=20)[0]\n",
        "\n",
        "print(set(circuit.all_operations()))"
      ]
    },
    {
      "cell_type": "code",
      "execution_count": 8,
      "metadata": {},
      "outputs": [
        {
          "name": "stdout",
          "output_type": "stream",
          "text": [
            "Error w/o  Mitiq: 0.583\n",
            "Error w Mitiq:    0.341\n"
          ]
        }
      ],
      "source": [
        "from mitiq import zne\n",
        "\n",
        "\n",
        "true_value = execute(circuit, noise_level=0.0)\n",
        "noisy_value = execute(circuit)\n",
        "zne_value = zne.execute_with_zne(circuit, execute)\n",
        "\n",
        "print(f\"Error w/o  Mitiq: {abs((true_value - noisy_value) / true_value):.3f}\")\n",
        "print(f\"Error w Mitiq:    {abs((true_value - zne_value) / true_value):.3f}\")"
      ]
    },
    {
      "cell_type": "markdown",
      "metadata": {},
      "source": [
        "### Exercise\n",
        "\n",
        "Keeping the circuit the same, can you get a smaller error by modifying some of the ZNE options?\n"
      ]
    },
    {
      "cell_type": "code",
      "execution_count": 12,
      "metadata": {},
      "outputs": [
        {
          "name": "stdout",
          "output_type": "stream",
          "text": [
            "Error w/o  Mitiq: 0.583\n",
            "Error w Mitiq:    0.353\n"
          ]
        }
      ],
      "source": [
        "from mitiq.zne.scaling import fold_global, fold_gates_at_random, insert_id_layers\n",
        "from mitiq.zne.inference import (\n",
        "    LinearFactory,\n",
        "    RichardsonFactory,\n",
        "    PolyFactory,\n",
        "    ExpFactory,\n",
        ")\n",
        "\n",
        "inference_method = RichardsonFactory([1,2,3])\n",
        "noise_scaling_method = insert_id_layers\n",
        "\n",
        "zne_value = zne.execute_with_zne(\n",
        "    circuit,\n",
        "    execute,\n",
        "    factory=inference_method,\n",
        "    scale_noise=noise_scaling_method,\n",
        ")\n",
        "\n",
        "print(f\"Error w/o  Mitiq: {abs((true_value - noisy_value) / true_value):.3f}\")\n",
        "print(f\"Error w Mitiq:    {abs((true_value - zne_value) / true_value):.3f}\")"
      ]
    },
    {
      "cell_type": "markdown",
      "metadata": {},
      "source": [
        "## DDD\n",
        "\n",
        "We'll first need to define a circuit with lots of idle qubits. GHZ circuits are perfect for this!\n"
      ]
    },
    {
      "cell_type": "code",
      "execution_count": 13,
      "metadata": {},
      "outputs": [
        {
          "name": "stdout",
          "output_type": "stream",
          "text": [
            "0: ───H───@───────────────────\n",
            "          │\n",
            "1: ───────X───@───────────────\n",
            "              │\n",
            "2: ───────────X───@───────────\n",
            "                  │\n",
            "3: ───────────────X───@───────\n",
            "                      │\n",
            "4: ───────────────────X───@───\n",
            "                          │\n",
            "5: ───────────────────────X───\n"
          ]
        }
      ],
      "source": [
        "from mitiq.benchmarks import generate_ghz_circuit\n",
        "\n",
        "num_qubits = 6\n",
        "ghz = generate_ghz_circuit(num_qubits)\n",
        "\n",
        "print(ghz)"
      ]
    },
    {
      "cell_type": "code",
      "execution_count": 14,
      "metadata": {},
      "outputs": [
        {
          "data": {
            "text/html": [
              "<pre style=\"overflow: auto; white-space: pre;\">0: ───H───@───I───X───X───I───\n",
              "          │\n",
              "1: ───────X───@───I───X───X───\n",
              "              │\n",
              "2: ───X───X───X───@───X───X───\n",
              "                  │\n",
              "3: ───I───X───X───X───@───────\n",
              "                      │\n",
              "4: ───I───X───X───I───X───@───\n",
              "                          │\n",
              "5: ───I───X───I───X───I───X───</pre>"
            ],
            "text/plain": [
              "0: ───H───@───I───X───X───I───\n",
              "          │\n",
              "1: ───────X───@───I───X───X───\n",
              "              │\n",
              "2: ───X───X───X───@───X───X───\n",
              "                  │\n",
              "3: ───I───X───X───X───@───────\n",
              "                      │\n",
              "4: ───I───X───X───I───X───@───\n",
              "                          │\n",
              "5: ───I───X───I───X───I───X───"
            ]
          },
          "execution_count": 14,
          "metadata": {},
          "output_type": "execute_result"
        }
      ],
      "source": [
        "from mitiq import ddd\n",
        "\n",
        "ddd.insert_ddd_sequences(ghz, rule=ddd.rules.xx)"
      ]
    },
    {
      "cell_type": "code",
      "execution_count": 15,
      "metadata": {},
      "outputs": [
        {
          "data": {
            "text/plain": [
              "0.4451800286769867"
            ]
          },
          "execution_count": 15,
          "metadata": {},
          "output_type": "execute_result"
        }
      ],
      "source": [
        "ddd.execute_with_ddd(ghz, execute, rule=ddd.rules.xx)"
      ]
    },
    {
      "cell_type": "markdown",
      "metadata": {},
      "source": [
        "# Stacking techniques\n",
        "\n",
        "Mitiq is designed with the capability of stacking multiple error mitigation techniques. Let's try to combine DDD and ZNE.\n"
      ]
    },
    {
      "cell_type": "code",
      "execution_count": 16,
      "metadata": {},
      "outputs": [],
      "source": [
        "from mitiq.zne.scaling import fold_global, fold_gates_at_random, insert_id_layers\n",
        "\n",
        "\n",
        "@ddd.ddd_decorator(rule=ddd.rules.xyxy)\n",
        "@zne.zne_decorator(factory=RichardsonFactory([1, 3, 7]), scale_noise=insert_id_layers)\n",
        "def new_execute(circuit):\n",
        "    return execute(circuit)"
      ]
    },
    {
      "cell_type": "code",
      "execution_count": 17,
      "metadata": {},
      "outputs": [
        {
          "data": {
            "text/plain": [
              "0.5344274155795572"
            ]
          },
          "execution_count": 17,
          "metadata": {},
          "output_type": "execute_result"
        }
      ],
      "source": [
        "new_execute(circuit)"
      ]
    },
    {
      "cell_type": "code",
      "execution_count": null,
      "metadata": {},
      "outputs": [
        {
          "data": {
            "text/html": [
              "<pre style=\"overflow: auto; white-space: pre;\">0: ───X^0────────────@───Y^0.5────@───Y^0.5────Y^-0.5───X^0───@───Y^0.5────X^0.5────Y^-0.5───X^0.5─────────@───X^0──────Y^-0.5───X^0.5─────────@───Y^0.5───X^0.5───Y^-0.5───X^0.5───Y^-0.5───@───X^-0.5───Y^-0.5───Y^-0.5───X^0.5───@───Y^0.5────@───Y^0.5────X^-0.5───Y^-0.5───@───X^0───X^-0.5───Y^0────────────@───X^0─────Y───────X^0.5───@───Y^0.5───X^0.5───X^0──────────────@───Y^-0.5───@───Y^0.5────@───Y───────X^-0.5───────────@───Y^0.5────@───Y────────X^0.5───Y^0.5───X^0───@───Y^0.5───X^0.5────X────────Y^0.5───@───X^-0.5───Y^-0.5───Y^-0.5───X^0.5───Y^-0.5───@───Y^0.5────@───X^-0.5───Y^-0.5───X^0.5───X^-0.5───Y^0─────@───X^-0.5───Y^-0.5───Y^0.5───X^0.5───Y^0.5───@───Y^0.5────@───X^-0.5───Y^-0.5───X^0.5───Y^-0.5───X^0.5───Y^-0.5───X^0───@───Y^0.5────@───Y───────X^0.5────X─────Y^0───@───X^0───Y^0.5───X^0.5───Y^0.5────@───X^0─────Y────────X^0──────────────@───Y^0.5────@───X^-0.5───Y^-0.5───X^0.5───\n",
              "                     │            │                           │                                            │                                   │                                             │                                      │            │                              │                                 │                           │                                    │            │            │                            │            │                                  │                                     │                                               │            │                                              │                                             │            │                                                             │            │                                │                                  │                                     │            │\n",
              "1: ───X─────Y^-0.5───@───X^-0.5───@───Y^-0.5───X^-0.5───Y^0───@───X^-0.5───Y^-0.5───X^0.5────Y^0.5───X^0───@───X^-0.5───Y^-0.5───X^0.5───X^0───@───Y^0.5───X^0.5───Y^0.5─────────────────────@───Y────────X^0.5────X^0.5────Y^0.5───@───X^-0.5───@───Y^-0.5───Y────────X────────@───Y─────X^0.5────X─────Y^-0.5───@───Y^0.5───Y^0.5───X^0.5───@───Y───────X^0.5───X^0.5───Y^-0.5───@───Y^0.5────@───Y^-0.5───@───Y^0.5───X^-0.5───Y^0.5───@───X^-0.5───@───Y^-0.5───X^0.5───Y^0.5─────────@───Y^0.5───X^-0.5───Y^-0.5───────────@───Y────────X^0.5────X────────Y^0.5────────────@───X^-0.5───@───X^0.5────Y^0.5────X^0.5───Y^-0.5───X^0.5───@───Y^0.5────X^0──────────────────────────────@───X^-0.5───@───X^0.5────Y────────X^0─────X^0.5────Y^0.5──────────────────@───X^-0.5───@───X^0.5───X^-0.5───Y^0─────────@───Y─────X^0.5───X───────Y^-0.5───@───Y^0.5───Y^-0.5───X^0.5───Y^-0.5───@───X^-0.5───@───X^0.5────Y^0.5────X^0.5───</pre>"
            ],
            "text/plain": [
              "0: ───X^0────────────@───Y^0.5────@───Y^0.5────Y^-0.5───X^0───@───Y^0.5────X^0.5────Y^-0.5───X^0.5─────────@───X^0──────Y^-0.5───X^0.5─────────@───Y^0.5───X^0.5───Y^-0.5───X^0.5───Y^-0.5───@───X^-0.5───Y^-0.5───Y^-0.5───X^0.5───@───Y^0.5────@───Y^0.5────X^-0.5───Y^-0.5───@───X^0───X^-0.5───Y^0────────────@───X^0─────Y───────X^0.5───@───Y^0.5───X^0.5───X^0──────────────@───Y^-0.5───@───Y^0.5────@───Y───────X^-0.5───────────@───Y^0.5────@───Y────────X^0.5───Y^0.5───X^0───@───Y^0.5───X^0.5────X────────Y^0.5───@───X^-0.5───Y^-0.5───Y^-0.5───X^0.5───Y^-0.5───@───Y^0.5────@───X^-0.5───Y^-0.5───X^0.5───X^-0.5───Y^0─────@───X^-0.5───Y^-0.5───Y^0.5───X^0.5───Y^0.5───@───Y^0.5────@───X^-0.5───Y^-0.5───X^0.5───Y^-0.5───X^0.5───Y^-0.5───X^0───@───Y^0.5────@───Y───────X^0.5────X─────Y^0───@───X^0───Y^0.5───X^0.5───Y^0.5────@───X^0─────Y────────X^0──────────────@───Y^0.5────@───X^-0.5───Y^-0.5───X^0.5───\n",
              "                     │            │                           │                                            │                                   │                                             │                                      │            │                              │                                 │                           │                                    │            │            │                            │            │                                  │                                     │                                               │            │                                              │                                             │            │                                                             │            │                                │                                  │                                     │            │\n",
              "1: ───X─────Y^-0.5───@───X^-0.5───@───Y^-0.5───X^-0.5───Y^0───@───X^-0.5───Y^-0.5───X^0.5────Y^0.5───X^0───@───X^-0.5───Y^-0.5───X^0.5───X^0───@───Y^0.5───X^0.5───Y^0.5─────────────────────@───Y────────X^0.5────X^0.5────Y^0.5───@───X^-0.5───@───Y^-0.5───Y────────X────────@───Y─────X^0.5────X─────Y^-0.5───@───Y^0.5───Y^0.5───X^0.5───@───Y───────X^0.5───X^0.5───Y^-0.5───@───Y^0.5────@───Y^-0.5───@───Y^0.5───X^-0.5───Y^0.5───@───X^-0.5───@───Y^-0.5───X^0.5───Y^0.5─────────@───Y^0.5───X^-0.5───Y^-0.5───────────@───Y────────X^0.5────X────────Y^0.5────────────@───X^-0.5───@───X^0.5────Y^0.5────X^0.5───Y^-0.5───X^0.5───@───Y^0.5────X^0──────────────────────────────@───X^-0.5───@───X^0.5────Y────────X^0─────X^0.5────Y^0.5──────────────────@───X^-0.5───@───X^0.5───X^-0.5───Y^0─────────@───Y─────X^0.5───X───────Y^-0.5───@───Y^0.5───Y^-0.5───X^0.5───Y^-0.5───@───X^-0.5───@───X^0.5────Y^0.5────X^0.5───"
            ]
          },
          "execution_count": 71,
          "metadata": {},
          "output_type": "execute_result"
        }
      ],
      "source": [
        "circuit"
      ]
    },
    {
      "cell_type": "code",
      "execution_count": null,
      "metadata": {},
      "outputs": [],
      "source": []
    }
  ],
  "metadata": {
    "kernelspec": {
      "display_name": "dev",
      "language": "python",
      "name": "python3"
    },
    "language_info": {
      "codemirror_mode": {
        "name": "ipython",
        "version": 3
      },
      "file_extension": ".py",
      "mimetype": "text/x-python",
      "name": "python",
      "nbconvert_exporter": "python",
      "pygments_lexer": "ipython3",
      "version": "3.11.6+"
    },
    "orig_nbformat": 4
  },
  "nbformat": 4,
  "nbformat_minor": 2
}
