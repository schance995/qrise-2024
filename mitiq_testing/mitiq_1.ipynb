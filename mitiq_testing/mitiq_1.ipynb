{
 "cells": [
  {
   "cell_type": "markdown",
   "metadata": {},
   "source": [
    "In this notebook, I'm going to attempt to run all the techniques on the same circuit"
   ]
  },
  {
   "cell_type": "code",
   "execution_count": 89,
   "metadata": {},
   "outputs": [],
   "source": [
    "import cirq\n",
    "import numpy as np\n",
    "from mitiq.benchmarks import generate_rb_circuits, ghz_circuits\n",
    "from mitiq import MeasurementResult, Observable, PauliString, raw\n",
    "from mitiq.shadows.shadows import *\n",
    "from mitiq.shadows.shadows_utils import *"
   ]
  },
  {
   "cell_type": "code",
   "execution_count": 90,
   "metadata": {},
   "outputs": [],
   "source": [
    "n_qubits = 2"
   ]
  },
  {
   "cell_type": "code",
   "execution_count": 91,
   "metadata": {},
   "outputs": [],
   "source": [
    "circuit = generate_rb_circuits(2, 10)[0]"
   ]
  },
  {
   "cell_type": "code",
   "execution_count": 115,
   "metadata": {},
   "outputs": [],
   "source": [
    "def execute(circuit: cirq.Circuit, noise_level: float = 0.002, p0: float = 0.05) -> MeasurementResult:\n",
    "    \"\"\"Execute a circuit with depolarizing noise of strength ``noise_level`` and readout errors ...\n",
    "    \"\"\"\n",
    "    measurements = circuit[-1]\n",
    "    circuit =  circuit[:-1]\n",
    "    circuit = circuit.with_noise(cirq.depolarize(noise_level))\n",
    "    circuit.append(cirq.bit_flip(p0).on_each(circuit.all_qubits()))\n",
    "    circuit.append(measurements)\n",
    "\n",
    "    simulator = cirq.DensityMatrixSimulator()\n",
    "\n",
    "    result = simulator.run(circuit, repetitions=1000)\n",
    "    bitstrings = np.column_stack(list(result.measurements.values()))\n",
    "    return MeasurementResult(bitstrings)"
   ]
  },
  {
   "cell_type": "code",
   "execution_count": 93,
   "metadata": {},
   "outputs": [],
   "source": [
    "obs = Observable(PauliString(\"ZI\"), PauliString(\"IZ\"))\n",
    "noisy = raw.execute(circuit, execute, obs)"
   ]
  },
  {
   "cell_type": "code",
   "execution_count": 94,
   "metadata": {},
   "outputs": [
    {
     "name": "stdout",
     "output_type": "stream",
     "text": [
      "Unmitigated value: 1.33800\n"
     ]
    }
   ],
   "source": [
    "from functools import partial\n",
    "\n",
    "ideal = raw.execute(circuit, partial(execute, noise_level=0, p0=0), obs)\n",
    "print(\"Unmitigated value:\", \"{:.5f}\".format(noisy.real))"
   ]
  },
  {
   "cell_type": "code",
   "execution_count": 95,
   "metadata": {},
   "outputs": [
    {
     "name": "stdout",
     "output_type": "stream",
     "text": [
      "Mitigated value obtained with REM: 1.45400\n"
     ]
    }
   ],
   "source": [
    "from mitiq import rem\n",
    "\n",
    "p0 = p1 = 0.05\n",
    "icm = rem.generate_inverse_confusion_matrix(2, p0, p1)\n",
    "rem_executor = rem.mitigate_executor(execute, inverse_confusion_matrix=icm)\n",
    "\n",
    "rem_result = obs.expectation(circuit, rem_executor)\n",
    "print(\"Mitigated value obtained with REM:\", \"{:.5f}\".format(rem_result.real))"
   ]
  },
  {
   "cell_type": "code",
   "execution_count": 9,
   "metadata": {},
   "outputs": [
    {
     "name": "stdout",
     "output_type": "stream",
     "text": [
      "Mitigated value obtained with ZNE: -0.00000\n"
     ]
    }
   ],
   "source": [
    "from mitiq import zne\n",
    "\n",
    "zne_executor = zne.mitigate_executor(execute, observable=obs, scale_noise=zne.scaling.folding.fold_global)\n",
    "zne_result = zne_executor(circuit)\n",
    "print(\"Mitigated value obtained with ZNE:\", \"{:.5f}\".format(zne_result.real))"
   ]
  },
  {
   "cell_type": "code",
   "execution_count": 38,
   "metadata": {},
   "outputs": [
    {
     "name": "stdout",
     "output_type": "stream",
     "text": [
      "17 OperationRepresentation objects produced, assuming 1.0% depolarizing noise.\n"
     ]
    },
    {
     "name": "stderr",
     "output_type": "stream",
     "text": [
      "/Users/bigsad/Downloads/qrise-2024/.venv/lib/python3.11/site-packages/mitiq/pec/pec.py:123: LargeSampleWarning: The number of PEC samples is very large. It may take several minutes. It may be necessary to reduce 'precision' or 'num_samples'.\n",
      "  warnings.warn(_LARGE_SAMPLE_WARN, LargeSampleWarning)\n"
     ]
    }
   ],
   "source": [
    "from mitiq.pec import execute_with_pec\n",
    "from mitiq.pec.representations.depolarizing import (\n",
    "    represent_operations_in_circuit_with_local_depolarizing_noise\n",
    ")\n",
    "from mitiq import Executor\n",
    "\n",
    "noisy_executor = Executor(execute)\n",
    "\n",
    "noise_level = 0.01\n",
    "reps = represent_operations_in_circuit_with_local_depolarizing_noise(circuit, noise_level)\n",
    "print(f\"{len(reps)} OperationRepresentation objects produced, assuming {100 * noise_level}% depolarizing noise.\")\n",
    "\n",
    "mitigated = execute_with_pec(\n",
    "    circuit=circuit,\n",
    "    executor=noisy_executor,\n",
    "    representations=reps,\n",
    "    observable=obs\n",
    ")\n",
    "mitigated_result = mitigated.real\n",
    "print(f\"Error-mitigated result with learning-based PEC: {mitigated_result:.5f}\")\n",
    "\n",
    "print(f\"Error with mitigation (PEC): {abs(ideal - mitigated_result):.{3}}\")"
   ]
  },
  {
   "cell_type": "code",
   "execution_count": 10,
   "metadata": {},
   "outputs": [
    {
     "name": "stderr",
     "output_type": "stream",
     "text": [
      "Measurement:   0%|          | 0/1 [00:00<?, ?it/s]"
     ]
    },
    {
     "name": "stderr",
     "output_type": "stream",
     "text": [
      "                                                          \r"
     ]
    },
    {
     "data": {
      "text/plain": [
       "(['10'], ['YX'])"
      ]
     },
     "execution_count": 10,
     "metadata": {},
     "output_type": "execute_result"
    }
   ],
   "source": [
    "# classical shadows\n",
    "shadow_quantum_processing(circuit, execute, 1)"
   ]
  },
  {
   "cell_type": "code",
   "execution_count": 11,
   "metadata": {},
   "outputs": [
    {
     "name": "stdout",
     "output_type": "stream",
     "text": [
      "n_total_measurements = 544\n"
     ]
    },
    {
     "name": "stderr",
     "output_type": "stream",
     "text": [
      "                                                              \r"
     ]
    }
   ],
   "source": [
    "# error rate of state reconstruction epsilon < 1.\n",
    "epsilon = 1\n",
    "# number of total measurements should perform for error rate epsilon\n",
    "n_total_measurements = n_measurements_tomography_bound(epsilon, n_qubits)\n",
    "\n",
    "print(\"n_total_measurements = {}\".format(n_total_measurements))\n",
    "shadow_outcomes = shadow_quantum_processing(\n",
    "    circuit, execute, n_total_measurements\n",
    ")"
   ]
  },
  {
   "cell_type": "code",
   "execution_count": 20,
   "metadata": {},
   "outputs": [],
   "source": [
    "# get shadow reconstruction of the density matrix\n",
    "output = classical_post_processing(\n",
    "    shadow_outcomes,\n",
    "    observables=[PauliString(\"ZI\"), PauliString(\"IZ\")]\n",
    "    # state_reconstruction=True,\n",
    ")\n",
    "# rho_shadow = output[\"reconstructed_state\"]"
   ]
  },
  {
   "cell_type": "code",
   "execution_count": 21,
   "metadata": {},
   "outputs": [
    {
     "data": {
      "text/plain": [
       "{'Z(q(0))': 0.7610294117647058, 'Z(q(1))': 0.6783088235294118}"
      ]
     },
     "execution_count": 21,
     "metadata": {},
     "output_type": "execute_result"
    }
   ],
   "source": [
    "output"
   ]
  },
  {
   "cell_type": "markdown",
   "metadata": {},
   "source": [
    "wtf why are there 2 values"
   ]
  },
  {
   "cell_type": "code",
   "execution_count": 12,
   "metadata": {},
   "outputs": [
    {
     "name": "stdout",
     "output_type": "stream",
     "text": [
      "Mitigated value obtained with REM + ZNE: 1.95920\n"
     ]
    }
   ],
   "source": [
    "combined_executor = zne.mitigate_executor(rem_executor, observable=obs, scale_noise=zne.scaling.folding.fold_global)\n",
    "\n",
    "combined_result = combined_executor(circuit)\n",
    "print(\"Mitigated value obtained with REM + ZNE:\", \"{:.5f}\".format(combined_result.real))"
   ]
  },
  {
   "cell_type": "code",
   "execution_count": 26,
   "metadata": {},
   "outputs": [
    {
     "name": "stdout",
     "output_type": "stream",
     "text": [
      "Mitigated value obtained with DDD: 2.00000\n"
     ]
    }
   ],
   "source": [
    "# DDD\n",
    "from mitiq import ddd\n",
    "\n",
    "rule = ddd.rules.yy # low key I have no idea what this means\n",
    "\n",
    "ddd_value = ddd.execute_with_ddd(\n",
    "    circuit,\n",
    "    execute,\n",
    "    observable=obs,\n",
    "    rule=rule,\n",
    ")\n",
    "print(\"Mitigated value obtained with DDD:\", \"{:.5f}\".format(ddd_value.real))"
   ]
  },
  {
   "cell_type": "code",
   "execution_count": 29,
   "metadata": {},
   "outputs": [
    {
     "ename": "ValueError",
     "evalue": "Measuring an empty set of qubits.",
     "output_type": "error",
     "traceback": [
      "\u001b[0;31m---------------------------------------------------------------------------\u001b[0m",
      "\u001b[0;31mValueError\u001b[0m                                Traceback (most recent call last)",
      "Cell \u001b[0;32mIn[29], line 19\u001b[0m\n\u001b[1;32m     14\u001b[0m negative_Ms_as_pauliStrings \u001b[38;5;241m=\u001b[39m [\n\u001b[1;32m     15\u001b[0m     PauliString(M, coeff\u001b[38;5;241m=\u001b[39m\u001b[38;5;241m-\u001b[39m\u001b[38;5;241m1\u001b[39m, support\u001b[38;5;241m=\u001b[39m\u001b[38;5;28mrange\u001b[39m(n_qubits)) \u001b[38;5;28;01mfor\u001b[39;00m M \u001b[38;5;129;01min\u001b[39;00m Ms\n\u001b[1;32m     16\u001b[0m ] \u001b[38;5;66;03m# low key copy pasta-ed these so they may not even be the right choice\u001b[39;00m\n\u001b[1;32m     17\u001b[0m code_hamiltonian \u001b[38;5;241m=\u001b[39m Observable(\u001b[38;5;241m*\u001b[39mnegative_Ms_as_pauliStrings)\n\u001b[0;32m---> 19\u001b[0m \u001b[43mqse\u001b[49m\u001b[38;5;241;43m.\u001b[39;49m\u001b[43mexecute_with_qse\u001b[49m\u001b[43m(\u001b[49m\n\u001b[1;32m     20\u001b[0m \u001b[43m    \u001b[49m\u001b[43mcircuit\u001b[49m\u001b[43m,\u001b[49m\n\u001b[1;32m     21\u001b[0m \u001b[43m    \u001b[49m\u001b[43mexecute\u001b[49m\u001b[43m,\u001b[49m\n\u001b[1;32m     22\u001b[0m \u001b[43m    \u001b[49m\u001b[43mcheck_operators\u001b[49m\u001b[43m,\u001b[49m\u001b[43m \u001b[49m\u001b[38;5;66;43;03m# not sure what these are, need further reading\u001b[39;49;00m\n\u001b[1;32m     23\u001b[0m \u001b[43m    \u001b[49m\u001b[43mcode_hamiltonian\u001b[49m\u001b[43m,\u001b[49m\n\u001b[1;32m     24\u001b[0m \u001b[43m    \u001b[49m\u001b[43mobs\u001b[49m\u001b[43m,\u001b[49m\n\u001b[1;32m     25\u001b[0m \u001b[43m)\u001b[49m\n",
      "File \u001b[0;32m~/Downloads/qrise-2024/.venv/lib/python3.11/site-packages/mitiq/qse/qse.py:43\u001b[0m, in \u001b[0;36mexecute_with_qse\u001b[0;34m(circuit, executor, check_operators, code_hamiltonian, observable, pauli_string_to_expectation_cache)\u001b[0m\n\u001b[1;32m     19\u001b[0m \u001b[38;5;28;01mdef\u001b[39;00m \u001b[38;5;21mexecute_with_qse\u001b[39m(\n\u001b[1;32m     20\u001b[0m     circuit: QPROGRAM,\n\u001b[1;32m     21\u001b[0m     executor: Union[Executor, Callable[[QPROGRAM], QuantumResult]],\n\u001b[0;32m   (...)\u001b[0m\n\u001b[1;32m     25\u001b[0m     pauli_string_to_expectation_cache: Dict[PauliString, \u001b[38;5;28mcomplex\u001b[39m] \u001b[38;5;241m=\u001b[39m {},\n\u001b[1;32m     26\u001b[0m ) \u001b[38;5;241m-\u001b[39m\u001b[38;5;241m>\u001b[39m \u001b[38;5;28mfloat\u001b[39m:\n\u001b[1;32m     27\u001b[0m \u001b[38;5;250m    \u001b[39m\u001b[38;5;124;03m\"\"\"Function for the calculation of an observable from some circuit of\u001b[39;00m\n\u001b[1;32m     28\u001b[0m \u001b[38;5;124;03m    interest to be mitigated with quantum subspace expansion (QSE).\u001b[39;00m\n\u001b[1;32m     29\u001b[0m \n\u001b[0;32m   (...)\u001b[0m\n\u001b[1;32m     41\u001b[0m \u001b[38;5;124;03m        The expectation value estimated with QSE.\u001b[39;00m\n\u001b[1;32m     42\u001b[0m \u001b[38;5;124;03m    \"\"\"\u001b[39;00m\n\u001b[0;32m---> 43\u001b[0m     projector \u001b[38;5;241m=\u001b[39m \u001b[43mget_projector\u001b[49m\u001b[43m(\u001b[49m\n\u001b[1;32m     44\u001b[0m \u001b[43m        \u001b[49m\u001b[43mcircuit\u001b[49m\u001b[43m,\u001b[49m\n\u001b[1;32m     45\u001b[0m \u001b[43m        \u001b[49m\u001b[43mexecutor\u001b[49m\u001b[43m,\u001b[49m\n\u001b[1;32m     46\u001b[0m \u001b[43m        \u001b[49m\u001b[43mcheck_operators\u001b[49m\u001b[43m,\u001b[49m\n\u001b[1;32m     47\u001b[0m \u001b[43m        \u001b[49m\u001b[43mcode_hamiltonian\u001b[49m\u001b[43m,\u001b[49m\n\u001b[1;32m     48\u001b[0m \u001b[43m        \u001b[49m\u001b[43mpauli_string_to_expectation_cache\u001b[49m\u001b[43m,\u001b[49m\n\u001b[1;32m     49\u001b[0m \u001b[43m    \u001b[49m\u001b[43m)\u001b[49m\n\u001b[1;32m     50\u001b[0m     \u001b[38;5;66;03m# Compute the expectation value of the observable: <P O P>\u001b[39;00m\n\u001b[1;32m     51\u001b[0m     pop \u001b[38;5;241m=\u001b[39m get_expectation_value_for_observable(\n\u001b[1;32m     52\u001b[0m         circuit,\n\u001b[1;32m     53\u001b[0m         executor,\n\u001b[1;32m     54\u001b[0m         projector \u001b[38;5;241m*\u001b[39m observable \u001b[38;5;241m*\u001b[39m projector,\n\u001b[1;32m     55\u001b[0m         pauli_string_to_expectation_cache,\n\u001b[1;32m     56\u001b[0m     )\n",
      "File \u001b[0;32m~/Downloads/qrise-2024/.venv/lib/python3.11/site-packages/mitiq/qse/qse_utils.py:31\u001b[0m, in \u001b[0;36mget_projector\u001b[0;34m(circuit, executor, check_operators, code_hamiltonian, pauli_string_to_expectation_cache)\u001b[0m\n\u001b[1;32m     19\u001b[0m \u001b[38;5;28;01mdef\u001b[39;00m \u001b[38;5;21mget_projector\u001b[39m(\n\u001b[1;32m     20\u001b[0m     circuit: QPROGRAM,\n\u001b[1;32m     21\u001b[0m     executor: Union[Executor, Callable[[QPROGRAM], QuantumResult]],\n\u001b[0;32m   (...)\u001b[0m\n\u001b[1;32m     24\u001b[0m     pauli_string_to_expectation_cache: Dict[PauliString, \u001b[38;5;28mcomplex\u001b[39m] \u001b[38;5;241m=\u001b[39m {},\n\u001b[1;32m     25\u001b[0m ) \u001b[38;5;241m-\u001b[39m\u001b[38;5;241m>\u001b[39m Observable:\n\u001b[1;32m     26\u001b[0m \u001b[38;5;250m    \u001b[39m\u001b[38;5;124;03m\"\"\"Computes the projector onto the code space defined by the\u001b[39;00m\n\u001b[1;32m     27\u001b[0m \u001b[38;5;124;03m    check_operators provided that minimizes the code_hamiltonian.\u001b[39;00m\n\u001b[1;32m     28\u001b[0m \n\u001b[1;32m     29\u001b[0m \u001b[38;5;124;03m    Returns: Projector as an Observable.\u001b[39;00m\n\u001b[1;32m     30\u001b[0m \u001b[38;5;124;03m    \"\"\"\u001b[39;00m\n\u001b[0;32m---> 31\u001b[0m     S \u001b[38;5;241m=\u001b[39m \u001b[43m_compute_overlap_matrix\u001b[49m\u001b[43m(\u001b[49m\n\u001b[1;32m     32\u001b[0m \u001b[43m        \u001b[49m\u001b[43mcircuit\u001b[49m\u001b[43m,\u001b[49m\u001b[43m \u001b[49m\u001b[43mexecutor\u001b[49m\u001b[43m,\u001b[49m\u001b[43m \u001b[49m\u001b[43mcheck_operators\u001b[49m\u001b[43m,\u001b[49m\u001b[43m \u001b[49m\u001b[43mpauli_string_to_expectation_cache\u001b[49m\n\u001b[1;32m     33\u001b[0m \u001b[43m    \u001b[49m\u001b[43m)\u001b[49m\n\u001b[1;32m     34\u001b[0m     H \u001b[38;5;241m=\u001b[39m _compute_overlap_matrix(\n\u001b[1;32m     35\u001b[0m         circuit,\n\u001b[1;32m     36\u001b[0m         executor,\n\u001b[0;32m   (...)\u001b[0m\n\u001b[1;32m     39\u001b[0m         code_hamiltonian,\n\u001b[1;32m     40\u001b[0m     )\n\u001b[1;32m     41\u001b[0m     \u001b[38;5;66;03m# We only want the smallest eigenvalue and corresponding eigenvector\u001b[39;00m\n",
      "File \u001b[0;32m~/Downloads/qrise-2024/.venv/lib/python3.11/site-packages/mitiq/qse/qse_utils.py:108\u001b[0m, in \u001b[0;36m_compute_overlap_matrix\u001b[0;34m(circuit, executor, check_operators, pauli_expectation_cache, code_hamiltonian)\u001b[0m\n\u001b[1;32m    106\u001b[0m     \u001b[38;5;28;01melse\u001b[39;00m:\n\u001b[1;32m    107\u001b[0m         observable \u001b[38;5;241m=\u001b[39m check_operators[i] \u001b[38;5;241m*\u001b[39m check_operators[j]\n\u001b[0;32m--> 108\u001b[0m     H[i, j] \u001b[38;5;241m=\u001b[39m \u001b[43mget_expectation_value_for_observable\u001b[49m\u001b[43m(\u001b[49m\n\u001b[1;32m    109\u001b[0m \u001b[43m        \u001b[49m\u001b[43mcircuit\u001b[49m\u001b[43m,\u001b[49m\u001b[43m \u001b[49m\u001b[43mexecutor\u001b[49m\u001b[43m,\u001b[49m\u001b[43m \u001b[49m\u001b[43mobservable\u001b[49m\u001b[43m,\u001b[49m\u001b[43m \u001b[49m\u001b[43mpauli_expectation_cache\u001b[49m\n\u001b[1;32m    110\u001b[0m \u001b[43m    \u001b[49m\u001b[43m)\u001b[49m\n\u001b[1;32m    111\u001b[0m \u001b[38;5;28;01mreturn\u001b[39;00m H\n",
      "File \u001b[0;32m~/Downloads/qrise-2024/.venv/lib/python3.11/site-packages/mitiq/qse/qse_utils.py:83\u001b[0m, in \u001b[0;36mget_expectation_value_for_observable\u001b[0;34m(circuit, executor, observable, pauli_expectation_cache)\u001b[0m\n\u001b[1;32m     76\u001b[0m     \u001b[38;5;28;01mreturn\u001b[39;00m (pauli_expectation_cache[cache_key] \u001b[38;5;241m*\u001b[39m pauli_string\u001b[38;5;241m.\u001b[39mcoeff)\u001b[38;5;241m.\u001b[39mreal\n\u001b[1;32m     78\u001b[0m paulis \u001b[38;5;241m=\u001b[39m (\n\u001b[1;32m     79\u001b[0m     [observable]\n\u001b[1;32m     80\u001b[0m     \u001b[38;5;28;01mif\u001b[39;00m \u001b[38;5;28misinstance\u001b[39m(observable, PauliString)\n\u001b[1;32m     81\u001b[0m     \u001b[38;5;28;01melse\u001b[39;00m observable\u001b[38;5;241m.\u001b[39mpaulis\n\u001b[1;32m     82\u001b[0m )\n\u001b[0;32m---> 83\u001b[0m expectation_value \u001b[38;5;241m=\u001b[39m \u001b[38;5;28;43msum\u001b[39;49m\u001b[43m(\u001b[49m\n\u001b[1;32m     84\u001b[0m \u001b[43m    \u001b[49m\u001b[43mget_expectation_value_for_one_pauli\u001b[49m\u001b[43m(\u001b[49m\u001b[43mpauli\u001b[49m\u001b[43m)\u001b[49m\u001b[43m \u001b[49m\u001b[38;5;28;43;01mfor\u001b[39;49;00m\u001b[43m \u001b[49m\u001b[43mpauli\u001b[49m\u001b[43m \u001b[49m\u001b[38;5;129;43;01min\u001b[39;49;00m\u001b[43m \u001b[49m\u001b[43mpaulis\u001b[49m\n\u001b[1;32m     85\u001b[0m \u001b[43m\u001b[49m\u001b[43m)\u001b[49m\n\u001b[1;32m     86\u001b[0m \u001b[38;5;28;01mreturn\u001b[39;00m expectation_value\n",
      "File \u001b[0;32m~/Downloads/qrise-2024/.venv/lib/python3.11/site-packages/mitiq/qse/qse_utils.py:84\u001b[0m, in \u001b[0;36m<genexpr>\u001b[0;34m(.0)\u001b[0m\n\u001b[1;32m     76\u001b[0m     \u001b[38;5;28;01mreturn\u001b[39;00m (pauli_expectation_cache[cache_key] \u001b[38;5;241m*\u001b[39m pauli_string\u001b[38;5;241m.\u001b[39mcoeff)\u001b[38;5;241m.\u001b[39mreal\n\u001b[1;32m     78\u001b[0m paulis \u001b[38;5;241m=\u001b[39m (\n\u001b[1;32m     79\u001b[0m     [observable]\n\u001b[1;32m     80\u001b[0m     \u001b[38;5;28;01mif\u001b[39;00m \u001b[38;5;28misinstance\u001b[39m(observable, PauliString)\n\u001b[1;32m     81\u001b[0m     \u001b[38;5;28;01melse\u001b[39;00m observable\u001b[38;5;241m.\u001b[39mpaulis\n\u001b[1;32m     82\u001b[0m )\n\u001b[1;32m     83\u001b[0m expectation_value \u001b[38;5;241m=\u001b[39m \u001b[38;5;28msum\u001b[39m(\n\u001b[0;32m---> 84\u001b[0m     \u001b[43mget_expectation_value_for_one_pauli\u001b[49m\u001b[43m(\u001b[49m\u001b[43mpauli\u001b[49m\u001b[43m)\u001b[49m \u001b[38;5;28;01mfor\u001b[39;00m pauli \u001b[38;5;129;01min\u001b[39;00m paulis\n\u001b[1;32m     85\u001b[0m )\n\u001b[1;32m     86\u001b[0m \u001b[38;5;28;01mreturn\u001b[39;00m expectation_value\n",
      "File \u001b[0;32m~/Downloads/qrise-2024/.venv/lib/python3.11/site-packages/mitiq/qse/qse_utils.py:73\u001b[0m, in \u001b[0;36mget_expectation_value_for_observable.<locals>.get_expectation_value_for_one_pauli\u001b[0;34m(pauli_string)\u001b[0m\n\u001b[1;32m     69\u001b[0m \u001b[38;5;28;01mdef\u001b[39;00m \u001b[38;5;21mget_expectation_value_for_one_pauli\u001b[39m(\n\u001b[1;32m     70\u001b[0m     pauli_string: PauliString,\n\u001b[1;32m     71\u001b[0m ) \u001b[38;5;241m-\u001b[39m\u001b[38;5;241m>\u001b[39m \u001b[38;5;28mfloat\u001b[39m:\n\u001b[1;32m     72\u001b[0m     cache_key \u001b[38;5;241m=\u001b[39m pauli_string\u001b[38;5;241m.\u001b[39mwith_coeff(\u001b[38;5;241m1\u001b[39m)\n\u001b[0;32m---> 73\u001b[0m     pauli_expectation_cache[cache_key] \u001b[38;5;241m=\u001b[39m \u001b[43mfinal_executor\u001b[49m\u001b[38;5;241;43m.\u001b[39;49m\u001b[43mevaluate\u001b[49m\u001b[43m(\u001b[49m\n\u001b[1;32m     74\u001b[0m \u001b[43m        \u001b[49m\u001b[43mcircuit\u001b[49m\u001b[43m,\u001b[49m\u001b[43m \u001b[49m\u001b[43mObservable\u001b[49m\u001b[43m(\u001b[49m\u001b[43mcache_key\u001b[49m\u001b[43m)\u001b[49m\n\u001b[1;32m     75\u001b[0m \u001b[43m    \u001b[49m\u001b[43m)\u001b[49m[\u001b[38;5;241m0\u001b[39m]\n\u001b[1;32m     76\u001b[0m     \u001b[38;5;28;01mreturn\u001b[39;00m (pauli_expectation_cache[cache_key] \u001b[38;5;241m*\u001b[39m pauli_string\u001b[38;5;241m.\u001b[39mcoeff)\u001b[38;5;241m.\u001b[39mreal\n",
      "File \u001b[0;32m~/Downloads/qrise-2024/.venv/lib/python3.11/site-packages/mitiq/executor/executor.py:157\u001b[0m, in \u001b[0;36mExecutor.evaluate\u001b[0;34m(self, circuits, observable, force_run_all, **kwargs)\u001b[0m\n\u001b[1;32m    152\u001b[0m \u001b[38;5;66;03m# Get all required circuits to run.\u001b[39;00m\n\u001b[1;32m    153\u001b[0m \u001b[38;5;28;01mif\u001b[39;00m (\n\u001b[1;32m    154\u001b[0m     observable \u001b[38;5;129;01mis\u001b[39;00m \u001b[38;5;129;01mnot\u001b[39;00m \u001b[38;5;28;01mNone\u001b[39;00m\n\u001b[1;32m    155\u001b[0m     \u001b[38;5;129;01mand\u001b[39;00m \u001b[38;5;28mself\u001b[39m\u001b[38;5;241m.\u001b[39m_executor_return_type \u001b[38;5;129;01min\u001b[39;00m MeasurementResultLike\n\u001b[1;32m    156\u001b[0m ):\n\u001b[0;32m--> 157\u001b[0m     all_circuits \u001b[38;5;241m=\u001b[39m \u001b[43m[\u001b[49m\n\u001b[1;32m    158\u001b[0m \u001b[43m        \u001b[49m\u001b[43mcircuit_with_measurements\u001b[49m\n\u001b[1;32m    159\u001b[0m \u001b[43m        \u001b[49m\u001b[38;5;28;43;01mfor\u001b[39;49;00m\u001b[43m \u001b[49m\u001b[43mcircuit\u001b[49m\u001b[43m \u001b[49m\u001b[38;5;129;43;01min\u001b[39;49;00m\u001b[43m \u001b[49m\u001b[43mcircuits\u001b[49m\n\u001b[1;32m    160\u001b[0m \u001b[43m        \u001b[49m\u001b[38;5;28;43;01mfor\u001b[39;49;00m\u001b[43m \u001b[49m\u001b[43mcircuit_with_measurements\u001b[49m\u001b[43m \u001b[49m\u001b[38;5;129;43;01min\u001b[39;49;00m\u001b[43m \u001b[49m\u001b[43mobservable\u001b[49m\u001b[38;5;241;43m.\u001b[39;49m\u001b[43mmeasure_in\u001b[49m\u001b[43m(\u001b[49m\u001b[43mcircuit\u001b[49m\u001b[43m)\u001b[49m\n\u001b[1;32m    161\u001b[0m \u001b[43m    \u001b[49m\u001b[43m]\u001b[49m\n\u001b[1;32m    162\u001b[0m     result_step \u001b[38;5;241m=\u001b[39m observable\u001b[38;5;241m.\u001b[39mngroups\n\u001b[1;32m    163\u001b[0m \u001b[38;5;28;01melif\u001b[39;00m (\n\u001b[1;32m    164\u001b[0m     observable \u001b[38;5;129;01mis\u001b[39;00m \u001b[38;5;129;01mnot\u001b[39;00m \u001b[38;5;28;01mNone\u001b[39;00m\n\u001b[1;32m    165\u001b[0m     \u001b[38;5;129;01mand\u001b[39;00m \u001b[38;5;28mself\u001b[39m\u001b[38;5;241m.\u001b[39m_executor_return_type \u001b[38;5;129;01mnot\u001b[39;00m \u001b[38;5;129;01min\u001b[39;00m MeasurementResultLike\n\u001b[1;32m    166\u001b[0m     \u001b[38;5;129;01mand\u001b[39;00m \u001b[38;5;28mself\u001b[39m\u001b[38;5;241m.\u001b[39m_executor_return_type \u001b[38;5;129;01mnot\u001b[39;00m \u001b[38;5;129;01min\u001b[39;00m DensityMatrixLike\n\u001b[1;32m    167\u001b[0m ):\n",
      "File \u001b[0;32m~/Downloads/qrise-2024/.venv/lib/python3.11/site-packages/mitiq/executor/executor.py:160\u001b[0m, in \u001b[0;36m<listcomp>\u001b[0;34m(.0)\u001b[0m\n\u001b[1;32m    152\u001b[0m \u001b[38;5;66;03m# Get all required circuits to run.\u001b[39;00m\n\u001b[1;32m    153\u001b[0m \u001b[38;5;28;01mif\u001b[39;00m (\n\u001b[1;32m    154\u001b[0m     observable \u001b[38;5;129;01mis\u001b[39;00m \u001b[38;5;129;01mnot\u001b[39;00m \u001b[38;5;28;01mNone\u001b[39;00m\n\u001b[1;32m    155\u001b[0m     \u001b[38;5;129;01mand\u001b[39;00m \u001b[38;5;28mself\u001b[39m\u001b[38;5;241m.\u001b[39m_executor_return_type \u001b[38;5;129;01min\u001b[39;00m MeasurementResultLike\n\u001b[1;32m    156\u001b[0m ):\n\u001b[1;32m    157\u001b[0m     all_circuits \u001b[38;5;241m=\u001b[39m [\n\u001b[1;32m    158\u001b[0m         circuit_with_measurements\n\u001b[1;32m    159\u001b[0m         \u001b[38;5;28;01mfor\u001b[39;00m circuit \u001b[38;5;129;01min\u001b[39;00m circuits\n\u001b[0;32m--> 160\u001b[0m         \u001b[38;5;28;01mfor\u001b[39;00m circuit_with_measurements \u001b[38;5;129;01min\u001b[39;00m \u001b[43mobservable\u001b[49m\u001b[38;5;241;43m.\u001b[39;49m\u001b[43mmeasure_in\u001b[49m\u001b[43m(\u001b[49m\u001b[43mcircuit\u001b[49m\u001b[43m)\u001b[49m\n\u001b[1;32m    161\u001b[0m     ]\n\u001b[1;32m    162\u001b[0m     result_step \u001b[38;5;241m=\u001b[39m observable\u001b[38;5;241m.\u001b[39mngroups\n\u001b[1;32m    163\u001b[0m \u001b[38;5;28;01melif\u001b[39;00m (\n\u001b[1;32m    164\u001b[0m     observable \u001b[38;5;129;01mis\u001b[39;00m \u001b[38;5;129;01mnot\u001b[39;00m \u001b[38;5;28;01mNone\u001b[39;00m\n\u001b[1;32m    165\u001b[0m     \u001b[38;5;129;01mand\u001b[39;00m \u001b[38;5;28mself\u001b[39m\u001b[38;5;241m.\u001b[39m_executor_return_type \u001b[38;5;129;01mnot\u001b[39;00m \u001b[38;5;129;01min\u001b[39;00m MeasurementResultLike\n\u001b[1;32m    166\u001b[0m     \u001b[38;5;129;01mand\u001b[39;00m \u001b[38;5;28mself\u001b[39m\u001b[38;5;241m.\u001b[39m_executor_return_type \u001b[38;5;129;01mnot\u001b[39;00m \u001b[38;5;129;01min\u001b[39;00m DensityMatrixLike\n\u001b[1;32m    167\u001b[0m ):\n",
      "File \u001b[0;32m~/Downloads/qrise-2024/.venv/lib/python3.11/site-packages/mitiq/observable/observable.py:122\u001b[0m, in \u001b[0;36mObservable.measure_in\u001b[0;34m(self, circuit)\u001b[0m\n\u001b[1;32m    121\u001b[0m \u001b[38;5;28;01mdef\u001b[39;00m \u001b[38;5;21mmeasure_in\u001b[39m(\u001b[38;5;28mself\u001b[39m, circuit: QPROGRAM) \u001b[38;5;241m-\u001b[39m\u001b[38;5;241m>\u001b[39m List[QPROGRAM]:\n\u001b[0;32m--> 122\u001b[0m     \u001b[38;5;28;01mreturn\u001b[39;00m \u001b[43m[\u001b[49m\u001b[43mpset\u001b[49m\u001b[38;5;241;43m.\u001b[39;49m\u001b[43mmeasure_in\u001b[49m\u001b[43m(\u001b[49m\u001b[43mcircuit\u001b[49m\u001b[43m)\u001b[49m\u001b[43m \u001b[49m\u001b[38;5;28;43;01mfor\u001b[39;49;00m\u001b[43m \u001b[49m\u001b[43mpset\u001b[49m\u001b[43m \u001b[49m\u001b[38;5;129;43;01min\u001b[39;49;00m\u001b[43m \u001b[49m\u001b[38;5;28;43mself\u001b[39;49m\u001b[38;5;241;43m.\u001b[39;49m\u001b[43m_groups\u001b[49m\u001b[43m]\u001b[49m\n",
      "File \u001b[0;32m~/Downloads/qrise-2024/.venv/lib/python3.11/site-packages/mitiq/observable/observable.py:122\u001b[0m, in \u001b[0;36m<listcomp>\u001b[0;34m(.0)\u001b[0m\n\u001b[1;32m    121\u001b[0m \u001b[38;5;28;01mdef\u001b[39;00m \u001b[38;5;21mmeasure_in\u001b[39m(\u001b[38;5;28mself\u001b[39m, circuit: QPROGRAM) \u001b[38;5;241m-\u001b[39m\u001b[38;5;241m>\u001b[39m List[QPROGRAM]:\n\u001b[0;32m--> 122\u001b[0m     \u001b[38;5;28;01mreturn\u001b[39;00m [\u001b[43mpset\u001b[49m\u001b[38;5;241;43m.\u001b[39;49m\u001b[43mmeasure_in\u001b[49m\u001b[43m(\u001b[49m\u001b[43mcircuit\u001b[49m\u001b[43m)\u001b[49m \u001b[38;5;28;01mfor\u001b[39;00m pset \u001b[38;5;129;01min\u001b[39;00m \u001b[38;5;28mself\u001b[39m\u001b[38;5;241m.\u001b[39m_groups]\n",
      "File \u001b[0;32m~/Downloads/qrise-2024/.venv/lib/python3.11/site-packages/mitiq/observable/pauli.py:261\u001b[0m, in \u001b[0;36mPauliStringCollection.measure_in\u001b[0;34m(self, circuit)\u001b[0m\n\u001b[1;32m    260\u001b[0m \u001b[38;5;28;01mdef\u001b[39;00m \u001b[38;5;21mmeasure_in\u001b[39m(\u001b[38;5;28mself\u001b[39m, circuit: QPROGRAM) \u001b[38;5;241m-\u001b[39m\u001b[38;5;241m>\u001b[39m QPROGRAM:\n\u001b[0;32m--> 261\u001b[0m     \u001b[38;5;28;01mreturn\u001b[39;00m \u001b[38;5;28;43mself\u001b[39;49m\u001b[38;5;241;43m.\u001b[39;49m\u001b[43m_measure_in\u001b[49m\u001b[43m(\u001b[49m\u001b[43mcircuit\u001b[49m\u001b[43m,\u001b[49m\u001b[43m \u001b[49m\u001b[38;5;28;43mself\u001b[39;49m\u001b[43m)\u001b[49m\n",
      "File \u001b[0;32m~/Downloads/qrise-2024/.venv/lib/python3.11/site-packages/mitiq/interface/conversions.py:233\u001b[0m, in \u001b[0;36matomic_converter.<locals>.qprogram_modifier\u001b[0;34m(circuit, *args, **kwargs)\u001b[0m\n\u001b[1;32m    230\u001b[0m mitiq_circuit, input_circuit_type \u001b[38;5;241m=\u001b[39m convert_to_mitiq(circuit)\n\u001b[1;32m    232\u001b[0m \u001b[38;5;66;03m# Modify the Cirq circuit.\u001b[39;00m\n\u001b[0;32m--> 233\u001b[0m scaled_circuit \u001b[38;5;241m=\u001b[39m \u001b[43mcirq_circuit_modifier\u001b[49m\u001b[43m(\u001b[49m\u001b[43mmitiq_circuit\u001b[49m\u001b[43m,\u001b[49m\u001b[43m \u001b[49m\u001b[38;5;241;43m*\u001b[39;49m\u001b[43margs\u001b[49m\u001b[43m,\u001b[49m\u001b[43m \u001b[49m\u001b[38;5;241;43m*\u001b[39;49m\u001b[38;5;241;43m*\u001b[39;49m\u001b[43mkwargs\u001b[49m\u001b[43m)\u001b[49m\n\u001b[1;32m    235\u001b[0m \u001b[38;5;28;01mif\u001b[39;00m kwargs\u001b[38;5;241m.\u001b[39mget(\u001b[38;5;124m\"\u001b[39m\u001b[38;5;124mreturn_mitiq\u001b[39m\u001b[38;5;124m\"\u001b[39m) \u001b[38;5;129;01mis\u001b[39;00m \u001b[38;5;28;01mTrue\u001b[39;00m:\n\u001b[1;32m    236\u001b[0m     \u001b[38;5;28;01mreturn\u001b[39;00m scaled_circuit\n",
      "File \u001b[0;32m~/Downloads/qrise-2024/.venv/lib/python3.11/site-packages/mitiq/observable/pauli.py:289\u001b[0m, in \u001b[0;36mPauliStringCollection._measure_in\u001b[0;34m(circuit, paulis)\u001b[0m\n\u001b[1;32m    287\u001b[0m     basis_rotations\u001b[38;5;241m.\u001b[39mupdate(pauli\u001b[38;5;241m.\u001b[39m_basis_rotations())\n\u001b[1;32m    288\u001b[0m     support\u001b[38;5;241m.\u001b[39mupdate(pauli\u001b[38;5;241m.\u001b[39m_qubits_to_measure())\n\u001b[0;32m--> 289\u001b[0m measured \u001b[38;5;241m=\u001b[39m circuit \u001b[38;5;241m+\u001b[39m basis_rotations \u001b[38;5;241m+\u001b[39m \u001b[43mcirq\u001b[49m\u001b[38;5;241;43m.\u001b[39;49m\u001b[43mmeasure\u001b[49m\u001b[43m(\u001b[49m\u001b[38;5;241;43m*\u001b[39;49m\u001b[38;5;28;43msorted\u001b[39;49m\u001b[43m(\u001b[49m\u001b[43msupport\u001b[49m\u001b[43m)\u001b[49m\u001b[43m)\u001b[49m\n\u001b[1;32m    291\u001b[0m \u001b[38;5;66;03m# Transform circuit back to original qubits.\u001b[39;00m\n\u001b[1;32m    292\u001b[0m reverse_qubit_map \u001b[38;5;241m=\u001b[39m \u001b[38;5;28mdict\u001b[39m(\u001b[38;5;28mzip\u001b[39m(qubit_map\u001b[38;5;241m.\u001b[39mvalues(), qubit_map\u001b[38;5;241m.\u001b[39mkeys()))\n",
      "File \u001b[0;32m~/Downloads/qrise-2024/.venv/lib/python3.11/site-packages/cirq/ops/measure_util.py:164\u001b[0m, in \u001b[0;36mmeasure\u001b[0;34m(key, invert_mask, confusion_map, *target)\u001b[0m\n\u001b[1;32m    162\u001b[0m     key \u001b[38;5;241m=\u001b[39m _default_measurement_key(targets)\n\u001b[1;32m    163\u001b[0m qid_shape \u001b[38;5;241m=\u001b[39m protocols\u001b[38;5;241m.\u001b[39mqid_shape(targets)\n\u001b[0;32m--> 164\u001b[0m \u001b[38;5;28;01mreturn\u001b[39;00m \u001b[43mMeasurementGate\u001b[49m\u001b[43m(\u001b[49m\u001b[38;5;28;43mlen\u001b[39;49m\u001b[43m(\u001b[49m\u001b[43mtargets\u001b[49m\u001b[43m)\u001b[49m\u001b[43m,\u001b[49m\u001b[43m \u001b[49m\u001b[43mkey\u001b[49m\u001b[43m,\u001b[49m\u001b[43m \u001b[49m\u001b[43minvert_mask\u001b[49m\u001b[43m,\u001b[49m\u001b[43m \u001b[49m\u001b[43mqid_shape\u001b[49m\u001b[43m,\u001b[49m\u001b[43m \u001b[49m\u001b[43mconfusion_map\u001b[49m\u001b[43m)\u001b[49m\u001b[38;5;241m.\u001b[39mon(\u001b[38;5;241m*\u001b[39mtargets)\n",
      "File \u001b[0;32m~/Downloads/qrise-2024/.venv/lib/python3.11/site-packages/cirq/ops/measurement_gate.py:84\u001b[0m, in \u001b[0;36mMeasurementGate.__init__\u001b[0;34m(self, num_qubits, key, invert_mask, qid_shape, confusion_map)\u001b[0m\n\u001b[1;32m     82\u001b[0m     num_qubits \u001b[38;5;241m=\u001b[39m \u001b[38;5;28mlen\u001b[39m(qid_shape)\n\u001b[1;32m     83\u001b[0m \u001b[38;5;28;01mif\u001b[39;00m num_qubits \u001b[38;5;241m==\u001b[39m \u001b[38;5;241m0\u001b[39m:\n\u001b[0;32m---> 84\u001b[0m     \u001b[38;5;28;01mraise\u001b[39;00m \u001b[38;5;167;01mValueError\u001b[39;00m(\u001b[38;5;124m'\u001b[39m\u001b[38;5;124mMeasuring an empty set of qubits.\u001b[39m\u001b[38;5;124m'\u001b[39m)\n\u001b[1;32m     85\u001b[0m \u001b[38;5;28mself\u001b[39m\u001b[38;5;241m.\u001b[39m_qid_shape \u001b[38;5;241m=\u001b[39m qid_shape\n\u001b[1;32m     86\u001b[0m \u001b[38;5;28;01mif\u001b[39;00m \u001b[38;5;28mlen\u001b[39m(\u001b[38;5;28mself\u001b[39m\u001b[38;5;241m.\u001b[39m_qid_shape) \u001b[38;5;241m!=\u001b[39m num_qubits:\n",
      "\u001b[0;31mValueError\u001b[0m: Measuring an empty set of qubits."
     ]
    }
   ],
   "source": [
    "# QSE\n",
    "from mitiq import qse\n",
    "\n",
    "Ms = [ # chat GPT generated stabilizer group\n",
    "    \"II\",\n",
    "    \"XI\",\n",
    "    \"ZI\",\n",
    "    \"IX\",\n",
    "    \"IZ\"\n",
    "]\n",
    "check_operators = [\n",
    "    PauliString(M, coeff=1, support=range(n_qubits)) for M in Ms\n",
    "] # low key copy pasta-ed these so they may not even be the right choice\n",
    "negative_Ms_as_pauliStrings = [\n",
    "    PauliString(M, coeff=-1, support=range(n_qubits)) for M in Ms\n",
    "] # low key copy pasta-ed these so they may not even be the right choice\n",
    "code_hamiltonian = Observable(*negative_Ms_as_pauliStrings)\n",
    "\n",
    "qse.execute_with_qse(\n",
    "    circuit,\n",
    "    execute,\n",
    "    check_operators, # not sure what these are, need further reading\n",
    "    code_hamiltonian,\n",
    "    obs,\n",
    ")"
   ]
  },
  {
   "cell_type": "code",
   "execution_count": 126,
   "metadata": {},
   "outputs": [
    {
     "name": "stdout",
     "output_type": "stream",
     "text": [
      "mitigated expectation value with CDR: 2.00\n"
     ]
    }
   ],
   "source": [
    "# CDR\n",
    "from mitiq import cdr\n",
    "\n",
    "cdr_expval = cdr.execute_with_cdr(\n",
    "    circuit,\n",
    "    execute,\n",
    "    observable=obs,\n",
    "    simulator=partial(execute, noise_level=0, p0=0),\n",
    ").real\n",
    "print(f\"mitigated expectation value with CDR: {cdr_expval:.2f}\")"
   ]
  },
  {
   "cell_type": "code",
   "execution_count": 37,
   "metadata": {},
   "outputs": [
    {
     "ename": "AttributeError",
     "evalue": "'list' object has no attribute 'with_noise'",
     "output_type": "error",
     "traceback": [
      "\u001b[0;31m---------------------------------------------------------------------------\u001b[0m",
      "\u001b[0;31mAttributeError\u001b[0m                            Traceback (most recent call last)",
      "Cell \u001b[0;32mIn[37], line 7\u001b[0m\n\u001b[1;32m      2\u001b[0m \u001b[38;5;28;01mfrom\u001b[39;00m \u001b[38;5;21;01mmitiq\u001b[39;00m \u001b[38;5;28;01mimport\u001b[39;00m pt\n\u001b[1;32m      4\u001b[0m PT_circuit \u001b[38;5;241m=\u001b[39m pt\u001b[38;5;241m.\u001b[39mpauli_twirl_circuit(\n\u001b[1;32m      5\u001b[0m     circuit\u001b[38;5;241m=\u001b[39mcircuit, \u001b[38;5;66;03m# wait wtf but the noise isn't tied to the circuit???\u001b[39;00m\n\u001b[1;32m      6\u001b[0m )\n\u001b[0;32m----> 7\u001b[0m PT_result \u001b[38;5;241m=\u001b[39m \u001b[43mexecute\u001b[49m\u001b[43m(\u001b[49m\u001b[43mPT_circuit\u001b[49m\u001b[43m)\u001b[49m\n\u001b[1;32m      8\u001b[0m \u001b[38;5;28mprint\u001b[39m(\u001b[38;5;124mf\u001b[39m\u001b[38;5;124m\"\u001b[39m\u001b[38;5;124mmitigated expectation value with Pauli Twirling: \u001b[39m\u001b[38;5;132;01m{\u001b[39;00mPT_result\u001b[38;5;132;01m:\u001b[39;00m\u001b[38;5;124m.2f\u001b[39m\u001b[38;5;132;01m}\u001b[39;00m\u001b[38;5;124m\"\u001b[39m)\n",
      "Cell \u001b[0;32mIn[35], line 6\u001b[0m, in \u001b[0;36mexecute\u001b[0;34m(circuit, noise_level, p0)\u001b[0m\n\u001b[1;32m      4\u001b[0m measurements \u001b[38;5;241m=\u001b[39m circuit[\u001b[38;5;241m-\u001b[39m\u001b[38;5;241m1\u001b[39m]\n\u001b[1;32m      5\u001b[0m circuit \u001b[38;5;241m=\u001b[39m  circuit[:\u001b[38;5;241m-\u001b[39m\u001b[38;5;241m1\u001b[39m]\n\u001b[0;32m----> 6\u001b[0m circuit \u001b[38;5;241m=\u001b[39m \u001b[43mcircuit\u001b[49m\u001b[38;5;241;43m.\u001b[39;49m\u001b[43mwith_noise\u001b[49m(cirq\u001b[38;5;241m.\u001b[39mdepolarize(noise_level))\n\u001b[1;32m      7\u001b[0m circuit\u001b[38;5;241m.\u001b[39mappend(cirq\u001b[38;5;241m.\u001b[39mbit_flip(p0)\u001b[38;5;241m.\u001b[39mon_each(circuit\u001b[38;5;241m.\u001b[39mall_qubits()))\n\u001b[1;32m      8\u001b[0m circuit\u001b[38;5;241m.\u001b[39mappend(measurements)\n",
      "\u001b[0;31mAttributeError\u001b[0m: 'list' object has no attribute 'with_noise'"
     ]
    }
   ],
   "source": [
    "# # Pauli Twirling\n",
    "# from mitiq import pt\n",
    "\n",
    "# PT_circuit = pt.pauli_twirl_circuit(\n",
    "#     circuit=circuit, # wait wtf but the noise isn't tied to the circuit???\n",
    "# )\n",
    "# # and wtf do I execute\n",
    "# print(f\"mitigated expectation value with Pauli Twirling: {PT_result:.2f}\")"
   ]
  },
  {
   "cell_type": "code",
   "execution_count": 82,
   "metadata": {},
   "outputs": [
    {
     "name": "stdout",
     "output_type": "stream",
     "text": [
      "Mitigated value obtained with DDD + ZNE: 0.90398\n"
     ]
    }
   ],
   "source": [
    "# DDD + ZNE\n",
    "ddd_executor = ddd.mitigate_executor(execute, rule=rule)\n",
    "\n",
    "ddd_zne_executor = zne.mitigate_executor(ddd_executor, observable=None, scale_noise=zne.scaling.folding.fold_global)\n",
    "\n",
    "ddd_zne_result = ddd_zne_executor(circuit)\n",
    "print(\"Mitigated value obtained with DDD + ZNE:\", \"{:.5f}\".format(ddd_zne_result.real))"
   ]
  },
  {
   "cell_type": "code",
   "execution_count": 85,
   "metadata": {},
   "outputs": [
    {
     "name": "stdout",
     "output_type": "stream",
     "text": [
      "Mitigated value obtained with DDD + ZNE: 0.90398\n"
     ]
    }
   ],
   "source": [
    "# ZNE + DDD\n",
    "zne_executor = zne.mitigate_executor(execute, scale_noise=zne.scaling\n",
    ".folding.fold_global, observable=None)\n",
    "\n",
    "zne_ddd_executor = ddd.mitigate_executor(zne_executor, observable=None, rule=rule)\n",
    "\n",
    "zne_ddd_result = zne_ddd_executor(circuit)\n",
    "print(\"Mitigated value obtained with DDD + ZNE:\", \"{:.5f}\".format(zne_ddd_result.real))"
   ]
  },
  {
   "cell_type": "code",
   "execution_count": 116,
   "metadata": {},
   "outputs": [
    {
     "ename": "ValueError",
     "evalue": "Cannot extract 2D measurements for repeated keys",
     "output_type": "error",
     "traceback": [
      "\u001b[0;31m---------------------------------------------------------------------------\u001b[0m",
      "\u001b[0;31mValueError\u001b[0m                                Traceback (most recent call last)",
      "Cell \u001b[0;32mIn[116], line 7\u001b[0m\n\u001b[1;32m      2\u001b[0m rem_zne_executor \u001b[38;5;241m=\u001b[39m zne\u001b[38;5;241m.\u001b[39mmitigate_executor(rem_executor, scale_noise\u001b[38;5;241m=\u001b[39mzne\u001b[38;5;241m.\u001b[39mscaling\n\u001b[1;32m      3\u001b[0m \u001b[38;5;241m.\u001b[39mfolding\u001b[38;5;241m.\u001b[39mfold_global, observable\u001b[38;5;241m=\u001b[39mobs)\n\u001b[1;32m      5\u001b[0m rem_zne_ddd_executor \u001b[38;5;241m=\u001b[39m ddd\u001b[38;5;241m.\u001b[39mmitigate_executor(rem_zne_executor, observable\u001b[38;5;241m=\u001b[39mobs, rule\u001b[38;5;241m=\u001b[39mrule)\n\u001b[0;32m----> 7\u001b[0m rem_zne_ddd_result \u001b[38;5;241m=\u001b[39m \u001b[43mrem_zne_ddd_executor\u001b[49m\u001b[43m(\u001b[49m\u001b[43mcircuit\u001b[49m\u001b[43m)\u001b[49m\n\u001b[1;32m      8\u001b[0m \u001b[38;5;28mprint\u001b[39m(\u001b[38;5;124m\"\u001b[39m\u001b[38;5;124mMitigated value obtained with REM + DDD + ZNE:\u001b[39m\u001b[38;5;124m\"\u001b[39m, \u001b[38;5;124m\"\u001b[39m\u001b[38;5;132;01m{:.5f}\u001b[39;00m\u001b[38;5;124m\"\u001b[39m\u001b[38;5;241m.\u001b[39mformat(rem_zne_ddd_result\u001b[38;5;241m.\u001b[39mreal))\n",
      "File \u001b[0;32m~/Downloads/qrise-2024/.venv/lib/python3.11/site-packages/mitiq/ddd/ddd.py:130\u001b[0m, in \u001b[0;36mmitigate_executor.<locals>.new_executor\u001b[0;34m(circuit)\u001b[0m\n\u001b[1;32m    126\u001b[0m \u001b[38;5;129m@wraps\u001b[39m(executor)\n\u001b[1;32m    127\u001b[0m \u001b[38;5;28;01mdef\u001b[39;00m \u001b[38;5;21mnew_executor\u001b[39m(\n\u001b[1;32m    128\u001b[0m     circuit: QPROGRAM,\n\u001b[1;32m    129\u001b[0m ) \u001b[38;5;241m-\u001b[39m\u001b[38;5;241m>\u001b[39m Union[\u001b[38;5;28mfloat\u001b[39m, Tuple[\u001b[38;5;28mfloat\u001b[39m, Dict[\u001b[38;5;28mstr\u001b[39m, Any]]]:\n\u001b[0;32m--> 130\u001b[0m     \u001b[38;5;28;01mreturn\u001b[39;00m \u001b[43mexecute_with_ddd\u001b[49m\u001b[43m(\u001b[49m\n\u001b[1;32m    131\u001b[0m \u001b[43m        \u001b[49m\u001b[43mcircuit\u001b[49m\u001b[43m,\u001b[49m\n\u001b[1;32m    132\u001b[0m \u001b[43m        \u001b[49m\u001b[43mexecutor\u001b[49m\u001b[43m,\u001b[49m\n\u001b[1;32m    133\u001b[0m \u001b[43m        \u001b[49m\u001b[43mobservable\u001b[49m\u001b[43m,\u001b[49m\n\u001b[1;32m    134\u001b[0m \u001b[43m        \u001b[49m\u001b[43mrule\u001b[49m\u001b[38;5;241;43m=\u001b[39;49m\u001b[43mrule\u001b[49m\u001b[43m,\u001b[49m\n\u001b[1;32m    135\u001b[0m \u001b[43m        \u001b[49m\u001b[43mrule_args\u001b[49m\u001b[38;5;241;43m=\u001b[39;49m\u001b[43mrule_args\u001b[49m\u001b[43m,\u001b[49m\n\u001b[1;32m    136\u001b[0m \u001b[43m        \u001b[49m\u001b[43mnum_trials\u001b[49m\u001b[38;5;241;43m=\u001b[39;49m\u001b[43mnum_trials\u001b[49m\u001b[43m,\u001b[49m\n\u001b[1;32m    137\u001b[0m \u001b[43m        \u001b[49m\u001b[43mfull_output\u001b[49m\u001b[38;5;241;43m=\u001b[39;49m\u001b[43mfull_output\u001b[49m\u001b[43m,\u001b[49m\n\u001b[1;32m    138\u001b[0m \u001b[43m    \u001b[49m\u001b[43m)\u001b[49m\n",
      "File \u001b[0;32m~/Downloads/qrise-2024/.venv/lib/python3.11/site-packages/mitiq/ddd/ddd.py:69\u001b[0m, in \u001b[0;36mexecute_with_ddd\u001b[0;34m(circuit, executor, observable, rule, rule_args, num_trials, full_output)\u001b[0m\n\u001b[1;32m     65\u001b[0m \u001b[38;5;66;03m# Insert DDD sequences in (a copy of) the input circuit\u001b[39;00m\n\u001b[1;32m     66\u001b[0m circuits_with_ddd \u001b[38;5;241m=\u001b[39m [\n\u001b[1;32m     67\u001b[0m     insert_ddd_sequences(circuit, rule_partial) \u001b[38;5;28;01mfor\u001b[39;00m _ \u001b[38;5;129;01min\u001b[39;00m \u001b[38;5;28mrange\u001b[39m(num_trials)\n\u001b[1;32m     68\u001b[0m ]\n\u001b[0;32m---> 69\u001b[0m results \u001b[38;5;241m=\u001b[39m \u001b[43mexecutor\u001b[49m\u001b[38;5;241;43m.\u001b[39;49m\u001b[43mevaluate\u001b[49m\u001b[43m(\u001b[49m\n\u001b[1;32m     70\u001b[0m \u001b[43m    \u001b[49m\u001b[43mcircuits_with_ddd\u001b[49m\u001b[43m,\u001b[49m\n\u001b[1;32m     71\u001b[0m \u001b[43m    \u001b[49m\u001b[43mobservable\u001b[49m\u001b[43m,\u001b[49m\n\u001b[1;32m     72\u001b[0m \u001b[43m    \u001b[49m\u001b[43mforce_run_all\u001b[49m\u001b[38;5;241;43m=\u001b[39;49m\u001b[38;5;28;43;01mTrue\u001b[39;49;00m\u001b[43m,\u001b[49m\n\u001b[1;32m     73\u001b[0m \u001b[43m\u001b[49m\u001b[43m)\u001b[49m\n\u001b[1;32m     75\u001b[0m \u001b[38;5;28;01massert\u001b[39;00m \u001b[38;5;28mlen\u001b[39m(results) \u001b[38;5;241m==\u001b[39m num_trials\n\u001b[1;32m     77\u001b[0m ddd_value \u001b[38;5;241m=\u001b[39m np\u001b[38;5;241m.\u001b[39msum(results) \u001b[38;5;241m/\u001b[39m num_trials\n",
      "File \u001b[0;32m~/Downloads/qrise-2024/.venv/lib/python3.11/site-packages/mitiq/executor/executor.py:178\u001b[0m, in \u001b[0;36mExecutor.evaluate\u001b[0;34m(self, circuits, observable, force_run_all, **kwargs)\u001b[0m\n\u001b[1;32m    175\u001b[0m     result_step \u001b[38;5;241m=\u001b[39m \u001b[38;5;241m1\u001b[39m\n\u001b[1;32m    177\u001b[0m \u001b[38;5;66;03m# Run all required circuits.\u001b[39;00m\n\u001b[0;32m--> 178\u001b[0m all_results \u001b[38;5;241m=\u001b[39m \u001b[38;5;28;43mself\u001b[39;49m\u001b[38;5;241;43m.\u001b[39;49m\u001b[43mrun\u001b[49m\u001b[43m(\u001b[49m\u001b[43mall_circuits\u001b[49m\u001b[43m,\u001b[49m\u001b[43m \u001b[49m\u001b[43mforce_run_all\u001b[49m\u001b[43m,\u001b[49m\u001b[43m \u001b[49m\u001b[38;5;241;43m*\u001b[39;49m\u001b[38;5;241;43m*\u001b[39;49m\u001b[43mkwargs\u001b[49m\u001b[43m)\u001b[49m\n\u001b[1;32m    180\u001b[0m \u001b[38;5;66;03m# Parse the results.\u001b[39;00m\n\u001b[1;32m    181\u001b[0m \u001b[38;5;28;01mif\u001b[39;00m \u001b[38;5;28mself\u001b[39m\u001b[38;5;241m.\u001b[39m_executor_return_type \u001b[38;5;129;01min\u001b[39;00m FloatLike:\n",
      "File \u001b[0;32m~/Downloads/qrise-2024/.venv/lib/python3.11/site-packages/mitiq/executor/executor.py:256\u001b[0m, in \u001b[0;36mExecutor.run\u001b[0;34m(self, circuits, force_run_all, **kwargs)\u001b[0m\n\u001b[1;32m    254\u001b[0m \u001b[38;5;28;01mif\u001b[39;00m \u001b[38;5;129;01mnot\u001b[39;00m \u001b[38;5;28mself\u001b[39m\u001b[38;5;241m.\u001b[39mcan_batch:\n\u001b[1;32m    255\u001b[0m     \u001b[38;5;28;01mfor\u001b[39;00m circuit \u001b[38;5;129;01min\u001b[39;00m to_run:\n\u001b[0;32m--> 256\u001b[0m         \u001b[38;5;28;43mself\u001b[39;49m\u001b[38;5;241;43m.\u001b[39;49m\u001b[43m_call_executor\u001b[49m\u001b[43m(\u001b[49m\u001b[43mcircuit\u001b[49m\u001b[43m,\u001b[49m\u001b[43m \u001b[49m\u001b[38;5;241;43m*\u001b[39;49m\u001b[38;5;241;43m*\u001b[39;49m\u001b[43mkwargs\u001b[49m\u001b[43m)\u001b[49m\n\u001b[1;32m    258\u001b[0m \u001b[38;5;28;01melse\u001b[39;00m:\n\u001b[1;32m    259\u001b[0m     stop \u001b[38;5;241m=\u001b[39m \u001b[38;5;28mlen\u001b[39m(to_run)\n",
      "File \u001b[0;32m~/Downloads/qrise-2024/.venv/lib/python3.11/site-packages/mitiq/executor/executor.py:293\u001b[0m, in \u001b[0;36mExecutor._call_executor\u001b[0;34m(self, to_run, **kwargs)\u001b[0m\n\u001b[1;32m    283\u001b[0m \u001b[38;5;28;01mdef\u001b[39;00m \u001b[38;5;21m_call_executor\u001b[39m(\n\u001b[1;32m    284\u001b[0m     \u001b[38;5;28mself\u001b[39m, to_run: Union[QPROGRAM, Sequence[QPROGRAM]], \u001b[38;5;241m*\u001b[39m\u001b[38;5;241m*\u001b[39mkwargs: Any\n\u001b[1;32m    285\u001b[0m ) \u001b[38;5;241m-\u001b[39m\u001b[38;5;241m>\u001b[39m \u001b[38;5;28;01mNone\u001b[39;00m:\n\u001b[1;32m    286\u001b[0m \u001b[38;5;250m    \u001b[39m\u001b[38;5;124;03m\"\"\"Calls the executor on the input circuit(s) to run. Stores the\u001b[39;00m\n\u001b[1;32m    287\u001b[0m \u001b[38;5;124;03m    executed circuits in ``self._executed_circuits`` and the quantum\u001b[39;00m\n\u001b[1;32m    288\u001b[0m \u001b[38;5;124;03m    results in ``self._quantum_results``.\u001b[39;00m\n\u001b[0;32m   (...)\u001b[0m\n\u001b[1;32m    291\u001b[0m \u001b[38;5;124;03m        to_run: Circuit(s) to run.\u001b[39;00m\n\u001b[1;32m    292\u001b[0m \u001b[38;5;124;03m    \"\"\"\u001b[39;00m\n\u001b[0;32m--> 293\u001b[0m     result \u001b[38;5;241m=\u001b[39m \u001b[38;5;28;43mself\u001b[39;49m\u001b[38;5;241;43m.\u001b[39;49m\u001b[43m_executor\u001b[49m\u001b[43m(\u001b[49m\u001b[43mto_run\u001b[49m\u001b[43m,\u001b[49m\u001b[43m \u001b[49m\u001b[38;5;241;43m*\u001b[39;49m\u001b[38;5;241;43m*\u001b[39;49m\u001b[43mkwargs\u001b[49m\u001b[43m)\u001b[49m\n\u001b[1;32m    294\u001b[0m     \u001b[38;5;28mself\u001b[39m\u001b[38;5;241m.\u001b[39m_calls_to_executor \u001b[38;5;241m+\u001b[39m\u001b[38;5;241m=\u001b[39m \u001b[38;5;241m1\u001b[39m\n\u001b[1;32m    296\u001b[0m     \u001b[38;5;28;01mif\u001b[39;00m \u001b[38;5;28mself\u001b[39m\u001b[38;5;241m.\u001b[39mcan_batch:\n",
      "File \u001b[0;32m~/Downloads/qrise-2024/.venv/lib/python3.11/site-packages/mitiq/zne/zne.py:101\u001b[0m, in \u001b[0;36mmitigate_executor.<locals>.new_executor\u001b[0;34m(circuit)\u001b[0m\n\u001b[1;32m     99\u001b[0m \u001b[38;5;129m@wraps\u001b[39m(executor)\n\u001b[1;32m    100\u001b[0m \u001b[38;5;28;01mdef\u001b[39;00m \u001b[38;5;21mnew_executor\u001b[39m(circuit: QPROGRAM) \u001b[38;5;241m-\u001b[39m\u001b[38;5;241m>\u001b[39m \u001b[38;5;28mfloat\u001b[39m:\n\u001b[0;32m--> 101\u001b[0m     \u001b[38;5;28;01mreturn\u001b[39;00m \u001b[43mexecute_with_zne\u001b[49m\u001b[43m(\u001b[49m\n\u001b[1;32m    102\u001b[0m \u001b[43m        \u001b[49m\u001b[43mcircuit\u001b[49m\u001b[43m,\u001b[49m\n\u001b[1;32m    103\u001b[0m \u001b[43m        \u001b[49m\u001b[43mexecutor\u001b[49m\u001b[43m,\u001b[49m\n\u001b[1;32m    104\u001b[0m \u001b[43m        \u001b[49m\u001b[43mobservable\u001b[49m\u001b[43m,\u001b[49m\n\u001b[1;32m    105\u001b[0m \u001b[43m        \u001b[49m\u001b[43mfactory\u001b[49m\u001b[38;5;241;43m=\u001b[39;49m\u001b[43mfactory\u001b[49m\u001b[43m,\u001b[49m\n\u001b[1;32m    106\u001b[0m \u001b[43m        \u001b[49m\u001b[43mscale_noise\u001b[49m\u001b[38;5;241;43m=\u001b[39;49m\u001b[43mscale_noise\u001b[49m\u001b[43m,\u001b[49m\n\u001b[1;32m    107\u001b[0m \u001b[43m        \u001b[49m\u001b[43mnum_to_average\u001b[49m\u001b[38;5;241;43m=\u001b[39;49m\u001b[43mnum_to_average\u001b[49m\u001b[43m,\u001b[49m\n\u001b[1;32m    108\u001b[0m \u001b[43m    \u001b[49m\u001b[43m)\u001b[49m\n",
      "File \u001b[0;32m~/Downloads/qrise-2024/.venv/lib/python3.11/site-packages/mitiq/zne/zne.py:62\u001b[0m, in \u001b[0;36mexecute_with_zne\u001b[0;34m(circuit, executor, observable, factory, scale_noise, num_to_average)\u001b[0m\n\u001b[1;32m     59\u001b[0m \u001b[38;5;28;01mif\u001b[39;00m num_to_average \u001b[38;5;241m<\u001b[39m \u001b[38;5;241m1\u001b[39m:\n\u001b[1;32m     60\u001b[0m     \u001b[38;5;28;01mraise\u001b[39;00m \u001b[38;5;167;01mValueError\u001b[39;00m(\u001b[38;5;124m\"\u001b[39m\u001b[38;5;124mArgument `num_to_average` must be a positive int.\u001b[39m\u001b[38;5;124m\"\u001b[39m)\n\u001b[0;32m---> 62\u001b[0m \u001b[38;5;28;01mreturn\u001b[39;00m \u001b[43mfactory\u001b[49m\u001b[38;5;241;43m.\u001b[39;49m\u001b[43mrun\u001b[49m\u001b[43m(\u001b[49m\n\u001b[1;32m     63\u001b[0m \u001b[43m    \u001b[49m\u001b[43mcircuit\u001b[49m\u001b[43m,\u001b[49m\u001b[43m \u001b[49m\u001b[43mexecutor\u001b[49m\u001b[43m,\u001b[49m\u001b[43m \u001b[49m\u001b[43mobservable\u001b[49m\u001b[43m,\u001b[49m\u001b[43m \u001b[49m\u001b[43mscale_noise\u001b[49m\u001b[43m,\u001b[49m\u001b[43m \u001b[49m\u001b[38;5;28;43mint\u001b[39;49m\u001b[43m(\u001b[49m\u001b[43mnum_to_average\u001b[49m\u001b[43m)\u001b[49m\n\u001b[1;32m     64\u001b[0m \u001b[43m\u001b[49m\u001b[43m)\u001b[49m\u001b[38;5;241m.\u001b[39mreduce()\n",
      "File \u001b[0;32m~/Downloads/qrise-2024/.venv/lib/python3.11/site-packages/mitiq/zne/inference.py:567\u001b[0m, in \u001b[0;36mBatchedFactory.run\u001b[0;34m(self, qp, executor, observable, scale_noise, num_to_average)\u001b[0m\n\u001b[1;32m    560\u001b[0m         res\u001b[38;5;241m.\u001b[39mextend(\n\u001b[1;32m    561\u001b[0m             executor\u001b[38;5;241m.\u001b[39mevaluate(\n\u001b[1;32m    562\u001b[0m                 circuit, observable, force_run_all\u001b[38;5;241m=\u001b[39m\u001b[38;5;28;01mTrue\u001b[39;00m, \u001b[38;5;241m*\u001b[39m\u001b[38;5;241m*\u001b[39mkwargs\n\u001b[1;32m    563\u001b[0m             )\n\u001b[1;32m    564\u001b[0m         )\n\u001b[1;32m    565\u001b[0m \u001b[38;5;28;01melse\u001b[39;00m:\n\u001b[1;32m    566\u001b[0m     \u001b[38;5;66;03m# Else, run all circuits.\u001b[39;00m\n\u001b[0;32m--> 567\u001b[0m     res \u001b[38;5;241m=\u001b[39m \u001b[43mexecutor\u001b[49m\u001b[38;5;241;43m.\u001b[39;49m\u001b[43mevaluate\u001b[49m\u001b[43m(\u001b[49m\n\u001b[1;32m    568\u001b[0m \u001b[43m        \u001b[49m\u001b[43mto_run\u001b[49m\u001b[43m,\u001b[49m\u001b[43m \u001b[49m\u001b[43mobservable\u001b[49m\u001b[43m,\u001b[49m\u001b[43m \u001b[49m\u001b[43mforce_run_all\u001b[49m\u001b[38;5;241;43m=\u001b[39;49m\u001b[38;5;28;43;01mTrue\u001b[39;49;00m\u001b[43m,\u001b[49m\u001b[43m \u001b[49m\u001b[38;5;241;43m*\u001b[39;49m\u001b[38;5;241;43m*\u001b[39;49m\u001b[43mkwargs_list\u001b[49m\u001b[43m[\u001b[49m\u001b[38;5;241;43m0\u001b[39;49m\u001b[43m]\u001b[49m\n\u001b[1;32m    569\u001b[0m \u001b[43m    \u001b[49m\u001b[43m)\u001b[49m\n\u001b[1;32m    571\u001b[0m \u001b[38;5;66;03m# Reshape \"res\" to have \"num_to_average\" columns\u001b[39;00m\n\u001b[1;32m    572\u001b[0m reshaped \u001b[38;5;241m=\u001b[39m np\u001b[38;5;241m.\u001b[39marray(res)\u001b[38;5;241m.\u001b[39mreshape((\u001b[38;5;241m-\u001b[39m\u001b[38;5;241m1\u001b[39m, num_to_average))\n",
      "File \u001b[0;32m~/Downloads/qrise-2024/.venv/lib/python3.11/site-packages/mitiq/executor/executor.py:178\u001b[0m, in \u001b[0;36mExecutor.evaluate\u001b[0;34m(self, circuits, observable, force_run_all, **kwargs)\u001b[0m\n\u001b[1;32m    175\u001b[0m     result_step \u001b[38;5;241m=\u001b[39m \u001b[38;5;241m1\u001b[39m\n\u001b[1;32m    177\u001b[0m \u001b[38;5;66;03m# Run all required circuits.\u001b[39;00m\n\u001b[0;32m--> 178\u001b[0m all_results \u001b[38;5;241m=\u001b[39m \u001b[38;5;28;43mself\u001b[39;49m\u001b[38;5;241;43m.\u001b[39;49m\u001b[43mrun\u001b[49m\u001b[43m(\u001b[49m\u001b[43mall_circuits\u001b[49m\u001b[43m,\u001b[49m\u001b[43m \u001b[49m\u001b[43mforce_run_all\u001b[49m\u001b[43m,\u001b[49m\u001b[43m \u001b[49m\u001b[38;5;241;43m*\u001b[39;49m\u001b[38;5;241;43m*\u001b[39;49m\u001b[43mkwargs\u001b[49m\u001b[43m)\u001b[49m\n\u001b[1;32m    180\u001b[0m \u001b[38;5;66;03m# Parse the results.\u001b[39;00m\n\u001b[1;32m    181\u001b[0m \u001b[38;5;28;01mif\u001b[39;00m \u001b[38;5;28mself\u001b[39m\u001b[38;5;241m.\u001b[39m_executor_return_type \u001b[38;5;129;01min\u001b[39;00m FloatLike:\n",
      "File \u001b[0;32m~/Downloads/qrise-2024/.venv/lib/python3.11/site-packages/mitiq/executor/executor.py:256\u001b[0m, in \u001b[0;36mExecutor.run\u001b[0;34m(self, circuits, force_run_all, **kwargs)\u001b[0m\n\u001b[1;32m    254\u001b[0m \u001b[38;5;28;01mif\u001b[39;00m \u001b[38;5;129;01mnot\u001b[39;00m \u001b[38;5;28mself\u001b[39m\u001b[38;5;241m.\u001b[39mcan_batch:\n\u001b[1;32m    255\u001b[0m     \u001b[38;5;28;01mfor\u001b[39;00m circuit \u001b[38;5;129;01min\u001b[39;00m to_run:\n\u001b[0;32m--> 256\u001b[0m         \u001b[38;5;28;43mself\u001b[39;49m\u001b[38;5;241;43m.\u001b[39;49m\u001b[43m_call_executor\u001b[49m\u001b[43m(\u001b[49m\u001b[43mcircuit\u001b[49m\u001b[43m,\u001b[49m\u001b[43m \u001b[49m\u001b[38;5;241;43m*\u001b[39;49m\u001b[38;5;241;43m*\u001b[39;49m\u001b[43mkwargs\u001b[49m\u001b[43m)\u001b[49m\n\u001b[1;32m    258\u001b[0m \u001b[38;5;28;01melse\u001b[39;00m:\n\u001b[1;32m    259\u001b[0m     stop \u001b[38;5;241m=\u001b[39m \u001b[38;5;28mlen\u001b[39m(to_run)\n",
      "File \u001b[0;32m~/Downloads/qrise-2024/.venv/lib/python3.11/site-packages/mitiq/executor/executor.py:293\u001b[0m, in \u001b[0;36mExecutor._call_executor\u001b[0;34m(self, to_run, **kwargs)\u001b[0m\n\u001b[1;32m    283\u001b[0m \u001b[38;5;28;01mdef\u001b[39;00m \u001b[38;5;21m_call_executor\u001b[39m(\n\u001b[1;32m    284\u001b[0m     \u001b[38;5;28mself\u001b[39m, to_run: Union[QPROGRAM, Sequence[QPROGRAM]], \u001b[38;5;241m*\u001b[39m\u001b[38;5;241m*\u001b[39mkwargs: Any\n\u001b[1;32m    285\u001b[0m ) \u001b[38;5;241m-\u001b[39m\u001b[38;5;241m>\u001b[39m \u001b[38;5;28;01mNone\u001b[39;00m:\n\u001b[1;32m    286\u001b[0m \u001b[38;5;250m    \u001b[39m\u001b[38;5;124;03m\"\"\"Calls the executor on the input circuit(s) to run. Stores the\u001b[39;00m\n\u001b[1;32m    287\u001b[0m \u001b[38;5;124;03m    executed circuits in ``self._executed_circuits`` and the quantum\u001b[39;00m\n\u001b[1;32m    288\u001b[0m \u001b[38;5;124;03m    results in ``self._quantum_results``.\u001b[39;00m\n\u001b[0;32m   (...)\u001b[0m\n\u001b[1;32m    291\u001b[0m \u001b[38;5;124;03m        to_run: Circuit(s) to run.\u001b[39;00m\n\u001b[1;32m    292\u001b[0m \u001b[38;5;124;03m    \"\"\"\u001b[39;00m\n\u001b[0;32m--> 293\u001b[0m     result \u001b[38;5;241m=\u001b[39m \u001b[38;5;28;43mself\u001b[39;49m\u001b[38;5;241;43m.\u001b[39;49m\u001b[43m_executor\u001b[49m\u001b[43m(\u001b[49m\u001b[43mto_run\u001b[49m\u001b[43m,\u001b[49m\u001b[43m \u001b[49m\u001b[38;5;241;43m*\u001b[39;49m\u001b[38;5;241;43m*\u001b[39;49m\u001b[43mkwargs\u001b[49m\u001b[43m)\u001b[49m\n\u001b[1;32m    294\u001b[0m     \u001b[38;5;28mself\u001b[39m\u001b[38;5;241m.\u001b[39m_calls_to_executor \u001b[38;5;241m+\u001b[39m\u001b[38;5;241m=\u001b[39m \u001b[38;5;241m1\u001b[39m\n\u001b[1;32m    296\u001b[0m     \u001b[38;5;28;01mif\u001b[39;00m \u001b[38;5;28mself\u001b[39m\u001b[38;5;241m.\u001b[39mcan_batch:\n",
      "File \u001b[0;32m~/Downloads/qrise-2024/.venv/lib/python3.11/site-packages/mitiq/rem/rem.py:99\u001b[0m, in \u001b[0;36mmitigate_executor.<locals>.new_executor\u001b[0;34m(circuit)\u001b[0m\n\u001b[1;32m     97\u001b[0m \u001b[38;5;129m@wraps\u001b[39m(executor)\n\u001b[1;32m     98\u001b[0m \u001b[38;5;28;01mdef\u001b[39;00m \u001b[38;5;21mnew_executor\u001b[39m(circuit: QPROGRAM) \u001b[38;5;241m-\u001b[39m\u001b[38;5;241m>\u001b[39m MeasurementResult:\n\u001b[0;32m---> 99\u001b[0m     result \u001b[38;5;241m=\u001b[39m cast(MeasurementResult, \u001b[43mexecutor_obj\u001b[49m\u001b[38;5;241;43m.\u001b[39;49m\u001b[43mrun\u001b[49m\u001b[43m(\u001b[49m\u001b[43m[\u001b[49m\u001b[43mcircuit\u001b[49m\u001b[43m]\u001b[49m\u001b[43m)\u001b[49m[\u001b[38;5;241m0\u001b[39m])\n\u001b[1;32m    100\u001b[0m     \u001b[38;5;28;01mreturn\u001b[39;00m result\n",
      "File \u001b[0;32m~/Downloads/qrise-2024/.venv/lib/python3.11/site-packages/mitiq/executor/executor.py:256\u001b[0m, in \u001b[0;36mExecutor.run\u001b[0;34m(self, circuits, force_run_all, **kwargs)\u001b[0m\n\u001b[1;32m    254\u001b[0m \u001b[38;5;28;01mif\u001b[39;00m \u001b[38;5;129;01mnot\u001b[39;00m \u001b[38;5;28mself\u001b[39m\u001b[38;5;241m.\u001b[39mcan_batch:\n\u001b[1;32m    255\u001b[0m     \u001b[38;5;28;01mfor\u001b[39;00m circuit \u001b[38;5;129;01min\u001b[39;00m to_run:\n\u001b[0;32m--> 256\u001b[0m         \u001b[38;5;28;43mself\u001b[39;49m\u001b[38;5;241;43m.\u001b[39;49m\u001b[43m_call_executor\u001b[49m\u001b[43m(\u001b[49m\u001b[43mcircuit\u001b[49m\u001b[43m,\u001b[49m\u001b[43m \u001b[49m\u001b[38;5;241;43m*\u001b[39;49m\u001b[38;5;241;43m*\u001b[39;49m\u001b[43mkwargs\u001b[49m\u001b[43m)\u001b[49m\n\u001b[1;32m    258\u001b[0m \u001b[38;5;28;01melse\u001b[39;00m:\n\u001b[1;32m    259\u001b[0m     stop \u001b[38;5;241m=\u001b[39m \u001b[38;5;28mlen\u001b[39m(to_run)\n",
      "File \u001b[0;32m~/Downloads/qrise-2024/.venv/lib/python3.11/site-packages/mitiq/executor/executor.py:293\u001b[0m, in \u001b[0;36mExecutor._call_executor\u001b[0;34m(self, to_run, **kwargs)\u001b[0m\n\u001b[1;32m    283\u001b[0m \u001b[38;5;28;01mdef\u001b[39;00m \u001b[38;5;21m_call_executor\u001b[39m(\n\u001b[1;32m    284\u001b[0m     \u001b[38;5;28mself\u001b[39m, to_run: Union[QPROGRAM, Sequence[QPROGRAM]], \u001b[38;5;241m*\u001b[39m\u001b[38;5;241m*\u001b[39mkwargs: Any\n\u001b[1;32m    285\u001b[0m ) \u001b[38;5;241m-\u001b[39m\u001b[38;5;241m>\u001b[39m \u001b[38;5;28;01mNone\u001b[39;00m:\n\u001b[1;32m    286\u001b[0m \u001b[38;5;250m    \u001b[39m\u001b[38;5;124;03m\"\"\"Calls the executor on the input circuit(s) to run. Stores the\u001b[39;00m\n\u001b[1;32m    287\u001b[0m \u001b[38;5;124;03m    executed circuits in ``self._executed_circuits`` and the quantum\u001b[39;00m\n\u001b[1;32m    288\u001b[0m \u001b[38;5;124;03m    results in ``self._quantum_results``.\u001b[39;00m\n\u001b[0;32m   (...)\u001b[0m\n\u001b[1;32m    291\u001b[0m \u001b[38;5;124;03m        to_run: Circuit(s) to run.\u001b[39;00m\n\u001b[1;32m    292\u001b[0m \u001b[38;5;124;03m    \"\"\"\u001b[39;00m\n\u001b[0;32m--> 293\u001b[0m     result \u001b[38;5;241m=\u001b[39m \u001b[38;5;28;43mself\u001b[39;49m\u001b[38;5;241;43m.\u001b[39;49m\u001b[43m_executor\u001b[49m\u001b[43m(\u001b[49m\u001b[43mto_run\u001b[49m\u001b[43m,\u001b[49m\u001b[43m \u001b[49m\u001b[38;5;241;43m*\u001b[39;49m\u001b[38;5;241;43m*\u001b[39;49m\u001b[43mkwargs\u001b[49m\u001b[43m)\u001b[49m\n\u001b[1;32m    294\u001b[0m     \u001b[38;5;28mself\u001b[39m\u001b[38;5;241m.\u001b[39m_calls_to_executor \u001b[38;5;241m+\u001b[39m\u001b[38;5;241m=\u001b[39m \u001b[38;5;241m1\u001b[39m\n\u001b[1;32m    296\u001b[0m     \u001b[38;5;28;01mif\u001b[39;00m \u001b[38;5;28mself\u001b[39m\u001b[38;5;241m.\u001b[39mcan_batch:\n",
      "Cell \u001b[0;32mIn[92], line 13\u001b[0m, in \u001b[0;36mexecute\u001b[0;34m(circuit, noise_level, p0)\u001b[0m\n\u001b[1;32m     10\u001b[0m simulator \u001b[38;5;241m=\u001b[39m cirq\u001b[38;5;241m.\u001b[39mDensityMatrixSimulator()\n\u001b[1;32m     12\u001b[0m result \u001b[38;5;241m=\u001b[39m simulator\u001b[38;5;241m.\u001b[39mrun(circuit, repetitions\u001b[38;5;241m=\u001b[39m\u001b[38;5;241m1000\u001b[39m)\n\u001b[0;32m---> 13\u001b[0m bitstrings \u001b[38;5;241m=\u001b[39m np\u001b[38;5;241m.\u001b[39mcolumn_stack(\u001b[38;5;28mlist\u001b[39m(\u001b[43mresult\u001b[49m\u001b[38;5;241;43m.\u001b[39;49m\u001b[43mmeasurements\u001b[49m\u001b[38;5;241m.\u001b[39mvalues()))\n\u001b[1;32m     14\u001b[0m \u001b[38;5;28;01mreturn\u001b[39;00m MeasurementResult(bitstrings)\n",
      "File \u001b[0;32m~/Downloads/qrise-2024/.venv/lib/python3.11/site-packages/cirq/study/result.py:343\u001b[0m, in \u001b[0;36mResultDict.measurements\u001b[0;34m(self)\u001b[0m\n\u001b[1;32m    341\u001b[0m         reps, instances, qubits \u001b[38;5;241m=\u001b[39m data\u001b[38;5;241m.\u001b[39mshape\n\u001b[1;32m    342\u001b[0m         \u001b[38;5;28;01mif\u001b[39;00m instances \u001b[38;5;241m!=\u001b[39m \u001b[38;5;241m1\u001b[39m:\n\u001b[0;32m--> 343\u001b[0m             \u001b[38;5;28;01mraise\u001b[39;00m \u001b[38;5;167;01mValueError\u001b[39;00m(\u001b[38;5;124m'\u001b[39m\u001b[38;5;124mCannot extract 2D measurements for repeated keys\u001b[39m\u001b[38;5;124m'\u001b[39m)\n\u001b[1;32m    344\u001b[0m         \u001b[38;5;28mself\u001b[39m\u001b[38;5;241m.\u001b[39m_measurements[key] \u001b[38;5;241m=\u001b[39m data\u001b[38;5;241m.\u001b[39mreshape((reps, qubits))\n\u001b[1;32m    345\u001b[0m \u001b[38;5;28;01mreturn\u001b[39;00m \u001b[38;5;28mself\u001b[39m\u001b[38;5;241m.\u001b[39m_measurements\n",
      "\u001b[0;31mValueError\u001b[0m: Cannot extract 2D measurements for repeated keys"
     ]
    }
   ],
   "source": [
    "# REM + ZNE + DDD\n",
    "rem_zne_executor = zne.mitigate_executor(rem_executor, scale_noise=zne.scaling\n",
    ".folding.fold_global, observable=obs)\n",
    "\n",
    "rem_zne_ddd_executor = ddd.mitigate_executor(rem_zne_executor, observable=obs, rule=rule)\n",
    "\n",
    "rem_zne_ddd_result = rem_zne_ddd_executor(circuit)\n",
    "print(\"Mitigated value obtained with REM + DDD + ZNE:\", \"{:.5f}\".format(rem_zne_ddd_result.real))"
   ]
  },
  {
   "cell_type": "code",
   "execution_count": null,
   "metadata": {},
   "outputs": [],
   "source": []
  }
 ],
 "metadata": {
  "kernelspec": {
   "display_name": ".venv",
   "language": "python",
   "name": "python3"
  },
  "language_info": {
   "codemirror_mode": {
    "name": "ipython",
    "version": 3
   },
   "file_extension": ".py",
   "mimetype": "text/x-python",
   "name": "python",
   "nbconvert_exporter": "python",
   "pygments_lexer": "ipython3",
   "version": "3.11.6"
  }
 },
 "nbformat": 4,
 "nbformat_minor": 2
}
