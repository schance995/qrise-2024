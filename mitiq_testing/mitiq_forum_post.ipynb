{
 "cells": [
  {
   "cell_type": "code",
   "execution_count": 3,
   "metadata": {},
   "outputs": [
    {
     "name": "stdout",
     "output_type": "stream",
     "text": [
      "Ideal value: 2.00000\n",
      "Unmitigated value: 1.40380\n",
      "Mitigated value obtained with REM: 1.61440\n",
      "Mitigated value obtained with ZNE: 1.84360\n",
      "Mitigated value obtained with REM + ZNE: 2.01380\n"
     ]
    },
    {
     "ename": "TypeError",
     "evalue": "Result is not of type MeasurementResult.",
     "output_type": "error",
     "traceback": [
      "\u001b[0;31m---------------------------------------------------------------------------\u001b[0m",
      "\u001b[0;31mTypeError\u001b[0m                                 Traceback (most recent call last)",
      "Cell \u001b[0;32mIn[3], line 69\u001b[0m\n\u001b[1;32m     66\u001b[0m \u001b[38;5;66;03m# NEW STUFF: stack REM on ZNE\u001b[39;00m\n\u001b[1;32m     67\u001b[0m zne_rem_executor \u001b[38;5;241m=\u001b[39m rem\u001b[38;5;241m.\u001b[39mmitigate_executor(zne_executor, inverse_confusion_matrix\u001b[38;5;241m=\u001b[39micm)\n\u001b[0;32m---> 69\u001b[0m zne_rem_result \u001b[38;5;241m=\u001b[39m \u001b[43mzne_rem_executor\u001b[49m\u001b[43m(\u001b[49m\u001b[43mcircuit\u001b[49m\u001b[43m)\u001b[49m\n\u001b[1;32m     70\u001b[0m \u001b[38;5;28mprint\u001b[39m(\u001b[38;5;124m\"\u001b[39m\u001b[38;5;124mMitigated value obtained with REM + ZNE:\u001b[39m\u001b[38;5;124m\"\u001b[39m, \u001b[38;5;124m\"\u001b[39m\u001b[38;5;132;01m{:.5f}\u001b[39;00m\u001b[38;5;124m\"\u001b[39m\u001b[38;5;241m.\u001b[39mformat(zne_rem_result\u001b[38;5;241m.\u001b[39mreal))\n",
      "File \u001b[0;32m~/Downloads/qrise-2024/.venv/lib/python3.11/site-packages/mitiq/rem/rem.py:99\u001b[0m, in \u001b[0;36mmitigate_executor.<locals>.new_executor\u001b[0;34m(circuit)\u001b[0m\n\u001b[1;32m     97\u001b[0m \u001b[38;5;129m@wraps\u001b[39m(executor)\n\u001b[1;32m     98\u001b[0m \u001b[38;5;28;01mdef\u001b[39;00m \u001b[38;5;21mnew_executor\u001b[39m(circuit: QPROGRAM) \u001b[38;5;241m-\u001b[39m\u001b[38;5;241m>\u001b[39m MeasurementResult:\n\u001b[0;32m---> 99\u001b[0m     result \u001b[38;5;241m=\u001b[39m cast(MeasurementResult, \u001b[43mexecutor_obj\u001b[49m\u001b[38;5;241;43m.\u001b[39;49m\u001b[43mrun\u001b[49m\u001b[43m(\u001b[49m\u001b[43m[\u001b[49m\u001b[43mcircuit\u001b[49m\u001b[43m]\u001b[49m\u001b[43m)\u001b[49m[\u001b[38;5;241m0\u001b[39m])\n\u001b[1;32m    100\u001b[0m     \u001b[38;5;28;01mreturn\u001b[39;00m result\n",
      "File \u001b[0;32m~/Downloads/qrise-2024/.venv/lib/python3.11/site-packages/mitiq/executor/executor.py:272\u001b[0m, in \u001b[0;36mExecutor.run\u001b[0;34m(self, circuits, force_run_all, **kwargs)\u001b[0m\n\u001b[1;32m    269\u001b[0m     results_dict \u001b[38;5;241m=\u001b[39m \u001b[38;5;28mdict\u001b[39m(\u001b[38;5;28mzip\u001b[39m(collection\u001b[38;5;241m.\u001b[39mkeys(), results))\n\u001b[1;32m    270\u001b[0m     results \u001b[38;5;241m=\u001b[39m [results_dict[key] \u001b[38;5;28;01mfor\u001b[39;00m key \u001b[38;5;129;01min\u001b[39;00m hashable_circuits]\n\u001b[0;32m--> 272\u001b[0m \u001b[38;5;28;01mreturn\u001b[39;00m \u001b[38;5;28;43mself\u001b[39;49m\u001b[38;5;241;43m.\u001b[39;49m\u001b[43m_post_run\u001b[49m\u001b[43m(\u001b[49m\u001b[43mresults\u001b[49m\u001b[43m)\u001b[49m\n",
      "File \u001b[0;32m~/Downloads/qrise-2024/.venv/lib/python3.11/site-packages/mitiq/rem/rem.py:85\u001b[0m, in \u001b[0;36mmitigate_executor.<locals>.post_run\u001b[0;34m(self, results)\u001b[0m\n\u001b[1;32m     81\u001b[0m \u001b[38;5;28;01mdef\u001b[39;00m \u001b[38;5;21mpost_run\u001b[39m(\n\u001b[1;32m     82\u001b[0m     \u001b[38;5;28mself\u001b[39m: Executor,\n\u001b[1;32m     83\u001b[0m     results: Sequence[MeasurementResult],\n\u001b[1;32m     84\u001b[0m ) \u001b[38;5;241m-\u001b[39m\u001b[38;5;241m>\u001b[39m Sequence[MeasurementResult]:\n\u001b[0;32m---> 85\u001b[0m     \u001b[38;5;28;01mreturn\u001b[39;00m \u001b[43m[\u001b[49m\n\u001b[1;32m     86\u001b[0m \u001b[43m        \u001b[49m\u001b[43mmitigate_measurements\u001b[49m\u001b[43m(\u001b[49m\u001b[43mres\u001b[49m\u001b[43m,\u001b[49m\u001b[43m \u001b[49m\u001b[43minverse_confusion_matrix\u001b[49m\u001b[43m)\u001b[49m\n\u001b[1;32m     87\u001b[0m \u001b[43m        \u001b[49m\u001b[38;5;28;43;01mfor\u001b[39;49;00m\u001b[43m \u001b[49m\u001b[43mres\u001b[49m\u001b[43m \u001b[49m\u001b[38;5;129;43;01min\u001b[39;49;00m\u001b[43m \u001b[49m\u001b[43mresults\u001b[49m\n\u001b[1;32m     88\u001b[0m \u001b[43m    \u001b[49m\u001b[43m]\u001b[49m\n",
      "File \u001b[0;32m~/Downloads/qrise-2024/.venv/lib/python3.11/site-packages/mitiq/rem/rem.py:86\u001b[0m, in \u001b[0;36m<listcomp>\u001b[0;34m(.0)\u001b[0m\n\u001b[1;32m     81\u001b[0m \u001b[38;5;28;01mdef\u001b[39;00m \u001b[38;5;21mpost_run\u001b[39m(\n\u001b[1;32m     82\u001b[0m     \u001b[38;5;28mself\u001b[39m: Executor,\n\u001b[1;32m     83\u001b[0m     results: Sequence[MeasurementResult],\n\u001b[1;32m     84\u001b[0m ) \u001b[38;5;241m-\u001b[39m\u001b[38;5;241m>\u001b[39m Sequence[MeasurementResult]:\n\u001b[1;32m     85\u001b[0m     \u001b[38;5;28;01mreturn\u001b[39;00m [\n\u001b[0;32m---> 86\u001b[0m         \u001b[43mmitigate_measurements\u001b[49m\u001b[43m(\u001b[49m\u001b[43mres\u001b[49m\u001b[43m,\u001b[49m\u001b[43m \u001b[49m\u001b[43minverse_confusion_matrix\u001b[49m\u001b[43m)\u001b[49m\n\u001b[1;32m     87\u001b[0m         \u001b[38;5;28;01mfor\u001b[39;00m res \u001b[38;5;129;01min\u001b[39;00m results\n\u001b[1;32m     88\u001b[0m     ]\n",
      "File \u001b[0;32m~/Downloads/qrise-2024/.venv/lib/python3.11/site-packages/mitiq/rem/inverse_confusion_matrix.py:185\u001b[0m, in \u001b[0;36mmitigate_measurements\u001b[0;34m(noisy_result, inverse_confusion_matrix)\u001b[0m\n\u001b[1;32m    173\u001b[0m \u001b[38;5;250m\u001b[39m\u001b[38;5;124;03m\"\"\"Applies the inverse confusion matrix against the noisy measurement\u001b[39;00m\n\u001b[1;32m    174\u001b[0m \u001b[38;5;124;03mresult and returns the adjusted measurements.\u001b[39;00m\n\u001b[1;32m    175\u001b[0m \n\u001b[0;32m   (...)\u001b[0m\n\u001b[1;32m    182\u001b[0m \u001b[38;5;124;03m    A mitigated MeasurementResult.\u001b[39;00m\n\u001b[1;32m    183\u001b[0m \u001b[38;5;124;03m\"\"\"\u001b[39;00m\n\u001b[1;32m    184\u001b[0m \u001b[38;5;28;01mif\u001b[39;00m \u001b[38;5;129;01mnot\u001b[39;00m \u001b[38;5;28misinstance\u001b[39m(noisy_result, MeasurementResult):\n\u001b[0;32m--> 185\u001b[0m     \u001b[38;5;28;01mraise\u001b[39;00m \u001b[38;5;167;01mTypeError\u001b[39;00m(\u001b[38;5;124m\"\u001b[39m\u001b[38;5;124mResult is not of type MeasurementResult.\u001b[39m\u001b[38;5;124m\"\u001b[39m)\n\u001b[1;32m    187\u001b[0m num_qubits \u001b[38;5;241m=\u001b[39m noisy_result\u001b[38;5;241m.\u001b[39mnqubits\n\u001b[1;32m    188\u001b[0m required_shape \u001b[38;5;241m=\u001b[39m (\u001b[38;5;241m2\u001b[39m\u001b[38;5;241m*\u001b[39m\u001b[38;5;241m*\u001b[39mnum_qubits, \u001b[38;5;241m2\u001b[39m\u001b[38;5;241m*\u001b[39m\u001b[38;5;241m*\u001b[39mnum_qubits)\n",
      "\u001b[0;31mTypeError\u001b[0m: Result is not of type MeasurementResult."
     ]
    }
   ],
   "source": [
    "import cirq\n",
    "import numpy as np\n",
    "from mitiq.benchmarks import generate_rb_circuits, ghz_circuits\n",
    "from mitiq import MeasurementResult, Observable, PauliString, raw\n",
    "from functools import partial\n",
    "\n",
    "n_qubits = 2\n",
    "\n",
    "circuit = generate_rb_circuits(2, 10)[0]\n",
    "\n",
    "def execute(circuit: cirq.Circuit, noise_level: float = 0.002, p0: float = 0.05) -> MeasurementResult:\n",
    "    \"\"\"Execute a circuit with depolarizing noise of strength ``noise_level`` and readout errors ...\n",
    "    \"\"\"\n",
    "    measurements = circuit[-1]\n",
    "    circuit =  circuit[:-1]\n",
    "    circuit = circuit.with_noise(cirq.depolarize(noise_level))\n",
    "    circuit.append(cirq.bit_flip(p0).on_each(circuit.all_qubits()))\n",
    "    circuit.append(measurements)\n",
    "\n",
    "    simulator = cirq.DensityMatrixSimulator()\n",
    "\n",
    "    result = simulator.run(circuit, repetitions=10000)\n",
    "    bitstrings = np.column_stack(list(result.measurements.values()))\n",
    "    return MeasurementResult(bitstrings)\n",
    "\n",
    "obs = Observable(PauliString(\"ZI\"), PauliString(\"IZ\"))\n",
    "\n",
    "\n",
    "# no QEM\n",
    "noisy = raw.execute(circuit, execute, obs)\n",
    "ideal = raw.execute(circuit, partial(execute, noise_level=0, p0=0), obs)\n",
    "print(\"Ideal value:\", \"{:.5f}\".format(ideal.real))\n",
    "print(\"Unmitigated value:\", \"{:.5f}\".format(noisy.real))\n",
    "\n",
    "\n",
    "\n",
    "# REM\n",
    "from mitiq import rem\n",
    "\n",
    "p0 = p1 = 0.05\n",
    "icm = rem.generate_inverse_confusion_matrix(2, p0, p1)\n",
    "rem_executor = rem.mitigate_executor(execute, inverse_confusion_matrix=icm)\n",
    "\n",
    "rem_result = obs.expectation(circuit, rem_executor)\n",
    "print(\"Mitigated value obtained with REM:\", \"{:.5f}\".format(rem_result.real))\n",
    "\n",
    "\n",
    "\n",
    "# ZNE\n",
    "from mitiq import zne\n",
    "\n",
    "zne_executor = zne.mitigate_executor(execute, observable=obs, scale_noise=zne.scaling.folding.fold_global)\n",
    "zne_result = zne_executor(circuit)\n",
    "print(\"Mitigated value obtained with ZNE:\", \"{:.5f}\".format(zne_result.real))\n",
    "\n",
    "\n",
    "\n",
    "# Stack ZNE on top of REM\n",
    "rem_zne_executor = zne.mitigate_executor(rem_executor, observable=obs, scale_noise=zne.scaling.folding.fold_global)\n",
    "\n",
    "rem_zne_result = rem_zne_executor(circuit)\n",
    "print(\"Mitigated value obtained with REM + ZNE:\", \"{:.5f}\".format(rem_zne_result.real))\n",
    "\n",
    "\n",
    "\n",
    "# NEW STUFF: stack REM on ZNE\n",
    "zne_rem_executor = rem.mitigate_executor(zne_executor, inverse_confusion_matrix=icm)\n",
    "\n",
    "zne_rem_result = zne_rem_executor(circuit)\n",
    "print(\"Mitigated value obtained with REM + ZNE:\", \"{:.5f}\".format(zne_rem_result.real))\n"
   ]
  }
 ],
 "metadata": {
  "kernelspec": {
   "display_name": ".venv",
   "language": "python",
   "name": "python3"
  },
  "language_info": {
   "codemirror_mode": {
    "name": "ipython",
    "version": 3
   },
   "file_extension": ".py",
   "mimetype": "text/x-python",
   "name": "python",
   "nbconvert_exporter": "python",
   "pygments_lexer": "ipython3",
   "version": "3.11.6+"
  }
 },
 "nbformat": 4,
 "nbformat_minor": 2
}
