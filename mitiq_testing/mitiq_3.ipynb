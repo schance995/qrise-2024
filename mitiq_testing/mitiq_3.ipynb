{
 "cells": [
  {
   "cell_type": "markdown",
   "metadata": {},
   "source": [
    "In this notebook, I'm going to attempt to run all the techniques on the same circuit"
   ]
  },
  {
   "cell_type": "code",
   "execution_count": 1,
   "metadata": {},
   "outputs": [],
   "source": [
    "import cirq\n",
    "import numpy as np\n",
    "from mitiq.benchmarks import generate_rb_circuits, ghz_circuits\n",
    "from mitiq import MeasurementResult, Observable, PauliString"
   ]
  },
  {
   "cell_type": "code",
   "execution_count": 2,
   "metadata": {},
   "outputs": [],
   "source": [
    "n_qubits = 2"
   ]
  },
  {
   "cell_type": "code",
   "execution_count": 3,
   "metadata": {},
   "outputs": [],
   "source": [
    "circuit = generate_rb_circuits(2, 10)[0]"
   ]
  },
  {
   "cell_type": "code",
   "execution_count": 4,
   "metadata": {},
   "outputs": [],
   "source": [
    "def execute(circuit, noise_level=0.005):\n",
    "    \"\"\"Returns Tr[ρ |0⟩⟨0|] where ρ is the state prepared by the circuit\n",
    "    with depolarizing noise.\"\"\"\n",
    "\n",
    "    # add depolarizing noise\n",
    "    noisy_circuit = circuit.with_noise(cirq.depolarize(p=noise_level))\n",
    "\n",
    "    return (\n",
    "        cirq.DensityMatrixSimulator()\n",
    "        .simulate(noisy_circuit)\n",
    "        .final_density_matrix[0, 0]\n",
    "        .real\n",
    "    )"
   ]
  },
  {
   "cell_type": "code",
   "execution_count": 8,
   "metadata": {},
   "outputs": [],
   "source": [
    "from mitiq import zne, ddd, qse, rem, cdr\n",
    "from functools import partial\n",
    "\n",
    "qem_executors = {\n",
    "    \"ZNE\": zne.mitigate_executor,\n",
    "    \"DDD\": ddd.mitigate_executor,\n",
    "    \"QSE\": qse.mitigate_executor,\n",
    "    \"REM\": rem.mitigate_executor,\n",
    "    \"CDR\": cdr.mitigate_executor\n",
    "}\n",
    "\n",
    "def compose(executable, qem_method):\n",
    "    \"\"\"recursive function that takes in an executable + technique to compose and returns the composed executable\"\"\"\n",
    "\n",
    "    # TODO: further modularize so that just doing a dictionary lookup should allow you to inject the correct args\n",
    "\n",
    "    match qem_method:\n",
    "        case \"ZNE\":\n",
    "            print('composing ZNE')\n",
    "\n",
    "            scale_method = zne.scaling.folding.fold_global\n",
    "\n",
    "            return qem_executors[qem_method](\n",
    "                executable,\n",
    "                scale_noise=scale_method\n",
    "            )\n",
    "        case \"DDD\":\n",
    "            rule = ddd.rules.xx\n",
    "            return qem_executors[qem_method](\n",
    "                executable,\n",
    "                observable=None, # SUS\n",
    "                rule=rule\n",
    "            )\n",
    "        case \"QSE\":\n",
    "            Ms = [ # chat GPT generated stabilizer group\n",
    "                \"II\",\n",
    "                \"XI\",\n",
    "                \"ZI\",\n",
    "                \"IX\",\n",
    "                \"IZ\"\n",
    "            ]\n",
    "            check_operators = [\n",
    "                PauliString(M, coeff=1, support=range(n_qubits)) for M in Ms\n",
    "            ] # low key copy pasta-ed these so they may not even be the right choice\n",
    "            negative_Ms_as_pauliStrings = [\n",
    "                PauliString(M, coeff=-1, support=range(n_qubits)) for M in Ms\n",
    "            ] # low key copy pasta-ed these so they may not even be the right choice\n",
    "            code_hamiltonian = Observable(*negative_Ms_as_pauliStrings)\n",
    "\n",
    "            return qem_executors[qem_method](\n",
    "                executable,\n",
    "                check_operators, # not sure what these are, need further reading\n",
    "                code_hamiltonian,\n",
    "                observable=None\n",
    "            )\n",
    "        case \"REM\":\n",
    "            print('composing REM')\n",
    "\n",
    "            p0 = p1 = 0.05\n",
    "            icm = rem.generate_inverse_confusion_matrix(2, p0, p1)\n",
    "            return qem_executors[qem_method](execute, inverse_confusion_matrix=icm)\n",
    "        case \"CDR\":\n",
    "            simulator = partial(execute, noise_level=0, p0=0) # SUS\n",
    "            return qem_executors[qem_method](\n",
    "                executable,\n",
    "                observable=None,\n",
    "                simulator=simulator\n",
    "            )\n",
    "        case _:\n",
    "            raise ValueError\n",
    "        "
   ]
  },
  {
   "cell_type": "code",
   "execution_count": 14,
   "metadata": {},
   "outputs": [
    {
     "name": "stdout",
     "output_type": "stream",
     "text": [
      "composing ZNE\n"
     ]
    },
    {
     "ename": "ValueError",
     "evalue": "Executor and observable are not compatible. Executors\n                returning expectation values as float must be used with\n                observable=None",
     "output_type": "error",
     "traceback": [
      "\u001b[0;31m---------------------------------------------------------------------------\u001b[0m",
      "\u001b[0;31mValueError\u001b[0m                                Traceback (most recent call last)",
      "Cell \u001b[0;32mIn[14], line 8\u001b[0m\n\u001b[1;32m      5\u001b[0m \u001b[38;5;28;01mfor\u001b[39;00m method \u001b[38;5;129;01min\u001b[39;00m chain:\n\u001b[1;32m      6\u001b[0m     executable \u001b[38;5;241m=\u001b[39m compose(executable, method)\n\u001b[0;32m----> 8\u001b[0m \u001b[43mexecutable\u001b[49m\u001b[43m(\u001b[49m\u001b[43mcircuit\u001b[49m\u001b[43m)\u001b[49m\n",
      "File \u001b[0;32m~/Downloads/qrise-2024/.venv/lib/python3.11/site-packages/mitiq/zne/zne.py:101\u001b[0m, in \u001b[0;36mmitigate_executor.<locals>.new_executor\u001b[0;34m(circuit)\u001b[0m\n\u001b[1;32m     99\u001b[0m \u001b[38;5;129m@wraps\u001b[39m(executor)\n\u001b[1;32m    100\u001b[0m \u001b[38;5;28;01mdef\u001b[39;00m \u001b[38;5;21mnew_executor\u001b[39m(circuit: QPROGRAM) \u001b[38;5;241m-\u001b[39m\u001b[38;5;241m>\u001b[39m \u001b[38;5;28mfloat\u001b[39m:\n\u001b[0;32m--> 101\u001b[0m     \u001b[38;5;28;01mreturn\u001b[39;00m \u001b[43mexecute_with_zne\u001b[49m\u001b[43m(\u001b[49m\n\u001b[1;32m    102\u001b[0m \u001b[43m        \u001b[49m\u001b[43mcircuit\u001b[49m\u001b[43m,\u001b[49m\n\u001b[1;32m    103\u001b[0m \u001b[43m        \u001b[49m\u001b[43mexecutor\u001b[49m\u001b[43m,\u001b[49m\n\u001b[1;32m    104\u001b[0m \u001b[43m        \u001b[49m\u001b[43mobservable\u001b[49m\u001b[43m,\u001b[49m\n\u001b[1;32m    105\u001b[0m \u001b[43m        \u001b[49m\u001b[43mfactory\u001b[49m\u001b[38;5;241;43m=\u001b[39;49m\u001b[43mfactory\u001b[49m\u001b[43m,\u001b[49m\n\u001b[1;32m    106\u001b[0m \u001b[43m        \u001b[49m\u001b[43mscale_noise\u001b[49m\u001b[38;5;241;43m=\u001b[39;49m\u001b[43mscale_noise\u001b[49m\u001b[43m,\u001b[49m\n\u001b[1;32m    107\u001b[0m \u001b[43m        \u001b[49m\u001b[43mnum_to_average\u001b[49m\u001b[38;5;241;43m=\u001b[39;49m\u001b[43mnum_to_average\u001b[49m\u001b[43m,\u001b[49m\n\u001b[1;32m    108\u001b[0m \u001b[43m    \u001b[49m\u001b[43m)\u001b[49m\n",
      "File \u001b[0;32m~/Downloads/qrise-2024/.venv/lib/python3.11/site-packages/mitiq/zne/zne.py:62\u001b[0m, in \u001b[0;36mexecute_with_zne\u001b[0;34m(circuit, executor, observable, factory, scale_noise, num_to_average)\u001b[0m\n\u001b[1;32m     59\u001b[0m \u001b[38;5;28;01mif\u001b[39;00m num_to_average \u001b[38;5;241m<\u001b[39m \u001b[38;5;241m1\u001b[39m:\n\u001b[1;32m     60\u001b[0m     \u001b[38;5;28;01mraise\u001b[39;00m \u001b[38;5;167;01mValueError\u001b[39;00m(\u001b[38;5;124m\"\u001b[39m\u001b[38;5;124mArgument `num_to_average` must be a positive int.\u001b[39m\u001b[38;5;124m\"\u001b[39m)\n\u001b[0;32m---> 62\u001b[0m \u001b[38;5;28;01mreturn\u001b[39;00m \u001b[43mfactory\u001b[49m\u001b[38;5;241;43m.\u001b[39;49m\u001b[43mrun\u001b[49m\u001b[43m(\u001b[49m\n\u001b[1;32m     63\u001b[0m \u001b[43m    \u001b[49m\u001b[43mcircuit\u001b[49m\u001b[43m,\u001b[49m\u001b[43m \u001b[49m\u001b[43mexecutor\u001b[49m\u001b[43m,\u001b[49m\u001b[43m \u001b[49m\u001b[43mobservable\u001b[49m\u001b[43m,\u001b[49m\u001b[43m \u001b[49m\u001b[43mscale_noise\u001b[49m\u001b[43m,\u001b[49m\u001b[43m \u001b[49m\u001b[38;5;28;43mint\u001b[39;49m\u001b[43m(\u001b[49m\u001b[43mnum_to_average\u001b[49m\u001b[43m)\u001b[49m\n\u001b[1;32m     64\u001b[0m \u001b[43m\u001b[49m\u001b[43m)\u001b[49m\u001b[38;5;241m.\u001b[39mreduce()\n",
      "File \u001b[0;32m~/Downloads/qrise-2024/.venv/lib/python3.11/site-packages/mitiq/zne/inference.py:567\u001b[0m, in \u001b[0;36mBatchedFactory.run\u001b[0;34m(self, qp, executor, observable, scale_noise, num_to_average)\u001b[0m\n\u001b[1;32m    560\u001b[0m         res\u001b[38;5;241m.\u001b[39mextend(\n\u001b[1;32m    561\u001b[0m             executor\u001b[38;5;241m.\u001b[39mevaluate(\n\u001b[1;32m    562\u001b[0m                 circuit, observable, force_run_all\u001b[38;5;241m=\u001b[39m\u001b[38;5;28;01mTrue\u001b[39;00m, \u001b[38;5;241m*\u001b[39m\u001b[38;5;241m*\u001b[39mkwargs\n\u001b[1;32m    563\u001b[0m             )\n\u001b[1;32m    564\u001b[0m         )\n\u001b[1;32m    565\u001b[0m \u001b[38;5;28;01melse\u001b[39;00m:\n\u001b[1;32m    566\u001b[0m     \u001b[38;5;66;03m# Else, run all circuits.\u001b[39;00m\n\u001b[0;32m--> 567\u001b[0m     res \u001b[38;5;241m=\u001b[39m \u001b[43mexecutor\u001b[49m\u001b[38;5;241;43m.\u001b[39;49m\u001b[43mevaluate\u001b[49m\u001b[43m(\u001b[49m\n\u001b[1;32m    568\u001b[0m \u001b[43m        \u001b[49m\u001b[43mto_run\u001b[49m\u001b[43m,\u001b[49m\u001b[43m \u001b[49m\u001b[43mobservable\u001b[49m\u001b[43m,\u001b[49m\u001b[43m \u001b[49m\u001b[43mforce_run_all\u001b[49m\u001b[38;5;241;43m=\u001b[39;49m\u001b[38;5;28;43;01mTrue\u001b[39;49;00m\u001b[43m,\u001b[49m\u001b[43m \u001b[49m\u001b[38;5;241;43m*\u001b[39;49m\u001b[38;5;241;43m*\u001b[39;49m\u001b[43mkwargs_list\u001b[49m\u001b[43m[\u001b[49m\u001b[38;5;241;43m0\u001b[39;49m\u001b[43m]\u001b[49m\n\u001b[1;32m    569\u001b[0m \u001b[43m    \u001b[49m\u001b[43m)\u001b[49m\n\u001b[1;32m    571\u001b[0m \u001b[38;5;66;03m# Reshape \"res\" to have \"num_to_average\" columns\u001b[39;00m\n\u001b[1;32m    572\u001b[0m reshaped \u001b[38;5;241m=\u001b[39m np\u001b[38;5;241m.\u001b[39marray(res)\u001b[38;5;241m.\u001b[39mreshape((\u001b[38;5;241m-\u001b[39m\u001b[38;5;241m1\u001b[39m, num_to_average))\n",
      "File \u001b[0;32m~/Downloads/qrise-2024/.venv/lib/python3.11/site-packages/mitiq/executor/executor.py:178\u001b[0m, in \u001b[0;36mExecutor.evaluate\u001b[0;34m(self, circuits, observable, force_run_all, **kwargs)\u001b[0m\n\u001b[1;32m    175\u001b[0m     result_step \u001b[38;5;241m=\u001b[39m \u001b[38;5;241m1\u001b[39m\n\u001b[1;32m    177\u001b[0m \u001b[38;5;66;03m# Run all required circuits.\u001b[39;00m\n\u001b[0;32m--> 178\u001b[0m all_results \u001b[38;5;241m=\u001b[39m \u001b[38;5;28;43mself\u001b[39;49m\u001b[38;5;241;43m.\u001b[39;49m\u001b[43mrun\u001b[49m\u001b[43m(\u001b[49m\u001b[43mall_circuits\u001b[49m\u001b[43m,\u001b[49m\u001b[43m \u001b[49m\u001b[43mforce_run_all\u001b[49m\u001b[43m,\u001b[49m\u001b[43m \u001b[49m\u001b[38;5;241;43m*\u001b[39;49m\u001b[38;5;241;43m*\u001b[39;49m\u001b[43mkwargs\u001b[49m\u001b[43m)\u001b[49m\n\u001b[1;32m    180\u001b[0m \u001b[38;5;66;03m# Parse the results.\u001b[39;00m\n\u001b[1;32m    181\u001b[0m \u001b[38;5;28;01mif\u001b[39;00m \u001b[38;5;28mself\u001b[39m\u001b[38;5;241m.\u001b[39m_executor_return_type \u001b[38;5;129;01min\u001b[39;00m FloatLike:\n",
      "File \u001b[0;32m~/Downloads/qrise-2024/.venv/lib/python3.11/site-packages/mitiq/executor/executor.py:256\u001b[0m, in \u001b[0;36mExecutor.run\u001b[0;34m(self, circuits, force_run_all, **kwargs)\u001b[0m\n\u001b[1;32m    254\u001b[0m \u001b[38;5;28;01mif\u001b[39;00m \u001b[38;5;129;01mnot\u001b[39;00m \u001b[38;5;28mself\u001b[39m\u001b[38;5;241m.\u001b[39mcan_batch:\n\u001b[1;32m    255\u001b[0m     \u001b[38;5;28;01mfor\u001b[39;00m circuit \u001b[38;5;129;01min\u001b[39;00m to_run:\n\u001b[0;32m--> 256\u001b[0m         \u001b[38;5;28;43mself\u001b[39;49m\u001b[38;5;241;43m.\u001b[39;49m\u001b[43m_call_executor\u001b[49m\u001b[43m(\u001b[49m\u001b[43mcircuit\u001b[49m\u001b[43m,\u001b[49m\u001b[43m \u001b[49m\u001b[38;5;241;43m*\u001b[39;49m\u001b[38;5;241;43m*\u001b[39;49m\u001b[43mkwargs\u001b[49m\u001b[43m)\u001b[49m\n\u001b[1;32m    258\u001b[0m \u001b[38;5;28;01melse\u001b[39;00m:\n\u001b[1;32m    259\u001b[0m     stop \u001b[38;5;241m=\u001b[39m \u001b[38;5;28mlen\u001b[39m(to_run)\n",
      "File \u001b[0;32m~/Downloads/qrise-2024/.venv/lib/python3.11/site-packages/mitiq/executor/executor.py:293\u001b[0m, in \u001b[0;36mExecutor._call_executor\u001b[0;34m(self, to_run, **kwargs)\u001b[0m\n\u001b[1;32m    283\u001b[0m \u001b[38;5;28;01mdef\u001b[39;00m \u001b[38;5;21m_call_executor\u001b[39m(\n\u001b[1;32m    284\u001b[0m     \u001b[38;5;28mself\u001b[39m, to_run: Union[QPROGRAM, Sequence[QPROGRAM]], \u001b[38;5;241m*\u001b[39m\u001b[38;5;241m*\u001b[39mkwargs: Any\n\u001b[1;32m    285\u001b[0m ) \u001b[38;5;241m-\u001b[39m\u001b[38;5;241m>\u001b[39m \u001b[38;5;28;01mNone\u001b[39;00m:\n\u001b[1;32m    286\u001b[0m \u001b[38;5;250m    \u001b[39m\u001b[38;5;124;03m\"\"\"Calls the executor on the input circuit(s) to run. Stores the\u001b[39;00m\n\u001b[1;32m    287\u001b[0m \u001b[38;5;124;03m    executed circuits in ``self._executed_circuits`` and the quantum\u001b[39;00m\n\u001b[1;32m    288\u001b[0m \u001b[38;5;124;03m    results in ``self._quantum_results``.\u001b[39;00m\n\u001b[0;32m   (...)\u001b[0m\n\u001b[1;32m    291\u001b[0m \u001b[38;5;124;03m        to_run: Circuit(s) to run.\u001b[39;00m\n\u001b[1;32m    292\u001b[0m \u001b[38;5;124;03m    \"\"\"\u001b[39;00m\n\u001b[0;32m--> 293\u001b[0m     result \u001b[38;5;241m=\u001b[39m \u001b[38;5;28;43mself\u001b[39;49m\u001b[38;5;241;43m.\u001b[39;49m\u001b[43m_executor\u001b[49m\u001b[43m(\u001b[49m\u001b[43mto_run\u001b[49m\u001b[43m,\u001b[49m\u001b[43m \u001b[49m\u001b[38;5;241;43m*\u001b[39;49m\u001b[38;5;241;43m*\u001b[39;49m\u001b[43mkwargs\u001b[49m\u001b[43m)\u001b[49m\n\u001b[1;32m    294\u001b[0m     \u001b[38;5;28mself\u001b[39m\u001b[38;5;241m.\u001b[39m_calls_to_executor \u001b[38;5;241m+\u001b[39m\u001b[38;5;241m=\u001b[39m \u001b[38;5;241m1\u001b[39m\n\u001b[1;32m    296\u001b[0m     \u001b[38;5;28;01mif\u001b[39;00m \u001b[38;5;28mself\u001b[39m\u001b[38;5;241m.\u001b[39mcan_batch:\n",
      "File \u001b[0;32m~/Downloads/qrise-2024/.venv/lib/python3.11/site-packages/mitiq/qse/qse.py:94\u001b[0m, in \u001b[0;36mmitigate_executor.<locals>.new_executor\u001b[0;34m(circuit)\u001b[0m\n\u001b[1;32m     92\u001b[0m \u001b[38;5;129m@wraps\u001b[39m(executor)\n\u001b[1;32m     93\u001b[0m \u001b[38;5;28;01mdef\u001b[39;00m \u001b[38;5;21mnew_executor\u001b[39m(circuit: QPROGRAM) \u001b[38;5;241m-\u001b[39m\u001b[38;5;241m>\u001b[39m \u001b[38;5;28mfloat\u001b[39m:\n\u001b[0;32m---> 94\u001b[0m     \u001b[38;5;28;01mreturn\u001b[39;00m \u001b[43mexecute_with_qse\u001b[49m\u001b[43m(\u001b[49m\n\u001b[1;32m     95\u001b[0m \u001b[43m        \u001b[49m\u001b[43mcircuit\u001b[49m\u001b[43m,\u001b[49m\n\u001b[1;32m     96\u001b[0m \u001b[43m        \u001b[49m\u001b[43mexecutor\u001b[49m\u001b[43m,\u001b[49m\n\u001b[1;32m     97\u001b[0m \u001b[43m        \u001b[49m\u001b[43mcheck_operators\u001b[49m\u001b[43m,\u001b[49m\n\u001b[1;32m     98\u001b[0m \u001b[43m        \u001b[49m\u001b[43mcode_hamiltonian\u001b[49m\u001b[43m,\u001b[49m\n\u001b[1;32m     99\u001b[0m \u001b[43m        \u001b[49m\u001b[43mobservable\u001b[49m\u001b[43m,\u001b[49m\n\u001b[1;32m    100\u001b[0m \u001b[43m        \u001b[49m\u001b[43mpauli_string_to_expectation_cache\u001b[49m\u001b[43m,\u001b[49m\n\u001b[1;32m    101\u001b[0m \u001b[43m    \u001b[49m\u001b[43m)\u001b[49m\n",
      "File \u001b[0;32m~/Downloads/qrise-2024/.venv/lib/python3.11/site-packages/mitiq/qse/qse.py:43\u001b[0m, in \u001b[0;36mexecute_with_qse\u001b[0;34m(circuit, executor, check_operators, code_hamiltonian, observable, pauli_string_to_expectation_cache)\u001b[0m\n\u001b[1;32m     19\u001b[0m \u001b[38;5;28;01mdef\u001b[39;00m \u001b[38;5;21mexecute_with_qse\u001b[39m(\n\u001b[1;32m     20\u001b[0m     circuit: QPROGRAM,\n\u001b[1;32m     21\u001b[0m     executor: Union[Executor, Callable[[QPROGRAM], QuantumResult]],\n\u001b[0;32m   (...)\u001b[0m\n\u001b[1;32m     25\u001b[0m     pauli_string_to_expectation_cache: Dict[PauliString, \u001b[38;5;28mcomplex\u001b[39m] \u001b[38;5;241m=\u001b[39m {},\n\u001b[1;32m     26\u001b[0m ) \u001b[38;5;241m-\u001b[39m\u001b[38;5;241m>\u001b[39m \u001b[38;5;28mfloat\u001b[39m:\n\u001b[1;32m     27\u001b[0m \u001b[38;5;250m    \u001b[39m\u001b[38;5;124;03m\"\"\"Function for the calculation of an observable from some circuit of\u001b[39;00m\n\u001b[1;32m     28\u001b[0m \u001b[38;5;124;03m    interest to be mitigated with quantum subspace expansion (QSE).\u001b[39;00m\n\u001b[1;32m     29\u001b[0m \n\u001b[0;32m   (...)\u001b[0m\n\u001b[1;32m     41\u001b[0m \u001b[38;5;124;03m        The expectation value estimated with QSE.\u001b[39;00m\n\u001b[1;32m     42\u001b[0m \u001b[38;5;124;03m    \"\"\"\u001b[39;00m\n\u001b[0;32m---> 43\u001b[0m     projector \u001b[38;5;241m=\u001b[39m \u001b[43mget_projector\u001b[49m\u001b[43m(\u001b[49m\n\u001b[1;32m     44\u001b[0m \u001b[43m        \u001b[49m\u001b[43mcircuit\u001b[49m\u001b[43m,\u001b[49m\n\u001b[1;32m     45\u001b[0m \u001b[43m        \u001b[49m\u001b[43mexecutor\u001b[49m\u001b[43m,\u001b[49m\n\u001b[1;32m     46\u001b[0m \u001b[43m        \u001b[49m\u001b[43mcheck_operators\u001b[49m\u001b[43m,\u001b[49m\n\u001b[1;32m     47\u001b[0m \u001b[43m        \u001b[49m\u001b[43mcode_hamiltonian\u001b[49m\u001b[43m,\u001b[49m\n\u001b[1;32m     48\u001b[0m \u001b[43m        \u001b[49m\u001b[43mpauli_string_to_expectation_cache\u001b[49m\u001b[43m,\u001b[49m\n\u001b[1;32m     49\u001b[0m \u001b[43m    \u001b[49m\u001b[43m)\u001b[49m\n\u001b[1;32m     50\u001b[0m     \u001b[38;5;66;03m# Compute the expectation value of the observable: <P O P>\u001b[39;00m\n\u001b[1;32m     51\u001b[0m     pop \u001b[38;5;241m=\u001b[39m get_expectation_value_for_observable(\n\u001b[1;32m     52\u001b[0m         circuit,\n\u001b[1;32m     53\u001b[0m         executor,\n\u001b[1;32m     54\u001b[0m         projector \u001b[38;5;241m*\u001b[39m observable \u001b[38;5;241m*\u001b[39m projector,\n\u001b[1;32m     55\u001b[0m         pauli_string_to_expectation_cache,\n\u001b[1;32m     56\u001b[0m     )\n",
      "File \u001b[0;32m~/Downloads/qrise-2024/.venv/lib/python3.11/site-packages/mitiq/qse/qse_utils.py:31\u001b[0m, in \u001b[0;36mget_projector\u001b[0;34m(circuit, executor, check_operators, code_hamiltonian, pauli_string_to_expectation_cache)\u001b[0m\n\u001b[1;32m     19\u001b[0m \u001b[38;5;28;01mdef\u001b[39;00m \u001b[38;5;21mget_projector\u001b[39m(\n\u001b[1;32m     20\u001b[0m     circuit: QPROGRAM,\n\u001b[1;32m     21\u001b[0m     executor: Union[Executor, Callable[[QPROGRAM], QuantumResult]],\n\u001b[0;32m   (...)\u001b[0m\n\u001b[1;32m     24\u001b[0m     pauli_string_to_expectation_cache: Dict[PauliString, \u001b[38;5;28mcomplex\u001b[39m] \u001b[38;5;241m=\u001b[39m {},\n\u001b[1;32m     25\u001b[0m ) \u001b[38;5;241m-\u001b[39m\u001b[38;5;241m>\u001b[39m Observable:\n\u001b[1;32m     26\u001b[0m \u001b[38;5;250m    \u001b[39m\u001b[38;5;124;03m\"\"\"Computes the projector onto the code space defined by the\u001b[39;00m\n\u001b[1;32m     27\u001b[0m \u001b[38;5;124;03m    check_operators provided that minimizes the code_hamiltonian.\u001b[39;00m\n\u001b[1;32m     28\u001b[0m \n\u001b[1;32m     29\u001b[0m \u001b[38;5;124;03m    Returns: Projector as an Observable.\u001b[39;00m\n\u001b[1;32m     30\u001b[0m \u001b[38;5;124;03m    \"\"\"\u001b[39;00m\n\u001b[0;32m---> 31\u001b[0m     S \u001b[38;5;241m=\u001b[39m \u001b[43m_compute_overlap_matrix\u001b[49m\u001b[43m(\u001b[49m\n\u001b[1;32m     32\u001b[0m \u001b[43m        \u001b[49m\u001b[43mcircuit\u001b[49m\u001b[43m,\u001b[49m\u001b[43m \u001b[49m\u001b[43mexecutor\u001b[49m\u001b[43m,\u001b[49m\u001b[43m \u001b[49m\u001b[43mcheck_operators\u001b[49m\u001b[43m,\u001b[49m\u001b[43m \u001b[49m\u001b[43mpauli_string_to_expectation_cache\u001b[49m\n\u001b[1;32m     33\u001b[0m \u001b[43m    \u001b[49m\u001b[43m)\u001b[49m\n\u001b[1;32m     34\u001b[0m     H \u001b[38;5;241m=\u001b[39m _compute_overlap_matrix(\n\u001b[1;32m     35\u001b[0m         circuit,\n\u001b[1;32m     36\u001b[0m         executor,\n\u001b[0;32m   (...)\u001b[0m\n\u001b[1;32m     39\u001b[0m         code_hamiltonian,\n\u001b[1;32m     40\u001b[0m     )\n\u001b[1;32m     41\u001b[0m     \u001b[38;5;66;03m# We only want the smallest eigenvalue and corresponding eigenvector\u001b[39;00m\n",
      "File \u001b[0;32m~/Downloads/qrise-2024/.venv/lib/python3.11/site-packages/mitiq/qse/qse_utils.py:108\u001b[0m, in \u001b[0;36m_compute_overlap_matrix\u001b[0;34m(circuit, executor, check_operators, pauli_expectation_cache, code_hamiltonian)\u001b[0m\n\u001b[1;32m    106\u001b[0m     \u001b[38;5;28;01melse\u001b[39;00m:\n\u001b[1;32m    107\u001b[0m         observable \u001b[38;5;241m=\u001b[39m check_operators[i] \u001b[38;5;241m*\u001b[39m check_operators[j]\n\u001b[0;32m--> 108\u001b[0m     H[i, j] \u001b[38;5;241m=\u001b[39m \u001b[43mget_expectation_value_for_observable\u001b[49m\u001b[43m(\u001b[49m\n\u001b[1;32m    109\u001b[0m \u001b[43m        \u001b[49m\u001b[43mcircuit\u001b[49m\u001b[43m,\u001b[49m\u001b[43m \u001b[49m\u001b[43mexecutor\u001b[49m\u001b[43m,\u001b[49m\u001b[43m \u001b[49m\u001b[43mobservable\u001b[49m\u001b[43m,\u001b[49m\u001b[43m \u001b[49m\u001b[43mpauli_expectation_cache\u001b[49m\n\u001b[1;32m    110\u001b[0m \u001b[43m    \u001b[49m\u001b[43m)\u001b[49m\n\u001b[1;32m    111\u001b[0m \u001b[38;5;28;01mreturn\u001b[39;00m H\n",
      "File \u001b[0;32m~/Downloads/qrise-2024/.venv/lib/python3.11/site-packages/mitiq/qse/qse_utils.py:83\u001b[0m, in \u001b[0;36mget_expectation_value_for_observable\u001b[0;34m(circuit, executor, observable, pauli_expectation_cache)\u001b[0m\n\u001b[1;32m     76\u001b[0m     \u001b[38;5;28;01mreturn\u001b[39;00m (pauli_expectation_cache[cache_key] \u001b[38;5;241m*\u001b[39m pauli_string\u001b[38;5;241m.\u001b[39mcoeff)\u001b[38;5;241m.\u001b[39mreal\n\u001b[1;32m     78\u001b[0m paulis \u001b[38;5;241m=\u001b[39m (\n\u001b[1;32m     79\u001b[0m     [observable]\n\u001b[1;32m     80\u001b[0m     \u001b[38;5;28;01mif\u001b[39;00m \u001b[38;5;28misinstance\u001b[39m(observable, PauliString)\n\u001b[1;32m     81\u001b[0m     \u001b[38;5;28;01melse\u001b[39;00m observable\u001b[38;5;241m.\u001b[39mpaulis\n\u001b[1;32m     82\u001b[0m )\n\u001b[0;32m---> 83\u001b[0m expectation_value \u001b[38;5;241m=\u001b[39m \u001b[38;5;28;43msum\u001b[39;49m\u001b[43m(\u001b[49m\n\u001b[1;32m     84\u001b[0m \u001b[43m    \u001b[49m\u001b[43mget_expectation_value_for_one_pauli\u001b[49m\u001b[43m(\u001b[49m\u001b[43mpauli\u001b[49m\u001b[43m)\u001b[49m\u001b[43m \u001b[49m\u001b[38;5;28;43;01mfor\u001b[39;49;00m\u001b[43m \u001b[49m\u001b[43mpauli\u001b[49m\u001b[43m \u001b[49m\u001b[38;5;129;43;01min\u001b[39;49;00m\u001b[43m \u001b[49m\u001b[43mpaulis\u001b[49m\n\u001b[1;32m     85\u001b[0m \u001b[43m\u001b[49m\u001b[43m)\u001b[49m\n\u001b[1;32m     86\u001b[0m \u001b[38;5;28;01mreturn\u001b[39;00m expectation_value\n",
      "File \u001b[0;32m~/Downloads/qrise-2024/.venv/lib/python3.11/site-packages/mitiq/qse/qse_utils.py:84\u001b[0m, in \u001b[0;36m<genexpr>\u001b[0;34m(.0)\u001b[0m\n\u001b[1;32m     76\u001b[0m     \u001b[38;5;28;01mreturn\u001b[39;00m (pauli_expectation_cache[cache_key] \u001b[38;5;241m*\u001b[39m pauli_string\u001b[38;5;241m.\u001b[39mcoeff)\u001b[38;5;241m.\u001b[39mreal\n\u001b[1;32m     78\u001b[0m paulis \u001b[38;5;241m=\u001b[39m (\n\u001b[1;32m     79\u001b[0m     [observable]\n\u001b[1;32m     80\u001b[0m     \u001b[38;5;28;01mif\u001b[39;00m \u001b[38;5;28misinstance\u001b[39m(observable, PauliString)\n\u001b[1;32m     81\u001b[0m     \u001b[38;5;28;01melse\u001b[39;00m observable\u001b[38;5;241m.\u001b[39mpaulis\n\u001b[1;32m     82\u001b[0m )\n\u001b[1;32m     83\u001b[0m expectation_value \u001b[38;5;241m=\u001b[39m \u001b[38;5;28msum\u001b[39m(\n\u001b[0;32m---> 84\u001b[0m     \u001b[43mget_expectation_value_for_one_pauli\u001b[49m\u001b[43m(\u001b[49m\u001b[43mpauli\u001b[49m\u001b[43m)\u001b[49m \u001b[38;5;28;01mfor\u001b[39;00m pauli \u001b[38;5;129;01min\u001b[39;00m paulis\n\u001b[1;32m     85\u001b[0m )\n\u001b[1;32m     86\u001b[0m \u001b[38;5;28;01mreturn\u001b[39;00m expectation_value\n",
      "File \u001b[0;32m~/Downloads/qrise-2024/.venv/lib/python3.11/site-packages/mitiq/qse/qse_utils.py:73\u001b[0m, in \u001b[0;36mget_expectation_value_for_observable.<locals>.get_expectation_value_for_one_pauli\u001b[0;34m(pauli_string)\u001b[0m\n\u001b[1;32m     69\u001b[0m \u001b[38;5;28;01mdef\u001b[39;00m \u001b[38;5;21mget_expectation_value_for_one_pauli\u001b[39m(\n\u001b[1;32m     70\u001b[0m     pauli_string: PauliString,\n\u001b[1;32m     71\u001b[0m ) \u001b[38;5;241m-\u001b[39m\u001b[38;5;241m>\u001b[39m \u001b[38;5;28mfloat\u001b[39m:\n\u001b[1;32m     72\u001b[0m     cache_key \u001b[38;5;241m=\u001b[39m pauli_string\u001b[38;5;241m.\u001b[39mwith_coeff(\u001b[38;5;241m1\u001b[39m)\n\u001b[0;32m---> 73\u001b[0m     pauli_expectation_cache[cache_key] \u001b[38;5;241m=\u001b[39m \u001b[43mfinal_executor\u001b[49m\u001b[38;5;241;43m.\u001b[39;49m\u001b[43mevaluate\u001b[49m\u001b[43m(\u001b[49m\n\u001b[1;32m     74\u001b[0m \u001b[43m        \u001b[49m\u001b[43mcircuit\u001b[49m\u001b[43m,\u001b[49m\u001b[43m \u001b[49m\u001b[43mObservable\u001b[49m\u001b[43m(\u001b[49m\u001b[43mcache_key\u001b[49m\u001b[43m)\u001b[49m\n\u001b[1;32m     75\u001b[0m \u001b[43m    \u001b[49m\u001b[43m)\u001b[49m[\u001b[38;5;241m0\u001b[39m]\n\u001b[1;32m     76\u001b[0m     \u001b[38;5;28;01mreturn\u001b[39;00m (pauli_expectation_cache[cache_key] \u001b[38;5;241m*\u001b[39m pauli_string\u001b[38;5;241m.\u001b[39mcoeff)\u001b[38;5;241m.\u001b[39mreal\n",
      "File \u001b[0;32m~/Downloads/qrise-2024/.venv/lib/python3.11/site-packages/mitiq/executor/executor.py:168\u001b[0m, in \u001b[0;36mExecutor.evaluate\u001b[0;34m(self, circuits, observable, force_run_all, **kwargs)\u001b[0m\n\u001b[1;32m    162\u001b[0m     result_step \u001b[38;5;241m=\u001b[39m observable\u001b[38;5;241m.\u001b[39mngroups\n\u001b[1;32m    163\u001b[0m \u001b[38;5;28;01melif\u001b[39;00m (\n\u001b[1;32m    164\u001b[0m     observable \u001b[38;5;129;01mis\u001b[39;00m \u001b[38;5;129;01mnot\u001b[39;00m \u001b[38;5;28;01mNone\u001b[39;00m\n\u001b[1;32m    165\u001b[0m     \u001b[38;5;129;01mand\u001b[39;00m \u001b[38;5;28mself\u001b[39m\u001b[38;5;241m.\u001b[39m_executor_return_type \u001b[38;5;129;01mnot\u001b[39;00m \u001b[38;5;129;01min\u001b[39;00m MeasurementResultLike\n\u001b[1;32m    166\u001b[0m     \u001b[38;5;129;01mand\u001b[39;00m \u001b[38;5;28mself\u001b[39m\u001b[38;5;241m.\u001b[39m_executor_return_type \u001b[38;5;129;01mnot\u001b[39;00m \u001b[38;5;129;01min\u001b[39;00m DensityMatrixLike\n\u001b[1;32m    167\u001b[0m ):\n\u001b[0;32m--> 168\u001b[0m     \u001b[38;5;28;01mraise\u001b[39;00m \u001b[38;5;167;01mValueError\u001b[39;00m(\n\u001b[1;32m    169\u001b[0m \u001b[38;5;250m        \u001b[39m\u001b[38;5;124;03m\"\"\"Executor and observable are not compatible. Executors\u001b[39;00m\n\u001b[1;32m    170\u001b[0m \u001b[38;5;124;03m        returning expectation values as float must be used with\u001b[39;00m\n\u001b[1;32m    171\u001b[0m \u001b[38;5;124;03m        observable=None\"\"\"\u001b[39;00m\n\u001b[1;32m    172\u001b[0m     )\n\u001b[1;32m    173\u001b[0m \u001b[38;5;28;01melse\u001b[39;00m:\n\u001b[1;32m    174\u001b[0m     all_circuits \u001b[38;5;241m=\u001b[39m circuits\n",
      "\u001b[0;31mValueError\u001b[0m: Executor and observable are not compatible. Executors\n                returning expectation values as float must be used with\n                observable=None"
     ]
    }
   ],
   "source": [
    "chain = [\"QSE\", \"ZNE\"] # MODIFY THIS LINE\n",
    "\n",
    "executable = execute\n",
    "\n",
    "for method in chain:\n",
    "    executable = compose(executable, method)\n",
    "\n",
    "executable(circuit)"
   ]
  },
  {
   "cell_type": "code",
   "execution_count": null,
   "metadata": {},
   "outputs": [],
   "source": []
  }
 ],
 "metadata": {
  "kernelspec": {
   "display_name": ".venv",
   "language": "python",
   "name": "python3"
  },
  "language_info": {
   "codemirror_mode": {
    "name": "ipython",
    "version": 3
   },
   "file_extension": ".py",
   "mimetype": "text/x-python",
   "name": "python",
   "nbconvert_exporter": "python",
   "pygments_lexer": "ipython3",
   "version": "3.11.6+"
  }
 },
 "nbformat": 4,
 "nbformat_minor": 2
}
