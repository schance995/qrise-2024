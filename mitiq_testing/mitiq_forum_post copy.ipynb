{
 "cells": [
  {
   "cell_type": "code",
   "execution_count": 26,
   "metadata": {},
   "outputs": [
    {
     "name": "stdout",
     "output_type": "stream",
     "text": [
      "Mitigated value obtained with REM: 0.75800\n",
      "Mitigated value obtained with REM + ZNE: 0.99800\n",
      "Mitigated value obtained with REM + DDD: 0.72400\n"
     ]
    },
    {
     "ename": "AttributeError",
     "evalue": "'NoneType' object has no attribute '_expectation_from_measurements'",
     "output_type": "error",
     "traceback": [
      "\u001b[0;31m---------------------------------------------------------------------------\u001b[0m",
      "\u001b[0;31mAttributeError\u001b[0m                            Traceback (most recent call last)",
      "Cell \u001b[0;32mIn[26], line 69\u001b[0m\n\u001b[1;32m     63\u001b[0m rule \u001b[38;5;241m=\u001b[39m ddd\u001b[38;5;241m.\u001b[39mrules\u001b[38;5;241m.\u001b[39mxx\n\u001b[1;32m     65\u001b[0m rem_zne_ddd_executor \u001b[38;5;241m=\u001b[39m ddd\u001b[38;5;241m.\u001b[39mmitigate_executor(\n\u001b[1;32m     66\u001b[0m     rem_zne_executor, rule\u001b[38;5;241m=\u001b[39mrule\n\u001b[1;32m     67\u001b[0m )\n\u001b[0;32m---> 69\u001b[0m rem_zne_ddd_result \u001b[38;5;241m=\u001b[39m \u001b[43mrem_zne_ddd_executor\u001b[49m\u001b[43m(\u001b[49m\u001b[43mcircuit\u001b[49m\u001b[43m)\u001b[49m\n\u001b[1;32m     70\u001b[0m \u001b[38;5;28mprint\u001b[39m(\u001b[38;5;124m\"\u001b[39m\u001b[38;5;124mMitigated value obtained with REM + ZNE + DDD:\u001b[39m\u001b[38;5;124m\"\u001b[39m, \u001b[38;5;124m\"\u001b[39m\u001b[38;5;132;01m{:.5f}\u001b[39;00m\u001b[38;5;124m\"\u001b[39m\u001b[38;5;241m.\u001b[39mformat(rem_zne_ddd_result\u001b[38;5;241m.\u001b[39mreal))\n",
      "File \u001b[0;32m~/Downloads/qrise-2024/.venv/lib/python3.11/site-packages/mitiq/ddd/ddd.py:130\u001b[0m, in \u001b[0;36mmitigate_executor.<locals>.new_executor\u001b[0;34m(circuit)\u001b[0m\n\u001b[1;32m    126\u001b[0m \u001b[38;5;129m@wraps\u001b[39m(executor)\n\u001b[1;32m    127\u001b[0m \u001b[38;5;28;01mdef\u001b[39;00m \u001b[38;5;21mnew_executor\u001b[39m(\n\u001b[1;32m    128\u001b[0m     circuit: QPROGRAM,\n\u001b[1;32m    129\u001b[0m ) \u001b[38;5;241m-\u001b[39m\u001b[38;5;241m>\u001b[39m Union[\u001b[38;5;28mfloat\u001b[39m, Tuple[\u001b[38;5;28mfloat\u001b[39m, Dict[\u001b[38;5;28mstr\u001b[39m, Any]]]:\n\u001b[0;32m--> 130\u001b[0m     \u001b[38;5;28;01mreturn\u001b[39;00m \u001b[43mexecute_with_ddd\u001b[49m\u001b[43m(\u001b[49m\n\u001b[1;32m    131\u001b[0m \u001b[43m        \u001b[49m\u001b[43mcircuit\u001b[49m\u001b[43m,\u001b[49m\n\u001b[1;32m    132\u001b[0m \u001b[43m        \u001b[49m\u001b[43mexecutor\u001b[49m\u001b[43m,\u001b[49m\n\u001b[1;32m    133\u001b[0m \u001b[43m        \u001b[49m\u001b[43mobservable\u001b[49m\u001b[43m,\u001b[49m\n\u001b[1;32m    134\u001b[0m \u001b[43m        \u001b[49m\u001b[43mrule\u001b[49m\u001b[38;5;241;43m=\u001b[39;49m\u001b[43mrule\u001b[49m\u001b[43m,\u001b[49m\n\u001b[1;32m    135\u001b[0m \u001b[43m        \u001b[49m\u001b[43mrule_args\u001b[49m\u001b[38;5;241;43m=\u001b[39;49m\u001b[43mrule_args\u001b[49m\u001b[43m,\u001b[49m\n\u001b[1;32m    136\u001b[0m \u001b[43m        \u001b[49m\u001b[43mnum_trials\u001b[49m\u001b[38;5;241;43m=\u001b[39;49m\u001b[43mnum_trials\u001b[49m\u001b[43m,\u001b[49m\n\u001b[1;32m    137\u001b[0m \u001b[43m        \u001b[49m\u001b[43mfull_output\u001b[49m\u001b[38;5;241;43m=\u001b[39;49m\u001b[43mfull_output\u001b[49m\u001b[43m,\u001b[49m\n\u001b[1;32m    138\u001b[0m \u001b[43m    \u001b[49m\u001b[43m)\u001b[49m\n",
      "File \u001b[0;32m~/Downloads/qrise-2024/.venv/lib/python3.11/site-packages/mitiq/ddd/ddd.py:69\u001b[0m, in \u001b[0;36mexecute_with_ddd\u001b[0;34m(circuit, executor, observable, rule, rule_args, num_trials, full_output)\u001b[0m\n\u001b[1;32m     65\u001b[0m \u001b[38;5;66;03m# Insert DDD sequences in (a copy of) the input circuit\u001b[39;00m\n\u001b[1;32m     66\u001b[0m circuits_with_ddd \u001b[38;5;241m=\u001b[39m [\n\u001b[1;32m     67\u001b[0m     insert_ddd_sequences(circuit, rule_partial) \u001b[38;5;28;01mfor\u001b[39;00m _ \u001b[38;5;129;01min\u001b[39;00m \u001b[38;5;28mrange\u001b[39m(num_trials)\n\u001b[1;32m     68\u001b[0m ]\n\u001b[0;32m---> 69\u001b[0m results \u001b[38;5;241m=\u001b[39m \u001b[43mexecutor\u001b[49m\u001b[38;5;241;43m.\u001b[39;49m\u001b[43mevaluate\u001b[49m\u001b[43m(\u001b[49m\n\u001b[1;32m     70\u001b[0m \u001b[43m    \u001b[49m\u001b[43mcircuits_with_ddd\u001b[49m\u001b[43m,\u001b[49m\n\u001b[1;32m     71\u001b[0m \u001b[43m    \u001b[49m\u001b[43mobservable\u001b[49m\u001b[43m,\u001b[49m\n\u001b[1;32m     72\u001b[0m \u001b[43m    \u001b[49m\u001b[43mforce_run_all\u001b[49m\u001b[38;5;241;43m=\u001b[39;49m\u001b[38;5;28;43;01mTrue\u001b[39;49;00m\u001b[43m,\u001b[49m\n\u001b[1;32m     73\u001b[0m \u001b[43m\u001b[49m\u001b[43m)\u001b[49m\n\u001b[1;32m     75\u001b[0m \u001b[38;5;28;01massert\u001b[39;00m \u001b[38;5;28mlen\u001b[39m(results) \u001b[38;5;241m==\u001b[39m num_trials\n\u001b[1;32m     77\u001b[0m ddd_value \u001b[38;5;241m=\u001b[39m np\u001b[38;5;241m.\u001b[39msum(results) \u001b[38;5;241m/\u001b[39m num_trials\n",
      "File \u001b[0;32m~/Downloads/qrise-2024/.venv/lib/python3.11/site-packages/mitiq/executor/executor.py:197\u001b[0m, in \u001b[0;36mExecutor.evaluate\u001b[0;34m(self, circuits, observable, force_run_all, **kwargs)\u001b[0m\n\u001b[1;32m    195\u001b[0m     observable \u001b[38;5;241m=\u001b[39m cast(Observable, observable)\n\u001b[1;32m    196\u001b[0m     all_results \u001b[38;5;241m=\u001b[39m cast(List[MeasurementResult], all_results)\n\u001b[0;32m--> 197\u001b[0m     results \u001b[38;5;241m=\u001b[39m \u001b[43m[\u001b[49m\n\u001b[1;32m    198\u001b[0m \u001b[43m        \u001b[49m\u001b[43mobservable\u001b[49m\u001b[38;5;241;43m.\u001b[39;49m\u001b[43m_expectation_from_measurements\u001b[49m\u001b[43m(\u001b[49m\n\u001b[1;32m    199\u001b[0m \u001b[43m            \u001b[49m\u001b[43mall_results\u001b[49m\u001b[43m[\u001b[49m\u001b[43mi\u001b[49m\u001b[43m \u001b[49m\u001b[43m:\u001b[49m\u001b[43m \u001b[49m\u001b[43mi\u001b[49m\u001b[43m \u001b[49m\u001b[38;5;241;43m+\u001b[39;49m\u001b[43m \u001b[49m\u001b[43mresult_step\u001b[49m\u001b[43m]\u001b[49m\n\u001b[1;32m    200\u001b[0m \u001b[43m        \u001b[49m\u001b[43m)\u001b[49m\n\u001b[1;32m    201\u001b[0m \u001b[43m        \u001b[49m\u001b[38;5;28;43;01mfor\u001b[39;49;00m\u001b[43m \u001b[49m\u001b[43mi\u001b[49m\u001b[43m \u001b[49m\u001b[38;5;129;43;01min\u001b[39;49;00m\u001b[43m \u001b[49m\u001b[38;5;28;43mrange\u001b[39;49m\u001b[43m(\u001b[49m\u001b[38;5;28;43mlen\u001b[39;49m\u001b[43m(\u001b[49m\u001b[43mall_results\u001b[49m\u001b[43m)\u001b[49m\u001b[43m \u001b[49m\u001b[38;5;241;43m/\u001b[39;49m\u001b[38;5;241;43m/\u001b[39;49m\u001b[43m \u001b[49m\u001b[43mresult_step\u001b[49m\u001b[43m)\u001b[49m\n\u001b[1;32m    202\u001b[0m \u001b[43m    \u001b[49m\u001b[43m]\u001b[49m\n\u001b[1;32m    204\u001b[0m \u001b[38;5;28;01melse\u001b[39;00m:\n\u001b[1;32m    205\u001b[0m     \u001b[38;5;28;01mraise\u001b[39;00m \u001b[38;5;167;01mValueError\u001b[39;00m(\n\u001b[1;32m    206\u001b[0m         \u001b[38;5;124mf\u001b[39m\u001b[38;5;124m\"\u001b[39m\u001b[38;5;124mCould not parse executed results from executor with type\u001b[39m\u001b[38;5;124m\"\u001b[39m\n\u001b[1;32m    207\u001b[0m         \u001b[38;5;124mf\u001b[39m\u001b[38;5;124m\"\u001b[39m\u001b[38;5;124m \u001b[39m\u001b[38;5;132;01m{\u001b[39;00m\u001b[38;5;28mself\u001b[39m\u001b[38;5;241m.\u001b[39m_executor_return_type\u001b[38;5;132;01m}\u001b[39;00m\u001b[38;5;124m.\u001b[39m\u001b[38;5;124m\"\u001b[39m\n\u001b[1;32m    208\u001b[0m     )\n",
      "File \u001b[0;32m~/Downloads/qrise-2024/.venv/lib/python3.11/site-packages/mitiq/executor/executor.py:198\u001b[0m, in \u001b[0;36m<listcomp>\u001b[0;34m(.0)\u001b[0m\n\u001b[1;32m    195\u001b[0m     observable \u001b[38;5;241m=\u001b[39m cast(Observable, observable)\n\u001b[1;32m    196\u001b[0m     all_results \u001b[38;5;241m=\u001b[39m cast(List[MeasurementResult], all_results)\n\u001b[1;32m    197\u001b[0m     results \u001b[38;5;241m=\u001b[39m [\n\u001b[0;32m--> 198\u001b[0m         \u001b[43mobservable\u001b[49m\u001b[38;5;241;43m.\u001b[39;49m\u001b[43m_expectation_from_measurements\u001b[49m(\n\u001b[1;32m    199\u001b[0m             all_results[i : i \u001b[38;5;241m+\u001b[39m result_step]\n\u001b[1;32m    200\u001b[0m         )\n\u001b[1;32m    201\u001b[0m         \u001b[38;5;28;01mfor\u001b[39;00m i \u001b[38;5;129;01min\u001b[39;00m \u001b[38;5;28mrange\u001b[39m(\u001b[38;5;28mlen\u001b[39m(all_results) \u001b[38;5;241m/\u001b[39m\u001b[38;5;241m/\u001b[39m result_step)\n\u001b[1;32m    202\u001b[0m     ]\n\u001b[1;32m    204\u001b[0m \u001b[38;5;28;01melse\u001b[39;00m:\n\u001b[1;32m    205\u001b[0m     \u001b[38;5;28;01mraise\u001b[39;00m \u001b[38;5;167;01mValueError\u001b[39;00m(\n\u001b[1;32m    206\u001b[0m         \u001b[38;5;124mf\u001b[39m\u001b[38;5;124m\"\u001b[39m\u001b[38;5;124mCould not parse executed results from executor with type\u001b[39m\u001b[38;5;124m\"\u001b[39m\n\u001b[1;32m    207\u001b[0m         \u001b[38;5;124mf\u001b[39m\u001b[38;5;124m\"\u001b[39m\u001b[38;5;124m \u001b[39m\u001b[38;5;132;01m{\u001b[39;00m\u001b[38;5;28mself\u001b[39m\u001b[38;5;241m.\u001b[39m_executor_return_type\u001b[38;5;132;01m}\u001b[39;00m\u001b[38;5;124m.\u001b[39m\u001b[38;5;124m\"\u001b[39m\n\u001b[1;32m    208\u001b[0m     )\n",
      "\u001b[0;31mAttributeError\u001b[0m: 'NoneType' object has no attribute '_expectation_from_measurements'"
     ]
    }
   ],
   "source": [
    "import cirq\n",
    "import numpy as np\n",
    "from mitiq.benchmarks import generate_rb_circuits\n",
    "from mitiq import MeasurementResult, Observable, PauliString\n",
    "from functools import partial\n",
    "\n",
    "n_qubits = 2\n",
    "\n",
    "circuit = generate_rb_circuits(2, 10)[0]\n",
    "# a, b = cirq.LineQubit.range(2)\n",
    "obs = Observable(PauliString(\"ZZ\"))\n",
    "# circuit = cirq.Circuit(\n",
    "#     cirq.H(a), cirq.CNOT(a, b), cirq.measure(a, b)\n",
    "# )\n",
    "\n",
    "def execute(circuit: cirq.Circuit, noise_level: float = 0.002, p0: float = 0.05) -> MeasurementResult:\n",
    "    \"\"\"Execute a circuit with depolarizing noise of strength ``noise_level`` and readout errors ...\n",
    "    \"\"\"\n",
    "    measurements = circuit[-1]\n",
    "    circuit =  circuit[:-1]\n",
    "    circuit = circuit.with_noise(cirq.depolarize(noise_level))\n",
    "    circuit.append(cirq.bit_flip(p0).on_each(circuit.all_qubits()))\n",
    "    circuit.append(measurements)\n",
    "\n",
    "    simulator = cirq.DensityMatrixSimulator()\n",
    "\n",
    "    result = simulator.run(circuit, repetitions=1000)\n",
    "    bitstrings = np.column_stack(list(result.measurements.values()))\n",
    "    return MeasurementResult(bitstrings)\n",
    "\n",
    "\n",
    "# REM\n",
    "from mitiq import rem\n",
    "\n",
    "p0 = p1 = 0.05\n",
    "icm = rem.generate_inverse_confusion_matrix(2, p0, p1)\n",
    "rem_executor = rem.mitigate_executor(execute, inverse_confusion_matrix=icm)\n",
    "\n",
    "rem_result = obs.expectation(circuit, rem_executor)\n",
    "print(\"Mitigated value obtained with REM:\", \"{:.5f}\".format(rem_result.real))\n",
    "\n",
    "\n",
    "# Stack ZNE on top of REM\n",
    "from mitiq import zne\n",
    "rem_zne_executor = zne.mitigate_executor(rem_executor, observable=obs, scale_noise=zne.scaling.folding.fold_global)\n",
    "\n",
    "rem_zne_result = rem_zne_executor(circuit)\n",
    "print(\"Mitigated value obtained with REM + ZNE:\", \"{:.5f}\".format(rem_zne_result.real))\n",
    "\n",
    "# stack REM + DDD \n",
    "from mitiq import ddd\n",
    "rule = ddd.rules.xx\n",
    "\n",
    "rem_ddd_executor = ddd.mitigate_executor(\n",
    "    rem_executor, rule=rule, observable=obs\n",
    ")\n",
    "\n",
    "rem_ddd_result = rem_ddd_executor(circuit)\n",
    "print(\"Mitigated value obtained with REM + DDD:\", \"{:.5f}\".format(rem_ddd_result.real))\n",
    "\n",
    "# stack DDD on top of that\n",
    "from mitiq import ddd\n",
    "rule = ddd.rules.xx\n",
    "\n",
    "rem_zne_ddd_executor = ddd.mitigate_executor(\n",
    "    rem_zne_executor, rule=rule\n",
    ")\n",
    "\n",
    "rem_zne_ddd_result = rem_zne_ddd_executor(circuit)\n",
    "print(\"Mitigated value obtained with REM + ZNE + DDD:\", \"{:.5f}\".format(rem_zne_ddd_result.real))"
   ]
  },
  {
   "cell_type": "code",
   "execution_count": 27,
   "metadata": {},
   "outputs": [
    {
     "data": {
      "text/plain": [
       "(0.9700000000000004+0j)"
      ]
     },
     "execution_count": 27,
     "metadata": {},
     "output_type": "execute_result"
    }
   ],
   "source": [
    "zne.execute_with_zne(circuit, execute, obs)"
   ]
  }
 ],
 "metadata": {
  "kernelspec": {
   "display_name": ".venv",
   "language": "python",
   "name": "python3"
  },
  "language_info": {
   "codemirror_mode": {
    "name": "ipython",
    "version": 3
   },
   "file_extension": ".py",
   "mimetype": "text/x-python",
   "name": "python",
   "nbconvert_exporter": "python",
   "pygments_lexer": "ipython3",
   "version": "3.11.6"
  }
 },
 "nbformat": 4,
 "nbformat_minor": 2
}
